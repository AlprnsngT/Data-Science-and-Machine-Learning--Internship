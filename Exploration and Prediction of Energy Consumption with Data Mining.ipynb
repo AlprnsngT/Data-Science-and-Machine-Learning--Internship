{
 "cells": [
  {
   "cell_type": "code",
   "execution_count": 2,
   "metadata": {},
   "outputs": [
    {
     "ename": "ModuleNotFoundError",
     "evalue": "No module named 'tensorflow'",
     "output_type": "error",
     "traceback": [
      "\u001b[1;31m---------------------------------------------------------------------------\u001b[0m",
      "\u001b[1;31mModuleNotFoundError\u001b[0m                       Traceback (most recent call last)",
      "Input \u001b[1;32mIn [2]\u001b[0m, in \u001b[0;36m<cell line: 9>\u001b[1;34m()\u001b[0m\n\u001b[0;32m      7\u001b[0m \u001b[38;5;28;01mimport\u001b[39;00m \u001b[38;5;21;01mplotly\u001b[39;00m\u001b[38;5;21;01m.\u001b[39;00m\u001b[38;5;21;01mexpress\u001b[39;00m \u001b[38;5;28;01mas\u001b[39;00m \u001b[38;5;21;01mpx\u001b[39;00m\n\u001b[0;32m      8\u001b[0m \u001b[38;5;28;01mfrom\u001b[39;00m \u001b[38;5;21;01msklearn\u001b[39;00m\u001b[38;5;21;01m.\u001b[39;00m\u001b[38;5;21;01mmetrics\u001b[39;00m \u001b[38;5;28;01mimport\u001b[39;00m r2_score\n\u001b[1;32m----> 9\u001b[0m \u001b[38;5;28;01mfrom\u001b[39;00m \u001b[38;5;21;01mtensorflow\u001b[39;00m\u001b[38;5;21;01m.\u001b[39;00m\u001b[38;5;21;01mkeras\u001b[39;00m\u001b[38;5;21;01m.\u001b[39;00m\u001b[38;5;21;01mmodels\u001b[39;00m \u001b[38;5;28;01mimport\u001b[39;00m Sequential\n",
      "\u001b[1;31mModuleNotFoundError\u001b[0m: No module named 'tensorflow'"
     ]
    }
   ],
   "source": [
    "import pandas as pd\n",
    "import seaborn as sns\n",
    "import matplotlib.pyplot as plt\n",
    "from sklearn.preprocessing import StandardScaler,MinMaxScaler\n",
    "import datetime as ds\n",
    "import numpy as np\n",
    "import plotly.express as px\n",
    "from sklearn.metrics import r2_score\n",
    "from tensorflow.keras.models import Sequential"
   ]
  },
  {
   "cell_type": "code",
   "execution_count": 3,
   "metadata": {},
   "outputs": [
    {
     "name": "stdout",
     "output_type": "stream",
     "text": [
      "Collecting tensorflow\n",
      "  Downloading tensorflow-2.10.0-cp39-cp39-win_amd64.whl (455.9 MB)\n",
      "Requirement already satisfied: typing-extensions>=3.6.6 in c:\\users\\alper\\anaconda3\\lib\\site-packages (from tensorflow) (4.1.1)\n",
      "Requirement already satisfied: protobuf<3.20,>=3.9.2 in c:\\users\\alper\\anaconda3\\lib\\site-packages (from tensorflow) (3.19.1)\n",
      "Collecting astunparse>=1.6.0\n",
      "  Using cached astunparse-1.6.3-py2.py3-none-any.whl (12 kB)\n",
      "Collecting tensorflow-estimator<2.11,>=2.10.0\n",
      "  Downloading tensorflow_estimator-2.10.0-py2.py3-none-any.whl (438 kB)\n",
      "Collecting keras-preprocessing>=1.1.1\n",
      "  Using cached Keras_Preprocessing-1.1.2-py2.py3-none-any.whl (42 kB)\n",
      "Requirement already satisfied: setuptools in c:\\users\\alper\\anaconda3\\lib\\site-packages (from tensorflow) (61.2.0)\n",
      "Collecting gast<=0.4.0,>=0.2.1\n",
      "  Using cached gast-0.4.0-py3-none-any.whl (9.8 kB)\n",
      "Requirement already satisfied: six>=1.12.0 in c:\\users\\alper\\anaconda3\\lib\\site-packages (from tensorflow) (1.16.0)\n",
      "Collecting tensorflow-io-gcs-filesystem>=0.23.1\n",
      "  Downloading tensorflow_io_gcs_filesystem-0.27.0-cp39-cp39-win_amd64.whl (1.5 MB)\n",
      "Collecting keras<2.11,>=2.10.0\n",
      "  Downloading keras-2.10.0-py2.py3-none-any.whl (1.7 MB)\n",
      "Requirement already satisfied: wrapt>=1.11.0 in c:\\users\\alper\\anaconda3\\lib\\site-packages (from tensorflow) (1.12.1)\n",
      "Requirement already satisfied: numpy>=1.20 in c:\\users\\alper\\anaconda3\\lib\\site-packages (from tensorflow) (1.21.5)\n",
      "Collecting opt-einsum>=2.3.2\n",
      "  Using cached opt_einsum-3.3.0-py3-none-any.whl (65 kB)\n",
      "Collecting termcolor>=1.1.0\n",
      "  Downloading termcolor-2.0.1-py3-none-any.whl (5.4 kB)\n",
      "Collecting absl-py>=1.0.0\n",
      "  Using cached absl_py-1.2.0-py3-none-any.whl (123 kB)\n",
      "Requirement already satisfied: grpcio<2.0,>=1.24.3 in c:\\users\\alper\\anaconda3\\lib\\site-packages (from tensorflow) (1.42.0)\n",
      "Collecting flatbuffers>=2.0\n",
      "  Downloading flatbuffers-2.0.7-py2.py3-none-any.whl (26 kB)\n",
      "Collecting libclang>=13.0.0\n",
      "  Using cached libclang-14.0.6-py2.py3-none-win_amd64.whl (14.2 MB)\n",
      "Requirement already satisfied: h5py>=2.9.0 in c:\\users\\alper\\anaconda3\\lib\\site-packages (from tensorflow) (3.6.0)\n",
      "Collecting google-pasta>=0.1.1\n",
      "  Using cached google_pasta-0.2.0-py3-none-any.whl (57 kB)\n",
      "Collecting tensorboard<2.11,>=2.10\n",
      "  Downloading tensorboard-2.10.0-py3-none-any.whl (5.9 MB)\n",
      "Requirement already satisfied: packaging in c:\\users\\alper\\anaconda3\\lib\\site-packages (from tensorflow) (21.3)\n",
      "Requirement already satisfied: wheel<1.0,>=0.23.0 in c:\\users\\alper\\anaconda3\\lib\\site-packages (from astunparse>=1.6.0->tensorflow) (0.37.1)\n",
      "Requirement already satisfied: google-auth<3,>=1.6.3 in c:\\users\\alper\\anaconda3\\lib\\site-packages (from tensorboard<2.11,>=2.10->tensorflow) (1.33.0)\n",
      "Collecting google-auth-oauthlib<0.5,>=0.4.1\n",
      "  Using cached google_auth_oauthlib-0.4.6-py2.py3-none-any.whl (18 kB)\n",
      "Requirement already satisfied: markdown>=2.6.8 in c:\\users\\alper\\anaconda3\\lib\\site-packages (from tensorboard<2.11,>=2.10->tensorflow) (3.3.4)\n",
      "Collecting tensorboard-data-server<0.7.0,>=0.6.0\n",
      "  Using cached tensorboard_data_server-0.6.1-py3-none-any.whl (2.4 kB)\n",
      "Collecting tensorboard-plugin-wit>=1.6.0\n",
      "  Using cached tensorboard_plugin_wit-1.8.1-py3-none-any.whl (781 kB)\n",
      "Requirement already satisfied: werkzeug>=1.0.1 in c:\\users\\alper\\anaconda3\\lib\\site-packages (from tensorboard<2.11,>=2.10->tensorflow) (2.0.3)\n",
      "Requirement already satisfied: requests<3,>=2.21.0 in c:\\users\\alper\\anaconda3\\lib\\site-packages (from tensorboard<2.11,>=2.10->tensorflow) (2.27.1)\n",
      "Requirement already satisfied: rsa<5,>=3.1.4 in c:\\users\\alper\\anaconda3\\lib\\site-packages (from google-auth<3,>=1.6.3->tensorboard<2.11,>=2.10->tensorflow) (4.7.2)\n",
      "Requirement already satisfied: pyasn1-modules>=0.2.1 in c:\\users\\alper\\anaconda3\\lib\\site-packages (from google-auth<3,>=1.6.3->tensorboard<2.11,>=2.10->tensorflow) (0.2.8)\n",
      "Requirement already satisfied: cachetools<5.0,>=2.0.0 in c:\\users\\alper\\anaconda3\\lib\\site-packages (from google-auth<3,>=1.6.3->tensorboard<2.11,>=2.10->tensorflow) (4.2.2)\n",
      "Collecting requests-oauthlib>=0.7.0\n",
      "  Using cached requests_oauthlib-1.3.1-py2.py3-none-any.whl (23 kB)\n",
      "Requirement already satisfied: pyasn1<0.5.0,>=0.4.6 in c:\\users\\alper\\anaconda3\\lib\\site-packages (from pyasn1-modules>=0.2.1->google-auth<3,>=1.6.3->tensorboard<2.11,>=2.10->tensorflow) (0.4.8)\n",
      "Requirement already satisfied: urllib3<1.27,>=1.21.1 in c:\\users\\alper\\anaconda3\\lib\\site-packages (from requests<3,>=2.21.0->tensorboard<2.11,>=2.10->tensorflow) (1.26.9)\n",
      "Requirement already satisfied: charset-normalizer~=2.0.0 in c:\\users\\alper\\anaconda3\\lib\\site-packages (from requests<3,>=2.21.0->tensorboard<2.11,>=2.10->tensorflow) (2.0.4)\n",
      "Requirement already satisfied: certifi>=2017.4.17 in c:\\users\\alper\\anaconda3\\lib\\site-packages (from requests<3,>=2.21.0->tensorboard<2.11,>=2.10->tensorflow) (2021.10.8)\n",
      "Requirement already satisfied: idna<4,>=2.5 in c:\\users\\alper\\anaconda3\\lib\\site-packages (from requests<3,>=2.21.0->tensorboard<2.11,>=2.10->tensorflow) (3.3)\n",
      "Collecting oauthlib>=3.0.0\n",
      "  Downloading oauthlib-3.2.1-py3-none-any.whl (151 kB)\n",
      "Requirement already satisfied: pyparsing!=3.0.5,>=2.0.2 in c:\\users\\alper\\anaconda3\\lib\\site-packages (from packaging->tensorflow) (3.0.4)\n",
      "Installing collected packages: oauthlib, requests-oauthlib, tensorboard-plugin-wit, tensorboard-data-server, google-auth-oauthlib, absl-py, termcolor, tensorflow-io-gcs-filesystem, tensorflow-estimator, tensorboard, opt-einsum, libclang, keras-preprocessing, keras, google-pasta, gast, flatbuffers, astunparse, tensorflow\n",
      "Successfully installed absl-py-1.2.0 astunparse-1.6.3 flatbuffers-2.0.7 gast-0.4.0 google-auth-oauthlib-0.4.6 google-pasta-0.2.0 keras-2.10.0 keras-preprocessing-1.1.2 libclang-14.0.6 oauthlib-3.2.1 opt-einsum-3.3.0 requests-oauthlib-1.3.1 tensorboard-2.10.0 tensorboard-data-server-0.6.1 tensorboard-plugin-wit-1.8.1 tensorflow-2.10.0 tensorflow-estimator-2.10.0 tensorflow-io-gcs-filesystem-0.27.0 termcolor-2.0.1\n",
      "Note: you may need to restart the kernel to use updated packages.\n"
     ]
    }
   ],
   "source": [
    "pip install tensorflow"
   ]
  },
  {
   "cell_type": "code",
   "execution_count": 1374,
   "metadata": {},
   "outputs": [],
   "source": [
    "dataset = pd.read_excel(\"MerkezBazlıTuketim.xlsx\")"
   ]
  },
  {
   "cell_type": "markdown",
   "metadata": {},
   "source": [
    "İller"
   ]
  },
  {
   "cell_type": "code",
   "execution_count": 1375,
   "metadata": {},
   "outputs": [
    {
     "data": {
      "text/plain": [
       "array([66, 40, 14, 18, 37, 78, 19], dtype=int64)"
      ]
     },
     "execution_count": 1375,
     "metadata": {},
     "output_type": "execute_result"
    }
   ],
   "source": [
    "dataset.columns = [\"il\",\"ilce\",\"yil\",\"ay\",\"sm3\"]\n",
    "dataset[\"il\"].unique()"
   ]
  },
  {
   "cell_type": "code",
   "execution_count": 1376,
   "metadata": {},
   "outputs": [],
   "source": [
    "dataset = dataset.sort_values(\"ay\")\n",
    "dataset.reset_index(inplace=True)\n",
    "dataset.drop(\"index\",axis = 1,inplace=True)"
   ]
  },
  {
   "cell_type": "markdown",
   "metadata": {},
   "source": [
    "Verisetini Aylara Göre Sıraladığımızda Ekim-Mart Arasını Bir Datasete Nisan-Eylül Arasını bir datasete aktardık"
   ]
  },
  {
   "cell_type": "code",
   "execution_count": 1377,
   "metadata": {},
   "outputs": [
    {
     "name": "stderr",
     "output_type": "stream",
     "text": [
      "C:\\Users\\alper\\AppData\\Local\\Temp\\ipykernel_9424\\575521317.py:3: FutureWarning:\n",
      "\n",
      "The frame.append method is deprecated and will be removed from pandas in a future version. Use pandas.concat instead.\n",
      "\n"
     ]
    }
   ],
   "source": [
    "dataset_hot = dataset.loc[493:1486]\n",
    "dataset_cold = dataset.loc[0:492]\n",
    "dataset_cold = dataset_cold.append(dataset.loc[1487:1885])#1748"
   ]
  },
  {
   "cell_type": "code",
   "execution_count": 1378,
   "metadata": {},
   "outputs": [
    {
     "data": {
      "text/plain": [
       "4106282.14458553"
      ]
     },
     "execution_count": 1378,
     "metadata": {},
     "output_type": "execute_result"
    }
   ],
   "source": [
    "dataset_cold[\"sm3\"].std()"
   ]
  },
  {
   "cell_type": "code",
   "execution_count": 1379,
   "metadata": {},
   "outputs": [
    {
     "data": {
      "text/plain": [
       "3325846.6173793436"
      ]
     },
     "execution_count": 1379,
     "metadata": {},
     "output_type": "execute_result"
    }
   ],
   "source": [
    "dataset[\"sm3\"].std()"
   ]
  },
  {
   "cell_type": "code",
   "execution_count": 1380,
   "metadata": {},
   "outputs": [],
   "source": [
    "# for i in range(0,1884):\n",
    "#     dataset_cold = dataset.loc[0:492]\n",
    "#     dataset_cold = dataset_cold.append(dataset.loc[i:1884])\n",
    "#     print(i,\".std: \",dataset_cold[\"sm3\"].std())"
   ]
  },
  {
   "cell_type": "code",
   "execution_count": 1381,
   "metadata": {},
   "outputs": [
    {
     "data": {
      "text/plain": [
       "il      2.249785e+01\n",
       "ilce    5.346128e+00\n",
       "yil     1.294744e+00\n",
       "ay      4.556616e+00\n",
       "sm3     4.106282e+06\n",
       "dtype: float64"
      ]
     },
     "execution_count": 1381,
     "metadata": {},
     "output_type": "execute_result"
    }
   ],
   "source": [
    "dataset_cold.std()"
   ]
  },
  {
   "cell_type": "code",
   "execution_count": 1382,
   "metadata": {},
   "outputs": [
    {
     "name": "stderr",
     "output_type": "stream",
     "text": [
      "C:\\Users\\alper\\AppData\\Local\\Temp\\ipykernel_9424\\3650941147.py:3: FutureWarning:\n",
      "\n",
      "The frame.append method is deprecated and will be removed from pandas in a future version. Use pandas.concat instead.\n",
      "\n"
     ]
    }
   ],
   "source": [
    "dataset_hot = dataset.loc[660:1486]\n",
    "dataset_cold = dataset.loc[0:659]\n",
    "dataset_cold = dataset_cold.append(dataset.loc[1487:1885])"
   ]
  },
  {
   "cell_type": "code",
   "execution_count": 1383,
   "metadata": {},
   "outputs": [
    {
     "data": {
      "text/plain": [
       "il      2.249003e+01\n",
       "ilce    5.351467e+00\n",
       "yil     1.313035e+00\n",
       "ay      4.246630e+00\n",
       "sm3     4.043363e+06\n",
       "dtype: float64"
      ]
     },
     "execution_count": 1383,
     "metadata": {},
     "output_type": "execute_result"
    }
   ],
   "source": [
    "dataset_cold.std()"
   ]
  },
  {
   "cell_type": "markdown",
   "metadata": {},
   "source": [
    "Verisetini İllere göre ayır"
   ]
  },
  {
   "cell_type": "code",
   "execution_count": 1384,
   "metadata": {},
   "outputs": [],
   "source": [
    "yozgat = dataset[dataset[\"il\"] == 66].drop(\"il\",axis  = 1)\n",
    "kırşehir = dataset[dataset[\"il\"] == 40].drop(\"il\",axis  = 1)\n",
    "bolu = dataset[dataset[\"il\"] == 14].drop(\"il\",axis  = 1)\n",
    "çankırı = dataset[dataset[\"il\"] == 18].drop(\"il\",axis  = 1)\n",
    "kastamonu = dataset[dataset[\"il\"] == 37].drop(\"il\",axis  = 1)\n",
    "karabük = dataset[dataset[\"il\"] == 78].drop(\"il\",axis  = 1)\n",
    "çorum = dataset[dataset[\"il\"] == 19].drop(\"il\",axis  = 1)"
   ]
  },
  {
   "cell_type": "markdown",
   "metadata": {},
   "source": [
    "Verisetindeki verilerin birbirleriyle bağlantılarını incele"
   ]
  },
  {
   "cell_type": "code",
   "execution_count": 1385,
   "metadata": {},
   "outputs": [
    {
     "data": {
      "text/plain": [
       "<seaborn.axisgrid.PairGrid at 0x1fa82f52d10>"
      ]
     },
     "execution_count": 1385,
     "metadata": {},
     "output_type": "execute_result"
    },
    {
     "data": {
      "image/png": "[encoded data removed]",
      "text/plain": [
       "<Figure size 1250x1250 with 30 Axes>"
      ]
     },
     "metadata": {},
     "output_type": "display_data"
    }
   ],
   "source": [
    "sns.pairplot(dataset)"
   ]
  },
  {
   "cell_type": "markdown",
   "metadata": {},
   "source": [
    "Yeni verisetlerini düzenli bir şekilde sırala"
   ]
  },
  {
   "cell_type": "code",
   "execution_count": 1386,
   "metadata": {},
   "outputs": [],
   "source": [
    "yozgat = yozgat.sort_values([\"yil\",\"ilce\",\"ay\"])\n",
    "kırşehir = kırşehir.sort_values([\"ilce\",\"yil\",\"ay\"])\n",
    "bolu = bolu.sort_values([\"ilce\",\"yil\",\"ay\"])\n",
    "çankırı = çankırı.sort_values([\"ilce\",\"yil\",\"ay\"])\n",
    "kastamonu = kastamonu.sort_values([\"ilce\",\"yil\",\"ay\"])\n",
    "karabük = karabük.sort_values([\"ilce\",\"yil\",\"ay\"])\n",
    "çorum = çorum.sort_values([\"ilce\",\"yil\",\"ay\"])"
   ]
  },
  {
   "cell_type": "code",
   "execution_count": 1387,
   "metadata": {},
   "outputs": [],
   "source": [
    "yozgat.reset_index(inplace=True)\n",
    "yozgat.drop(\"index\",axis = 1,inplace=True)\n",
    "kırşehir.reset_index(inplace=True)\n",
    "kırşehir.drop(\"index\",axis = 1,inplace=True)\n",
    "bolu.reset_index(inplace=True)\n",
    "bolu.drop(\"index\",axis = 1,inplace=True)\n",
    "çankırı.reset_index(inplace=True)\n",
    "çankırı.drop(\"index\",axis = 1,inplace=True)\n",
    "kastamonu.reset_index(inplace=True)\n",
    "kastamonu.drop(\"index\",axis = 1,inplace=True)\n",
    "karabük.reset_index(inplace=True)\n",
    "karabük.drop(\"index\",axis = 1,inplace=True)\n",
    "çorum.reset_index(inplace=True)\n",
    "çorum.drop(\"index\",axis = 1,inplace=True)"
   ]
  },
  {
   "cell_type": "code",
   "execution_count": 1388,
   "metadata": {},
   "outputs": [],
   "source": [
    "yozgat.drop(\"ilce\",axis = 1,inplace=True)\n",
    "kırşehir.drop(\"ilce\",axis = 1,inplace=True)\n",
    "bolu.drop(\"ilce\",axis = 1,inplace=True)\n",
    "çankırı.drop(\"ilce\",axis = 1,inplace=True)\n",
    "kastamonu.drop(\"ilce\",axis = 1,inplace=True)\n",
    "karabük.drop(\"ilce\",axis = 1,inplace=True)\n",
    "çorum.drop(\"ilce\",axis = 1,inplace=True)\n",
    "\n"
   ]
  },
  {
   "cell_type": "code",
   "execution_count": 1389,
   "metadata": {},
   "outputs": [],
   "source": [
    "yozgat = pd.DataFrame(yozgat.groupby([\"yil\",\"ay\"])[\"sm3\"].sum())\n",
    "kırşehir = pd.DataFrame(kırşehir.groupby([\"yil\",\"ay\"])[\"sm3\"].sum())\n",
    "bolu = pd.DataFrame(bolu.groupby([\"yil\",\"ay\"])[\"sm3\"].sum())\n",
    "çankırı = pd.DataFrame(çankırı.groupby([\"yil\",\"ay\"])[\"sm3\"].sum())\n",
    "kastamonu = pd.DataFrame(kastamonu.groupby([\"yil\",\"ay\"])[\"sm3\"].sum())\n",
    "karabük = pd.DataFrame(karabük.groupby([\"yil\",\"ay\"])[\"sm3\"].sum())\n",
    "çorum = pd.DataFrame(çorum.groupby([\"yil\",\"ay\"])[\"sm3\"].sum())"
   ]
  },
  {
   "cell_type": "code",
   "execution_count": 1390,
   "metadata": {},
   "outputs": [],
   "source": [
    "yozgat.reset_index(inplace=True)\n",
    "kırşehir.reset_index(inplace=True)\n",
    "bolu.reset_index(inplace=True)\n",
    "çankırı.reset_index(inplace=True)\n",
    "kastamonu.reset_index(inplace=True)\n",
    "karabük.reset_index(inplace=True)\n",
    "çorum.reset_index(inplace=True)\n"
   ]
  },
  {
   "cell_type": "code",
   "execution_count": 1391,
   "metadata": {},
   "outputs": [],
   "source": [
    "yozgat[\"ds\"] = yozgat[\"yil\"].astype(str)+'-'+yozgat[\"ay\"].astype(str)\n",
    "yozgat[\"ds\"] = pd.to_datetime(yozgat[\"ds\"])\n",
    "\n",
    "# kastamonu[\"ds\"] = kastamonu[\"yil\"].astype(str)+'-'+kastamonu[\"ay\"].astype(str)\n",
    "# kastamonu[\"ds\"] = pd.to_datetime(kastamonu[\"ds\"])\n",
    "\n",
    "# karabük[\"ds\"] = karabük[\"yil\"].astype(str)+'-'+karabük[\"ay\"].astype(str)\n",
    "# karabük[\"ds\"] = pd.to_datetime(karabük[\"ds\"])\n",
    "çorum[\"ds\"] = çorum[\"yil\"].astype(str)+'-'+çorum[\"ay\"].astype(str)\n",
    "çorum[\"ds\"] = pd.to_datetime(çorum[\"ds\"])\n",
    "\n",
    "#yozgat[\"yil\"] = pd.to_datetime(yozgat[\"yil\"],format = '%Y')"
   ]
  },
  {
   "cell_type": "code",
   "execution_count": 1392,
   "metadata": {},
   "outputs": [
    {
     "data": {
      "text/html": [
       "<div>\n",
       "<style scoped>\n",
       "    .dataframe tbody tr th:only-of-type {\n",
       "        vertical-align: middle;\n",
       "    }\n",
       "\n",
       "    .dataframe tbody tr th {\n",
       "        vertical-align: top;\n",
       "    }\n",
       "\n",
       "    .dataframe thead th {\n",
       "        text-align: right;\n",
       "    }\n",
       "</style>\n",
       "<table border=\"1\" class=\"dataframe\">\n",
       "  <thead>\n",
       "    <tr style=\"text-align: right;\">\n",
       "      <th></th>\n",
       "      <th>yil</th>\n",
       "      <th>ay</th>\n",
       "      <th>sm3</th>\n",
       "      <th>ds</th>\n",
       "    </tr>\n",
       "  </thead>\n",
       "  <tbody>\n",
       "    <tr>\n",
       "      <th>0</th>\n",
       "      <td>2018</td>\n",
       "      <td>1</td>\n",
       "      <td>1.047814e+07</td>\n",
       "      <td>2018-01-01</td>\n",
       "    </tr>\n",
       "    <tr>\n",
       "      <th>1</th>\n",
       "      <td>2018</td>\n",
       "      <td>2</td>\n",
       "      <td>1.189793e+07</td>\n",
       "      <td>2018-02-01</td>\n",
       "    </tr>\n",
       "    <tr>\n",
       "      <th>2</th>\n",
       "      <td>2018</td>\n",
       "      <td>3</td>\n",
       "      <td>8.604495e+06</td>\n",
       "      <td>2018-03-01</td>\n",
       "    </tr>\n",
       "    <tr>\n",
       "      <th>3</th>\n",
       "      <td>2018</td>\n",
       "      <td>4</td>\n",
       "      <td>6.762628e+06</td>\n",
       "      <td>2018-04-01</td>\n",
       "    </tr>\n",
       "    <tr>\n",
       "      <th>4</th>\n",
       "      <td>2018</td>\n",
       "      <td>5</td>\n",
       "      <td>3.406597e+06</td>\n",
       "      <td>2018-05-01</td>\n",
       "    </tr>\n",
       "  </tbody>\n",
       "</table>\n",
       "</div>"
      ],
      "text/plain": [
       "    yil  ay           sm3         ds\n",
       "0  2018   1  1.047814e+07 2018-01-01\n",
       "1  2018   2  1.189793e+07 2018-02-01\n",
       "2  2018   3  8.604495e+06 2018-03-01\n",
       "3  2018   4  6.762628e+06 2018-04-01\n",
       "4  2018   5  3.406597e+06 2018-05-01"
      ]
     },
     "execution_count": 1392,
     "metadata": {},
     "output_type": "execute_result"
    }
   ],
   "source": [
    "yozgat.head()"
   ]
  },
  {
   "cell_type": "code",
   "execution_count": 1393,
   "metadata": {},
   "outputs": [],
   "source": [
    "yozgat.drop([\"yil\",\"ay\"],axis = 1 , inplace = True)\n",
    "\n",
    "# kastamonu.drop([\"yil\",\"ay\"],axis = 1 , inplace = True)\n",
    "# karabük.drop([\"yil\",\"ay\"],axis = 1 , inplace = True)\n",
    "çorum.drop([\"yil\",\"ay\"],axis = 1 , inplace = True)\n",
    "\n"
   ]
  },
  {
   "cell_type": "code",
   "execution_count": 1394,
   "metadata": {},
   "outputs": [],
   "source": [
    "yozgat[\"y\"] = yozgat[\"sm3\"]\n",
    "yozgat.drop(\"sm3\",axis = 1,inplace = True)\n",
    "\n",
    "# kastamonu[\"y\"] = kastamonu[\"sm3\"]\n",
    "# kastamonu.drop(\"sm3\",axis = 1,inplace = True)\n",
    "\n",
    "# karabük[\"y\"] = karabük[\"sm3\"]\n",
    "# karabük.drop(\"sm3\",axis = 1,inplace = True)\n",
    "\n",
    "çorum[\"y\"] = çorum[\"sm3\"]\n",
    "çorum.drop(\"sm3\",axis = 1,inplace = True)"
   ]
  },
  {
   "cell_type": "code",
   "execution_count": 1395,
   "metadata": {},
   "outputs": [
    {
     "data": {
      "text/html": [
       "<div>\n",
       "<style scoped>\n",
       "    .dataframe tbody tr th:only-of-type {\n",
       "        vertical-align: middle;\n",
       "    }\n",
       "\n",
       "    .dataframe tbody tr th {\n",
       "        vertical-align: top;\n",
       "    }\n",
       "\n",
       "    .dataframe thead th {\n",
       "        text-align: right;\n",
       "    }\n",
       "</style>\n",
       "<table border=\"1\" class=\"dataframe\">\n",
       "  <thead>\n",
       "    <tr style=\"text-align: right;\">\n",
       "      <th></th>\n",
       "      <th>ds</th>\n",
       "      <th>y</th>\n",
       "    </tr>\n",
       "  </thead>\n",
       "  <tbody>\n",
       "    <tr>\n",
       "      <th>0</th>\n",
       "      <td>2018-01-01</td>\n",
       "      <td>1.047814e+07</td>\n",
       "    </tr>\n",
       "    <tr>\n",
       "      <th>1</th>\n",
       "      <td>2018-02-01</td>\n",
       "      <td>1.189793e+07</td>\n",
       "    </tr>\n",
       "    <tr>\n",
       "      <th>2</th>\n",
       "      <td>2018-03-01</td>\n",
       "      <td>8.604495e+06</td>\n",
       "    </tr>\n",
       "    <tr>\n",
       "      <th>3</th>\n",
       "      <td>2018-04-01</td>\n",
       "      <td>6.762628e+06</td>\n",
       "    </tr>\n",
       "    <tr>\n",
       "      <th>4</th>\n",
       "      <td>2018-05-01</td>\n",
       "      <td>3.406597e+06</td>\n",
       "    </tr>\n",
       "  </tbody>\n",
       "</table>\n",
       "</div>"
      ],
      "text/plain": [
       "          ds             y\n",
       "0 2018-01-01  1.047814e+07\n",
       "1 2018-02-01  1.189793e+07\n",
       "2 2018-03-01  8.604495e+06\n",
       "3 2018-04-01  6.762628e+06\n",
       "4 2018-05-01  3.406597e+06"
      ]
     },
     "execution_count": 1395,
     "metadata": {},
     "output_type": "execute_result"
    }
   ],
   "source": [
    "yozgat.head()"
   ]
  },
  {
   "cell_type": "markdown",
   "metadata": {},
   "source": [
    "YOZGAT ilini Prophet İle tahmin edelim"
   ]
  },
  {
   "cell_type": "code",
   "execution_count": 1396,
   "metadata": {},
   "outputs": [],
   "source": [
    "x = yozgat[\"ds\"]\n",
    "y = yozgat[\"y\"]"
   ]
  },
  {
   "cell_type": "code",
   "execution_count": 1397,
   "metadata": {},
   "outputs": [],
   "source": [
    "# from sklearn.preprocessing import PolynomialFeatures\n",
    "# from sklearn.model_selection import train_test_split\n",
    "# x_train,x_test,y_train,y_test = train_test_split(ax,y,test_size=0.3)\n",
    "# model = PolynomialFeatures(degree=4)\n",
    "# model.fit(x_train,y_train)"
   ]
  },
  {
   "cell_type": "code",
   "execution_count": 1398,
   "metadata": {},
   "outputs": [],
   "source": [
    "from sklearn.preprocessing import PolynomialFeatures\n",
    "from sklearn.linear_model import LinearRegression"
   ]
  },
  {
   "cell_type": "code",
   "execution_count": 1399,
   "metadata": {},
   "outputs": [],
   "source": [
    "from prophet import Prophet\n",
    "model = Prophet()\n"
   ]
  },
  {
   "cell_type": "code",
   "execution_count": 1400,
   "metadata": {},
   "outputs": [
    {
     "name": "stderr",
     "output_type": "stream",
     "text": [
      "17:03:27 - cmdstanpy - INFO - Chain [1] start processing\n",
      "17:03:27 - cmdstanpy - INFO - Chain [1] done processing\n"
     ]
    },
    {
     "data": {
      "text/plain": [
       "<prophet.forecaster.Prophet at 0x1fa630dd810>"
      ]
     },
     "execution_count": 1400,
     "metadata": {},
     "output_type": "execute_result"
    }
   ],
   "source": [
    "model.fit(yozgat)"
   ]
  },
  {
   "cell_type": "markdown",
   "metadata": {},
   "source": [
    "2022-2023 Yılları Arasını Tahmin edelim ve bunu bir verisetine aktaralım"
   ]
  },
  {
   "cell_type": "code",
   "execution_count": 1401,
   "metadata": {},
   "outputs": [
    {
     "data": {
      "text/html": [
       "<div>\n",
       "<style scoped>\n",
       "    .dataframe tbody tr th:only-of-type {\n",
       "        vertical-align: middle;\n",
       "    }\n",
       "\n",
       "    .dataframe tbody tr th {\n",
       "        vertical-align: top;\n",
       "    }\n",
       "\n",
       "    .dataframe thead th {\n",
       "        text-align: right;\n",
       "    }\n",
       "</style>\n",
       "<table border=\"1\" class=\"dataframe\">\n",
       "  <thead>\n",
       "    <tr style=\"text-align: right;\">\n",
       "      <th></th>\n",
       "      <th>ds</th>\n",
       "    </tr>\n",
       "  </thead>\n",
       "  <tbody>\n",
       "    <tr>\n",
       "      <th>0</th>\n",
       "      <td>2022-01-01</td>\n",
       "    </tr>\n",
       "    <tr>\n",
       "      <th>1</th>\n",
       "      <td>2022-02-01</td>\n",
       "    </tr>\n",
       "    <tr>\n",
       "      <th>2</th>\n",
       "      <td>2022-03-01</td>\n",
       "    </tr>\n",
       "    <tr>\n",
       "      <th>3</th>\n",
       "      <td>2022-04-01</td>\n",
       "    </tr>\n",
       "    <tr>\n",
       "      <th>4</th>\n",
       "      <td>2022-05-01</td>\n",
       "    </tr>\n",
       "    <tr>\n",
       "      <th>5</th>\n",
       "      <td>2022-06-01</td>\n",
       "    </tr>\n",
       "    <tr>\n",
       "      <th>6</th>\n",
       "      <td>2022-07-01</td>\n",
       "    </tr>\n",
       "    <tr>\n",
       "      <th>7</th>\n",
       "      <td>2022-08-01</td>\n",
       "    </tr>\n",
       "    <tr>\n",
       "      <th>8</th>\n",
       "      <td>2022-09-01</td>\n",
       "    </tr>\n",
       "    <tr>\n",
       "      <th>9</th>\n",
       "      <td>2022-10-01</td>\n",
       "    </tr>\n",
       "    <tr>\n",
       "      <th>10</th>\n",
       "      <td>2022-11-01</td>\n",
       "    </tr>\n",
       "    <tr>\n",
       "      <th>11</th>\n",
       "      <td>2022-12-01</td>\n",
       "    </tr>\n",
       "  </tbody>\n",
       "</table>\n",
       "</div>"
      ],
      "text/plain": [
       "           ds\n",
       "0  2022-01-01\n",
       "1  2022-02-01\n",
       "2  2022-03-01\n",
       "3  2022-04-01\n",
       "4  2022-05-01\n",
       "5  2022-06-01\n",
       "6  2022-07-01\n",
       "7  2022-08-01\n",
       "8  2022-09-01\n",
       "9  2022-10-01\n",
       "10 2022-11-01\n",
       "11 2022-12-01"
      ]
     },
     "execution_count": 1401,
     "metadata": {},
     "output_type": "execute_result"
    }
   ],
   "source": [
    "future = list()\n",
    "for i in range(1,13):\n",
    "    date = \"2022-%02d\" % i\n",
    "    future.append([date])\n",
    "future = pd.DataFrame(future)\n",
    "\n",
    "future.columns = [\"ds\"]\n",
    "future[\"ds\"] = pd.to_datetime(future[\"ds\"])\n",
    "\n",
    "forecast = model.predict(future)\n",
    "future.columns = [\"ds\"]\n",
    "future[\"ds\"] = pd.to_datetime(future[\"ds\"],format = '%Y')\n",
    "future"
   ]
  },
  {
   "cell_type": "markdown",
   "metadata": {},
   "source": [
    "2022-2023 arası tahminlerimizi oluşturduk"
   ]
  },
  {
   "cell_type": "code",
   "execution_count": 1402,
   "metadata": {},
   "outputs": [],
   "source": [
    "forecast = model.predict(future)"
   ]
  },
  {
   "cell_type": "markdown",
   "metadata": {},
   "source": [
    "ds:tarihler\n",
    "yhat:tahmin edilen değerler\n",
    "yhat_lower:tahmin seviyesinin en alt\n",
    "yhat_upper:tahmin seviyesinin en üst kısmı"
   ]
  },
  {
   "cell_type": "code",
   "execution_count": 1403,
   "metadata": {},
   "outputs": [
    {
     "data": {
      "text/html": [
       "<div>\n",
       "<style scoped>\n",
       "    .dataframe tbody tr th:only-of-type {\n",
       "        vertical-align: middle;\n",
       "    }\n",
       "\n",
       "    .dataframe tbody tr th {\n",
       "        vertical-align: top;\n",
       "    }\n",
       "\n",
       "    .dataframe thead th {\n",
       "        text-align: right;\n",
       "    }\n",
       "</style>\n",
       "<table border=\"1\" class=\"dataframe\">\n",
       "  <thead>\n",
       "    <tr style=\"text-align: right;\">\n",
       "      <th></th>\n",
       "      <th>ds</th>\n",
       "      <th>yhat</th>\n",
       "      <th>yhat_lower</th>\n",
       "      <th>yhat_upper</th>\n",
       "    </tr>\n",
       "  </thead>\n",
       "  <tbody>\n",
       "    <tr>\n",
       "      <th>0</th>\n",
       "      <td>2022-01-01</td>\n",
       "      <td>1.490186e+07</td>\n",
       "      <td>1.289273e+07</td>\n",
       "      <td>1.703592e+07</td>\n",
       "    </tr>\n",
       "    <tr>\n",
       "      <th>1</th>\n",
       "      <td>2022-02-01</td>\n",
       "      <td>1.650400e+07</td>\n",
       "      <td>1.459072e+07</td>\n",
       "      <td>1.843087e+07</td>\n",
       "    </tr>\n",
       "    <tr>\n",
       "      <th>2</th>\n",
       "      <td>2022-03-01</td>\n",
       "      <td>1.420308e+07</td>\n",
       "      <td>1.221765e+07</td>\n",
       "      <td>1.627214e+07</td>\n",
       "    </tr>\n",
       "    <tr>\n",
       "      <th>3</th>\n",
       "      <td>2022-04-01</td>\n",
       "      <td>1.315103e+07</td>\n",
       "      <td>1.100988e+07</td>\n",
       "      <td>1.510334e+07</td>\n",
       "    </tr>\n",
       "    <tr>\n",
       "      <th>4</th>\n",
       "      <td>2022-05-01</td>\n",
       "      <td>7.536967e+06</td>\n",
       "      <td>5.533386e+06</td>\n",
       "      <td>9.666134e+06</td>\n",
       "    </tr>\n",
       "    <tr>\n",
       "      <th>5</th>\n",
       "      <td>2022-06-01</td>\n",
       "      <td>4.185550e+06</td>\n",
       "      <td>2.146757e+06</td>\n",
       "      <td>6.264245e+06</td>\n",
       "    </tr>\n",
       "    <tr>\n",
       "      <th>6</th>\n",
       "      <td>2022-07-01</td>\n",
       "      <td>3.577714e+06</td>\n",
       "      <td>1.537473e+06</td>\n",
       "      <td>5.402077e+06</td>\n",
       "    </tr>\n",
       "    <tr>\n",
       "      <th>7</th>\n",
       "      <td>2022-08-01</td>\n",
       "      <td>3.594941e+06</td>\n",
       "      <td>1.508384e+06</td>\n",
       "      <td>5.759784e+06</td>\n",
       "    </tr>\n",
       "    <tr>\n",
       "      <th>8</th>\n",
       "      <td>2022-09-01</td>\n",
       "      <td>6.290888e+06</td>\n",
       "      <td>4.140959e+06</td>\n",
       "      <td>8.327992e+06</td>\n",
       "    </tr>\n",
       "    <tr>\n",
       "      <th>9</th>\n",
       "      <td>2022-10-01</td>\n",
       "      <td>1.918758e+07</td>\n",
       "      <td>1.703920e+07</td>\n",
       "      <td>2.119956e+07</td>\n",
       "    </tr>\n",
       "    <tr>\n",
       "      <th>10</th>\n",
       "      <td>2022-11-01</td>\n",
       "      <td>1.825454e+07</td>\n",
       "      <td>1.604279e+07</td>\n",
       "      <td>2.035596e+07</td>\n",
       "    </tr>\n",
       "    <tr>\n",
       "      <th>11</th>\n",
       "      <td>2022-12-01</td>\n",
       "      <td>1.931800e+07</td>\n",
       "      <td>1.729678e+07</td>\n",
       "      <td>2.149019e+07</td>\n",
       "    </tr>\n",
       "  </tbody>\n",
       "</table>\n",
       "</div>"
      ],
      "text/plain": [
       "           ds          yhat    yhat_lower    yhat_upper\n",
       "0  2022-01-01  1.490186e+07  1.289273e+07  1.703592e+07\n",
       "1  2022-02-01  1.650400e+07  1.459072e+07  1.843087e+07\n",
       "2  2022-03-01  1.420308e+07  1.221765e+07  1.627214e+07\n",
       "3  2022-04-01  1.315103e+07  1.100988e+07  1.510334e+07\n",
       "4  2022-05-01  7.536967e+06  5.533386e+06  9.666134e+06\n",
       "5  2022-06-01  4.185550e+06  2.146757e+06  6.264245e+06\n",
       "6  2022-07-01  3.577714e+06  1.537473e+06  5.402077e+06\n",
       "7  2022-08-01  3.594941e+06  1.508384e+06  5.759784e+06\n",
       "8  2022-09-01  6.290888e+06  4.140959e+06  8.327992e+06\n",
       "9  2022-10-01  1.918758e+07  1.703920e+07  2.119956e+07\n",
       "10 2022-11-01  1.825454e+07  1.604279e+07  2.035596e+07\n",
       "11 2022-12-01  1.931800e+07  1.729678e+07  2.149019e+07"
      ]
     },
     "execution_count": 1403,
     "metadata": {},
     "output_type": "execute_result"
    }
   ],
   "source": [
    "forecast[[\"ds\",\"yhat\",\"yhat_lower\",\"yhat_upper\"]]"
   ]
  },
  {
   "cell_type": "code",
   "execution_count": 1404,
   "metadata": {},
   "outputs": [
    {
     "data": {
      "image/png": "[encoded data removed]",
      "text/plain": [
       "<Figure size 1000x600 with 1 Axes>"
      ]
     },
     "metadata": {},
     "output_type": "display_data"
    }
   ],
   "source": [
    "model.plot(forecast)\n",
    "plt.show()"
   ]
  },
  {
   "cell_type": "code",
   "execution_count": 1405,
   "metadata": {},
   "outputs": [
    {
     "data": {
      "text/html": [
       "<div>\n",
       "<style scoped>\n",
       "    .dataframe tbody tr th:only-of-type {\n",
       "        vertical-align: middle;\n",
       "    }\n",
       "\n",
       "    .dataframe tbody tr th {\n",
       "        vertical-align: top;\n",
       "    }\n",
       "\n",
       "    .dataframe thead th {\n",
       "        text-align: right;\n",
       "    }\n",
       "</style>\n",
       "<table border=\"1\" class=\"dataframe\">\n",
       "  <thead>\n",
       "    <tr style=\"text-align: right;\">\n",
       "      <th></th>\n",
       "      <th>ds</th>\n",
       "      <th>y</th>\n",
       "    </tr>\n",
       "  </thead>\n",
       "  <tbody>\n",
       "    <tr>\n",
       "      <th>2</th>\n",
       "      <td>2018-03-01</td>\n",
       "      <td>8.604495e+06</td>\n",
       "    </tr>\n",
       "    <tr>\n",
       "      <th>3</th>\n",
       "      <td>2018-04-01</td>\n",
       "      <td>6.762628e+06</td>\n",
       "    </tr>\n",
       "    <tr>\n",
       "      <th>4</th>\n",
       "      <td>2018-05-01</td>\n",
       "      <td>3.406597e+06</td>\n",
       "    </tr>\n",
       "    <tr>\n",
       "      <th>5</th>\n",
       "      <td>2018-06-01</td>\n",
       "      <td>2.110416e+06</td>\n",
       "    </tr>\n",
       "    <tr>\n",
       "      <th>6</th>\n",
       "      <td>2018-07-01</td>\n",
       "      <td>1.673153e+06</td>\n",
       "    </tr>\n",
       "    <tr>\n",
       "      <th>7</th>\n",
       "      <td>2018-08-01</td>\n",
       "      <td>1.631986e+06</td>\n",
       "    </tr>\n",
       "    <tr>\n",
       "      <th>8</th>\n",
       "      <td>2018-09-01</td>\n",
       "      <td>6.399468e+06</td>\n",
       "    </tr>\n",
       "    <tr>\n",
       "      <th>9</th>\n",
       "      <td>2018-10-01</td>\n",
       "      <td>1.371463e+07</td>\n",
       "    </tr>\n",
       "    <tr>\n",
       "      <th>10</th>\n",
       "      <td>2018-11-01</td>\n",
       "      <td>1.668779e+07</td>\n",
       "    </tr>\n",
       "    <tr>\n",
       "      <th>11</th>\n",
       "      <td>2018-12-01</td>\n",
       "      <td>1.435118e+07</td>\n",
       "    </tr>\n",
       "    <tr>\n",
       "      <th>12</th>\n",
       "      <td>2019-01-01</td>\n",
       "      <td>1.413667e+07</td>\n",
       "    </tr>\n",
       "    <tr>\n",
       "      <th>13</th>\n",
       "      <td>2019-02-01</td>\n",
       "      <td>1.418669e+07</td>\n",
       "    </tr>\n",
       "    <tr>\n",
       "      <th>14</th>\n",
       "      <td>2019-03-01</td>\n",
       "      <td>1.107881e+07</td>\n",
       "    </tr>\n",
       "    <tr>\n",
       "      <th>15</th>\n",
       "      <td>2019-04-01</td>\n",
       "      <td>1.097519e+07</td>\n",
       "    </tr>\n",
       "    <tr>\n",
       "      <th>16</th>\n",
       "      <td>2019-05-01</td>\n",
       "      <td>6.895878e+06</td>\n",
       "    </tr>\n",
       "    <tr>\n",
       "      <th>17</th>\n",
       "      <td>2019-06-01</td>\n",
       "      <td>2.277687e+06</td>\n",
       "    </tr>\n",
       "    <tr>\n",
       "      <th>18</th>\n",
       "      <td>2019-07-01</td>\n",
       "      <td>1.969602e+06</td>\n",
       "    </tr>\n",
       "    <tr>\n",
       "      <th>19</th>\n",
       "      <td>2019-08-01</td>\n",
       "      <td>2.145203e+06</td>\n",
       "    </tr>\n",
       "    <tr>\n",
       "      <th>20</th>\n",
       "      <td>2019-09-01</td>\n",
       "      <td>6.472165e+06</td>\n",
       "    </tr>\n",
       "    <tr>\n",
       "      <th>21</th>\n",
       "      <td>2019-10-01</td>\n",
       "      <td>2.117311e+07</td>\n",
       "    </tr>\n",
       "    <tr>\n",
       "      <th>22</th>\n",
       "      <td>2019-11-01</td>\n",
       "      <td>1.483517e+07</td>\n",
       "    </tr>\n",
       "    <tr>\n",
       "      <th>23</th>\n",
       "      <td>2019-12-01</td>\n",
       "      <td>1.635562e+07</td>\n",
       "    </tr>\n",
       "    <tr>\n",
       "      <th>24</th>\n",
       "      <td>2020-01-01</td>\n",
       "      <td>1.441069e+07</td>\n",
       "    </tr>\n",
       "    <tr>\n",
       "      <th>25</th>\n",
       "      <td>2020-02-01</td>\n",
       "      <td>1.614369e+07</td>\n",
       "    </tr>\n",
       "    <tr>\n",
       "      <th>26</th>\n",
       "      <td>2020-03-01</td>\n",
       "      <td>1.372036e+07</td>\n",
       "    </tr>\n",
       "    <tr>\n",
       "      <th>27</th>\n",
       "      <td>2020-04-01</td>\n",
       "      <td>9.190714e+06</td>\n",
       "    </tr>\n",
       "    <tr>\n",
       "      <th>28</th>\n",
       "      <td>2020-05-01</td>\n",
       "      <td>6.716020e+06</td>\n",
       "    </tr>\n",
       "    <tr>\n",
       "      <th>29</th>\n",
       "      <td>2020-06-01</td>\n",
       "      <td>2.970129e+06</td>\n",
       "    </tr>\n",
       "    <tr>\n",
       "      <th>30</th>\n",
       "      <td>2020-07-01</td>\n",
       "      <td>2.119824e+06</td>\n",
       "    </tr>\n",
       "    <tr>\n",
       "      <th>31</th>\n",
       "      <td>2020-08-01</td>\n",
       "      <td>2.315953e+06</td>\n",
       "    </tr>\n",
       "    <tr>\n",
       "      <th>32</th>\n",
       "      <td>2020-09-01</td>\n",
       "      <td>5.804259e+06</td>\n",
       "    </tr>\n",
       "    <tr>\n",
       "      <th>33</th>\n",
       "      <td>2020-10-01</td>\n",
       "      <td>1.362051e+07</td>\n",
       "    </tr>\n",
       "    <tr>\n",
       "      <th>34</th>\n",
       "      <td>2020-11-01</td>\n",
       "      <td>1.575894e+07</td>\n",
       "    </tr>\n",
       "    <tr>\n",
       "      <th>35</th>\n",
       "      <td>2020-12-01</td>\n",
       "      <td>2.402546e+07</td>\n",
       "    </tr>\n",
       "    <tr>\n",
       "      <th>36</th>\n",
       "      <td>2021-01-01</td>\n",
       "      <td>1.284009e+07</td>\n",
       "    </tr>\n",
       "    <tr>\n",
       "      <th>37</th>\n",
       "      <td>2021-02-01</td>\n",
       "      <td>1.484962e+07</td>\n",
       "    </tr>\n",
       "    <tr>\n",
       "      <th>38</th>\n",
       "      <td>2021-03-01</td>\n",
       "      <td>1.382031e+07</td>\n",
       "    </tr>\n",
       "    <tr>\n",
       "      <th>39</th>\n",
       "      <td>2021-04-01</td>\n",
       "      <td>1.377781e+07</td>\n",
       "    </tr>\n",
       "    <tr>\n",
       "      <th>40</th>\n",
       "      <td>2021-05-01</td>\n",
       "      <td>6.452341e+06</td>\n",
       "    </tr>\n",
       "    <tr>\n",
       "      <th>41</th>\n",
       "      <td>2021-06-01</td>\n",
       "      <td>2.720030e+06</td>\n",
       "    </tr>\n",
       "    <tr>\n",
       "      <th>42</th>\n",
       "      <td>2021-07-01</td>\n",
       "      <td>2.325653e+06</td>\n",
       "    </tr>\n",
       "    <tr>\n",
       "      <th>43</th>\n",
       "      <td>2021-08-01</td>\n",
       "      <td>2.327800e+06</td>\n",
       "    </tr>\n",
       "    <tr>\n",
       "      <th>44</th>\n",
       "      <td>2021-09-01</td>\n",
       "      <td>4.243354e+06</td>\n",
       "    </tr>\n",
       "    <tr>\n",
       "      <th>45</th>\n",
       "      <td>2021-10-01</td>\n",
       "      <td>1.639718e+07</td>\n",
       "    </tr>\n",
       "    <tr>\n",
       "      <th>46</th>\n",
       "      <td>2021-11-01</td>\n",
       "      <td>1.832564e+07</td>\n",
       "    </tr>\n",
       "    <tr>\n",
       "      <th>47</th>\n",
       "      <td>2021-12-01</td>\n",
       "      <td>1.966634e+07</td>\n",
       "    </tr>\n",
       "    <tr>\n",
       "      <th>48</th>\n",
       "      <td>2022-01-01</td>\n",
       "      <td>1.675197e+07</td>\n",
       "    </tr>\n",
       "    <tr>\n",
       "      <th>49</th>\n",
       "      <td>2022-02-01</td>\n",
       "      <td>1.905787e+07</td>\n",
       "    </tr>\n",
       "    <tr>\n",
       "      <th>50</th>\n",
       "      <td>2022-03-01</td>\n",
       "      <td>1.684675e+07</td>\n",
       "    </tr>\n",
       "    <tr>\n",
       "      <th>51</th>\n",
       "      <td>2022-04-01</td>\n",
       "      <td>1.608723e+07</td>\n",
       "    </tr>\n",
       "    <tr>\n",
       "      <th>52</th>\n",
       "      <td>2022-05-01</td>\n",
       "      <td>6.569454e+06</td>\n",
       "    </tr>\n",
       "    <tr>\n",
       "      <th>53</th>\n",
       "      <td>2022-06-01</td>\n",
       "      <td>3.563427e+06</td>\n",
       "    </tr>\n",
       "    <tr>\n",
       "      <th>54</th>\n",
       "      <td>2022-07-01</td>\n",
       "      <td>2.583247e+06</td>\n",
       "    </tr>\n",
       "    <tr>\n",
       "      <th>55</th>\n",
       "      <td>2022-08-01</td>\n",
       "      <td>2.494245e+06</td>\n",
       "    </tr>\n",
       "    <tr>\n",
       "      <th>56</th>\n",
       "      <td>2022-09-01</td>\n",
       "      <td>1.211834e+06</td>\n",
       "    </tr>\n",
       "  </tbody>\n",
       "</table>\n",
       "</div>"
      ],
      "text/plain": [
       "           ds             y\n",
       "2  2018-03-01  8.604495e+06\n",
       "3  2018-04-01  6.762628e+06\n",
       "4  2018-05-01  3.406597e+06\n",
       "5  2018-06-01  2.110416e+06\n",
       "6  2018-07-01  1.673153e+06\n",
       "7  2018-08-01  1.631986e+06\n",
       "8  2018-09-01  6.399468e+06\n",
       "9  2018-10-01  1.371463e+07\n",
       "10 2018-11-01  1.668779e+07\n",
       "11 2018-12-01  1.435118e+07\n",
       "12 2019-01-01  1.413667e+07\n",
       "13 2019-02-01  1.418669e+07\n",
       "14 2019-03-01  1.107881e+07\n",
       "15 2019-04-01  1.097519e+07\n",
       "16 2019-05-01  6.895878e+06\n",
       "17 2019-06-01  2.277687e+06\n",
       "18 2019-07-01  1.969602e+06\n",
       "19 2019-08-01  2.145203e+06\n",
       "20 2019-09-01  6.472165e+06\n",
       "21 2019-10-01  2.117311e+07\n",
       "22 2019-11-01  1.483517e+07\n",
       "23 2019-12-01  1.635562e+07\n",
       "24 2020-01-01  1.441069e+07\n",
       "25 2020-02-01  1.614369e+07\n",
       "26 2020-03-01  1.372036e+07\n",
       "27 2020-04-01  9.190714e+06\n",
       "28 2020-05-01  6.716020e+06\n",
       "29 2020-06-01  2.970129e+06\n",
       "30 2020-07-01  2.119824e+06\n",
       "31 2020-08-01  2.315953e+06\n",
       "32 2020-09-01  5.804259e+06\n",
       "33 2020-10-01  1.362051e+07\n",
       "34 2020-11-01  1.575894e+07\n",
       "35 2020-12-01  2.402546e+07\n",
       "36 2021-01-01  1.284009e+07\n",
       "37 2021-02-01  1.484962e+07\n",
       "38 2021-03-01  1.382031e+07\n",
       "39 2021-04-01  1.377781e+07\n",
       "40 2021-05-01  6.452341e+06\n",
       "41 2021-06-01  2.720030e+06\n",
       "42 2021-07-01  2.325653e+06\n",
       "43 2021-08-01  2.327800e+06\n",
       "44 2021-09-01  4.243354e+06\n",
       "45 2021-10-01  1.639718e+07\n",
       "46 2021-11-01  1.832564e+07\n",
       "47 2021-12-01  1.966634e+07\n",
       "48 2022-01-01  1.675197e+07\n",
       "49 2022-02-01  1.905787e+07\n",
       "50 2022-03-01  1.684675e+07\n",
       "51 2022-04-01  1.608723e+07\n",
       "52 2022-05-01  6.569454e+06\n",
       "53 2022-06-01  3.563427e+06\n",
       "54 2022-07-01  2.583247e+06\n",
       "55 2022-08-01  2.494245e+06\n",
       "56 2022-09-01  1.211834e+06"
      ]
     },
     "execution_count": 1405,
     "metadata": {},
     "output_type": "execute_result"
    }
   ],
   "source": [
    "yozgat.loc[2:]"
   ]
  },
  {
   "cell_type": "markdown",
   "metadata": {},
   "source": [
    "İlk 9 Veri grafiği"
   ]
  },
  {
   "cell_type": "code",
   "execution_count": 1406,
   "metadata": {},
   "outputs": [
    {
     "data": {
      "application/vnd.plotly.v1+json": {
       "config": {
        "plotlyServerURL": "https://plot.ly"
       },
       "data": [
        {
         "hovertemplate": "x=%{x}<br>y=%{y}<extra></extra>",
         "legendgroup": "",
         "line": {
          "color": "#636efa",
          "dash": "solid"
         },
         "marker": {
          "symbol": "circle"
         },
         "mode": "lines",
         "name": "",
         "orientation": "v",
         "showlegend": false,
         "type": "scatter",
         "x": [
          "2022-01-01T00:00:00",
          "2022-02-01T00:00:00",
          "2022-03-01T00:00:00",
          "2022-04-01T00:00:00",
          "2022-05-01T00:00:00",
          "2022-06-01T00:00:00",
          "2022-07-01T00:00:00",
          "2022-08-01T00:00:00",
          "2022-09-01T00:00:00"
         ],
         "xaxis": "x",
         "y": [
          16751972.678547304,
          19057871.006902713,
          16846745.4927575,
          16087225.824486468,
          6569453.619376671,
          3563427.186265287,
          2583246.532709179,
          2494245.0579600604,
          1211833.5954760003
         ],
         "yaxis": "y"
        }
       ],
       "layout": {
        "legend": {
         "tracegroupgap": 0
        },
        "margin": {
         "t": 60
        },
        "template": {
         "data": {
          "bar": [
           {
            "error_x": {
             "color": "#2a3f5f"
            },
            "error_y": {
             "color": "#2a3f5f"
            },
            "marker": {
             "line": {
              "color": "#E5ECF6",
              "width": 0.5
             },
             "pattern": {
              "fillmode": "overlay",
              "size": 10,
              "solidity": 0.2
             }
            },
            "type": "bar"
           }
          ],
          "barpolar": [
           {
            "marker": {
             "line": {
              "color": "#E5ECF6",
              "width": 0.5
             },
             "pattern": {
              "fillmode": "overlay",
              "size": 10,
              "solidity": 0.2
             }
            },
            "type": "barpolar"
           }
          ],
          "carpet": [
           {
            "aaxis": {
             "endlinecolor": "#2a3f5f",
             "gridcolor": "white",
             "linecolor": "white",
             "minorgridcolor": "white",
             "startlinecolor": "#2a3f5f"
            },
            "baxis": {
             "endlinecolor": "#2a3f5f",
             "gridcolor": "white",
             "linecolor": "white",
             "minorgridcolor": "white",
             "startlinecolor": "#2a3f5f"
            },
            "type": "carpet"
           }
          ],
          "choropleth": [
           {
            "colorbar": {
             "outlinewidth": 0,
             "ticks": ""
            },
            "type": "choropleth"
           }
          ],
          "contour": [
           {
            "colorbar": {
             "outlinewidth": 0,
             "ticks": ""
            },
            "colorscale": [
             [
              0,
              "#0d0887"
             ],
             [
              0.1111111111111111,
              "#46039f"
             ],
             [
              0.2222222222222222,
              "#7201a8"
             ],
             [
              0.3333333333333333,
              "#9c179e"
             ],
             [
              0.4444444444444444,
              "#bd3786"
             ],
             [
              0.5555555555555556,
              "#d8576b"
             ],
             [
              0.6666666666666666,
              "#ed7953"
             ],
             [
              0.7777777777777778,
              "#fb9f3a"
             ],
             [
              0.8888888888888888,
              "#fdca26"
             ],
             [
              1,
              "#f0f921"
             ]
            ],
            "type": "contour"
           }
          ],
          "contourcarpet": [
           {
            "colorbar": {
             "outlinewidth": 0,
             "ticks": ""
            },
            "type": "contourcarpet"
           }
          ],
          "heatmap": [
           {
            "colorbar": {
             "outlinewidth": 0,
             "ticks": ""
            },
            "colorscale": [
             [
              0,
              "#0d0887"
             ],
             [
              0.1111111111111111,
              "#46039f"
             ],
             [
              0.2222222222222222,
              "#7201a8"
             ],
             [
              0.3333333333333333,
              "#9c179e"
             ],
             [
              0.4444444444444444,
              "#bd3786"
             ],
             [
              0.5555555555555556,
              "#d8576b"
             ],
             [
              0.6666666666666666,
              "#ed7953"
             ],
             [
              0.7777777777777778,
              "#fb9f3a"
             ],
             [
              0.8888888888888888,
              "#fdca26"
             ],
             [
              1,
              "#f0f921"
             ]
            ],
            "type": "heatmap"
           }
          ],
          "heatmapgl": [
           {
            "colorbar": {
             "outlinewidth": 0,
             "ticks": ""
            },
            "colorscale": [
             [
              0,
              "#0d0887"
             ],
             [
              0.1111111111111111,
              "#46039f"
             ],
             [
              0.2222222222222222,
              "#7201a8"
             ],
             [
              0.3333333333333333,
              "#9c179e"
             ],
             [
              0.4444444444444444,
              "#bd3786"
             ],
             [
              0.5555555555555556,
              "#d8576b"
             ],
             [
              0.6666666666666666,
              "#ed7953"
             ],
             [
              0.7777777777777778,
              "#fb9f3a"
             ],
             [
              0.8888888888888888,
              "#fdca26"
             ],
             [
              1,
              "#f0f921"
             ]
            ],
            "type": "heatmapgl"
           }
          ],
          "histogram": [
           {
            "marker": {
             "pattern": {
              "fillmode": "overlay",
              "size": 10,
              "solidity": 0.2
             }
            },
            "type": "histogram"
           }
          ],
          "histogram2d": [
           {
            "colorbar": {
             "outlinewidth": 0,
             "ticks": ""
            },
            "colorscale": [
             [
              0,
              "#0d0887"
             ],
             [
              0.1111111111111111,
              "#46039f"
             ],
             [
              0.2222222222222222,
              "#7201a8"
             ],
             [
              0.3333333333333333,
              "#9c179e"
             ],
             [
              0.4444444444444444,
              "#bd3786"
             ],
             [
              0.5555555555555556,
              "#d8576b"
             ],
             [
              0.6666666666666666,
              "#ed7953"
             ],
             [
              0.7777777777777778,
              "#fb9f3a"
             ],
             [
              0.8888888888888888,
              "#fdca26"
             ],
             [
              1,
              "#f0f921"
             ]
            ],
            "type": "histogram2d"
           }
          ],
          "histogram2dcontour": [
           {
            "colorbar": {
             "outlinewidth": 0,
             "ticks": ""
            },
            "colorscale": [
             [
              0,
              "#0d0887"
             ],
             [
              0.1111111111111111,
              "#46039f"
             ],
             [
              0.2222222222222222,
              "#7201a8"
             ],
             [
              0.3333333333333333,
              "#9c179e"
             ],
             [
              0.4444444444444444,
              "#bd3786"
             ],
             [
              0.5555555555555556,
              "#d8576b"
             ],
             [
              0.6666666666666666,
              "#ed7953"
             ],
             [
              0.7777777777777778,
              "#fb9f3a"
             ],
             [
              0.8888888888888888,
              "#fdca26"
             ],
             [
              1,
              "#f0f921"
             ]
            ],
            "type": "histogram2dcontour"
           }
          ],
          "mesh3d": [
           {
            "colorbar": {
             "outlinewidth": 0,
             "ticks": ""
            },
            "type": "mesh3d"
           }
          ],
          "parcoords": [
           {
            "line": {
             "colorbar": {
              "outlinewidth": 0,
              "ticks": ""
             }
            },
            "type": "parcoords"
           }
          ],
          "pie": [
           {
            "automargin": true,
            "type": "pie"
           }
          ],
          "scatter": [
           {
            "fillpattern": {
             "fillmode": "overlay",
             "size": 10,
             "solidity": 0.2
            },
            "type": "scatter"
           }
          ],
          "scatter3d": [
           {
            "line": {
             "colorbar": {
              "outlinewidth": 0,
              "ticks": ""
             }
            },
            "marker": {
             "colorbar": {
              "outlinewidth": 0,
              "ticks": ""
             }
            },
            "type": "scatter3d"
           }
          ],
          "scattercarpet": [
           {
            "marker": {
             "colorbar": {
              "outlinewidth": 0,
              "ticks": ""
             }
            },
            "type": "scattercarpet"
           }
          ],
          "scattergeo": [
           {
            "marker": {
             "colorbar": {
              "outlinewidth": 0,
              "ticks": ""
             }
            },
            "type": "scattergeo"
           }
          ],
          "scattergl": [
           {
            "marker": {
             "colorbar": {
              "outlinewidth": 0,
              "ticks": ""
             }
            },
            "type": "scattergl"
           }
          ],
          "scattermapbox": [
           {
            "marker": {
             "colorbar": {
              "outlinewidth": 0,
              "ticks": ""
             }
            },
            "type": "scattermapbox"
           }
          ],
          "scatterpolar": [
           {
            "marker": {
             "colorbar": {
              "outlinewidth": 0,
              "ticks": ""
             }
            },
            "type": "scatterpolar"
           }
          ],
          "scatterpolargl": [
           {
            "marker": {
             "colorbar": {
              "outlinewidth": 0,
              "ticks": ""
             }
            },
            "type": "scatterpolargl"
           }
          ],
          "scatterternary": [
           {
            "marker": {
             "colorbar": {
              "outlinewidth": 0,
              "ticks": ""
             }
            },
            "type": "scatterternary"
           }
          ],
          "surface": [
           {
            "colorbar": {
             "outlinewidth": 0,
             "ticks": ""
            },
            "colorscale": [
             [
              0,
              "#0d0887"
             ],
             [
              0.1111111111111111,
              "#46039f"
             ],
             [
              0.2222222222222222,
              "#7201a8"
             ],
             [
              0.3333333333333333,
              "#9c179e"
             ],
             [
              0.4444444444444444,
              "#bd3786"
             ],
             [
              0.5555555555555556,
              "#d8576b"
             ],
             [
              0.6666666666666666,
              "#ed7953"
             ],
             [
              0.7777777777777778,
              "#fb9f3a"
             ],
             [
              0.8888888888888888,
              "#fdca26"
             ],
             [
              1,
              "#f0f921"
             ]
            ],
            "type": "surface"
           }
          ],
          "table": [
           {
            "cells": {
             "fill": {
              "color": "#EBF0F8"
             },
             "line": {
              "color": "white"
             }
            },
            "header": {
             "fill": {
              "color": "#C8D4E3"
             },
             "line": {
              "color": "white"
             }
            },
            "type": "table"
           }
          ]
         },
         "layout": {
          "annotationdefaults": {
           "arrowcolor": "#2a3f5f",
           "arrowhead": 0,
           "arrowwidth": 1
          },
          "autotypenumbers": "strict",
          "coloraxis": {
           "colorbar": {
            "outlinewidth": 0,
            "ticks": ""
           }
          },
          "colorscale": {
           "diverging": [
            [
             0,
             "#8e0152"
            ],
            [
             0.1,
             "#c51b7d"
            ],
            [
             0.2,
             "#de77ae"
            ],
            [
             0.3,
             "#f1b6da"
            ],
            [
             0.4,
             "#fde0ef"
            ],
            [
             0.5,
             "#f7f7f7"
            ],
            [
             0.6,
             "#e6f5d0"
            ],
            [
             0.7,
             "#b8e186"
            ],
            [
             0.8,
             "#7fbc41"
            ],
            [
             0.9,
             "#4d9221"
            ],
            [
             1,
             "#276419"
            ]
           ],
           "sequential": [
            [
             0,
             "#0d0887"
            ],
            [
             0.1111111111111111,
             "#46039f"
            ],
            [
             0.2222222222222222,
             "#7201a8"
            ],
            [
             0.3333333333333333,
             "#9c179e"
            ],
            [
             0.4444444444444444,
             "#bd3786"
            ],
            [
             0.5555555555555556,
             "#d8576b"
            ],
            [
             0.6666666666666666,
             "#ed7953"
            ],
            [
             0.7777777777777778,
             "#fb9f3a"
            ],
            [
             0.8888888888888888,
             "#fdca26"
            ],
            [
             1,
             "#f0f921"
            ]
           ],
           "sequentialminus": [
            [
             0,
             "#0d0887"
            ],
            [
             0.1111111111111111,
             "#46039f"
            ],
            [
             0.2222222222222222,
             "#7201a8"
            ],
            [
             0.3333333333333333,
             "#9c179e"
            ],
            [
             0.4444444444444444,
             "#bd3786"
            ],
            [
             0.5555555555555556,
             "#d8576b"
            ],
            [
             0.6666666666666666,
             "#ed7953"
            ],
            [
             0.7777777777777778,
             "#fb9f3a"
            ],
            [
             0.8888888888888888,
             "#fdca26"
            ],
            [
             1,
             "#f0f921"
            ]
           ]
          },
          "colorway": [
           "#636efa",
           "#EF553B",
           "#00cc96",
           "#ab63fa",
           "#FFA15A",
           "#19d3f3",
           "#FF6692",
           "#B6E880",
           "#FF97FF",
           "#FECB52"
          ],
          "font": {
           "color": "#2a3f5f"
          },
          "geo": {
           "bgcolor": "white",
           "lakecolor": "white",
           "landcolor": "#E5ECF6",
           "showlakes": true,
           "showland": true,
           "subunitcolor": "white"
          },
          "hoverlabel": {
           "align": "left"
          },
          "hovermode": "closest",
          "mapbox": {
           "style": "light"
          },
          "paper_bgcolor": "white",
          "plot_bgcolor": "#E5ECF6",
          "polar": {
           "angularaxis": {
            "gridcolor": "white",
            "linecolor": "white",
            "ticks": ""
           },
           "bgcolor": "#E5ECF6",
           "radialaxis": {
            "gridcolor": "white",
            "linecolor": "white",
            "ticks": ""
           }
          },
          "scene": {
           "xaxis": {
            "backgroundcolor": "#E5ECF6",
            "gridcolor": "white",
            "gridwidth": 2,
            "linecolor": "white",
            "showbackground": true,
            "ticks": "",
            "zerolinecolor": "white"
           },
           "yaxis": {
            "backgroundcolor": "#E5ECF6",
            "gridcolor": "white",
            "gridwidth": 2,
            "linecolor": "white",
            "showbackground": true,
            "ticks": "",
            "zerolinecolor": "white"
           },
           "zaxis": {
            "backgroundcolor": "#E5ECF6",
            "gridcolor": "white",
            "gridwidth": 2,
            "linecolor": "white",
            "showbackground": true,
            "ticks": "",
            "zerolinecolor": "white"
           }
          },
          "shapedefaults": {
           "line": {
            "color": "#2a3f5f"
           }
          },
          "ternary": {
           "aaxis": {
            "gridcolor": "white",
            "linecolor": "white",
            "ticks": ""
           },
           "baxis": {
            "gridcolor": "white",
            "linecolor": "white",
            "ticks": ""
           },
           "bgcolor": "#E5ECF6",
           "caxis": {
            "gridcolor": "white",
            "linecolor": "white",
            "ticks": ""
           }
          },
          "title": {
           "x": 0.05
          },
          "xaxis": {
           "automargin": true,
           "gridcolor": "white",
           "linecolor": "white",
           "ticks": "",
           "title": {
            "standoff": 15
           },
           "zerolinecolor": "white",
           "zerolinewidth": 2
          },
          "yaxis": {
           "automargin": true,
           "gridcolor": "white",
           "linecolor": "white",
           "ticks": "",
           "title": {
            "standoff": 15
           },
           "zerolinecolor": "white",
           "zerolinewidth": 2
          }
         }
        },
        "xaxis": {
         "anchor": "y",
         "domain": [
          0,
          1
         ],
         "title": {
          "text": "x"
         }
        },
        "yaxis": {
         "anchor": "x",
         "domain": [
          0,
          1
         ],
         "title": {
          "text": "y"
         }
        }
       }
      }
     },
     "metadata": {},
     "output_type": "display_data"
    },
    {
     "data": {
      "text/plain": [
       "<Figure size 300x300 with 0 Axes>"
      ]
     },
     "metadata": {},
     "output_type": "display_data"
    }
   ],
   "source": [
    "plt.figure(figsize = (3, 3))\n",
    "px.line(yozgat,x = yozgat[\"ds\"].loc[48:],y = yozgat[\"y\"].loc[48:])\n",
    "#plt.legend([\"forecast\",\"actual\"])"
   ]
  },
  {
   "cell_type": "code",
   "execution_count": 1407,
   "metadata": {},
   "outputs": [],
   "source": [
    "y_true = yozgat[\"y\"].loc[48:56].values\n",
    "y_predict = forecast[\"yhat\"].loc[0:8].values"
   ]
  },
  {
   "cell_type": "code",
   "execution_count": 1408,
   "metadata": {},
   "outputs": [
    {
     "data": {
      "application/vnd.plotly.v1+json": {
       "config": {
        "plotlyServerURL": "https://plot.ly"
       },
       "data": [
        {
         "hovertemplate": "ds=%{x}<br>yhat=%{y}<extra></extra>",
         "legendgroup": "",
         "line": {
          "color": "#636efa",
          "dash": "solid"
         },
         "marker": {
          "symbol": "circle"
         },
         "mode": "lines",
         "name": "",
         "orientation": "v",
         "showlegend": false,
         "type": "scatter",
         "x": [
          "2022-01-01T00:00:00",
          "2022-02-01T00:00:00",
          "2022-03-01T00:00:00",
          "2022-04-01T00:00:00",
          "2022-05-01T00:00:00",
          "2022-06-01T00:00:00",
          "2022-07-01T00:00:00",
          "2022-08-01T00:00:00",
          "2022-09-01T00:00:00",
          "2022-10-01T00:00:00",
          "2022-11-01T00:00:00",
          "2022-12-01T00:00:00"
         ],
         "xaxis": "x",
         "y": [
          14901863.408995818,
          16504000.207978493,
          14203076.73348406,
          13151028.121562706,
          7536966.752034558,
          4185549.6448939545,
          3577713.9106018096,
          3594941.131522879,
          6290887.761481625,
          19187577.281182423,
          18254537.635673687,
          19317995.83031968
         ],
         "yaxis": "y"
        }
       ],
       "layout": {
        "legend": {
         "tracegroupgap": 0
        },
        "margin": {
         "t": 60
        },
        "template": {
         "data": {
          "bar": [
           {
            "error_x": {
             "color": "#2a3f5f"
            },
            "error_y": {
             "color": "#2a3f5f"
            },
            "marker": {
             "line": {
              "color": "#E5ECF6",
              "width": 0.5
             },
             "pattern": {
              "fillmode": "overlay",
              "size": 10,
              "solidity": 0.2
             }
            },
            "type": "bar"
           }
          ],
          "barpolar": [
           {
            "marker": {
             "line": {
              "color": "#E5ECF6",
              "width": 0.5
             },
             "pattern": {
              "fillmode": "overlay",
              "size": 10,
              "solidity": 0.2
             }
            },
            "type": "barpolar"
           }
          ],
          "carpet": [
           {
            "aaxis": {
             "endlinecolor": "#2a3f5f",
             "gridcolor": "white",
             "linecolor": "white",
             "minorgridcolor": "white",
             "startlinecolor": "#2a3f5f"
            },
            "baxis": {
             "endlinecolor": "#2a3f5f",
             "gridcolor": "white",
             "linecolor": "white",
             "minorgridcolor": "white",
             "startlinecolor": "#2a3f5f"
            },
            "type": "carpet"
           }
          ],
          "choropleth": [
           {
            "colorbar": {
             "outlinewidth": 0,
             "ticks": ""
            },
            "type": "choropleth"
           }
          ],
          "contour": [
           {
            "colorbar": {
             "outlinewidth": 0,
             "ticks": ""
            },
            "colorscale": [
             [
              0,
              "#0d0887"
             ],
             [
              0.1111111111111111,
              "#46039f"
             ],
             [
              0.2222222222222222,
              "#7201a8"
             ],
             [
              0.3333333333333333,
              "#9c179e"
             ],
             [
              0.4444444444444444,
              "#bd3786"
             ],
             [
              0.5555555555555556,
              "#d8576b"
             ],
             [
              0.6666666666666666,
              "#ed7953"
             ],
             [
              0.7777777777777778,
              "#fb9f3a"
             ],
             [
              0.8888888888888888,
              "#fdca26"
             ],
             [
              1,
              "#f0f921"
             ]
            ],
            "type": "contour"
           }
          ],
          "contourcarpet": [
           {
            "colorbar": {
             "outlinewidth": 0,
             "ticks": ""
            },
            "type": "contourcarpet"
           }
          ],
          "heatmap": [
           {
            "colorbar": {
             "outlinewidth": 0,
             "ticks": ""
            },
            "colorscale": [
             [
              0,
              "#0d0887"
             ],
             [
              0.1111111111111111,
              "#46039f"
             ],
             [
              0.2222222222222222,
              "#7201a8"
             ],
             [
              0.3333333333333333,
              "#9c179e"
             ],
             [
              0.4444444444444444,
              "#bd3786"
             ],
             [
              0.5555555555555556,
              "#d8576b"
             ],
             [
              0.6666666666666666,
              "#ed7953"
             ],
             [
              0.7777777777777778,
              "#fb9f3a"
             ],
             [
              0.8888888888888888,
              "#fdca26"
             ],
             [
              1,
              "#f0f921"
             ]
            ],
            "type": "heatmap"
           }
          ],
          "heatmapgl": [
           {
            "colorbar": {
             "outlinewidth": 0,
             "ticks": ""
            },
            "colorscale": [
             [
              0,
              "#0d0887"
             ],
             [
              0.1111111111111111,
              "#46039f"
             ],
             [
              0.2222222222222222,
              "#7201a8"
             ],
             [
              0.3333333333333333,
              "#9c179e"
             ],
             [
              0.4444444444444444,
              "#bd3786"
             ],
             [
              0.5555555555555556,
              "#d8576b"
             ],
             [
              0.6666666666666666,
              "#ed7953"
             ],
             [
              0.7777777777777778,
              "#fb9f3a"
             ],
             [
              0.8888888888888888,
              "#fdca26"
             ],
             [
              1,
              "#f0f921"
             ]
            ],
            "type": "heatmapgl"
           }
          ],
          "histogram": [
           {
            "marker": {
             "pattern": {
              "fillmode": "overlay",
              "size": 10,
              "solidity": 0.2
             }
            },
            "type": "histogram"
           }
          ],
          "histogram2d": [
           {
            "colorbar": {
             "outlinewidth": 0,
             "ticks": ""
            },
            "colorscale": [
             [
              0,
              "#0d0887"
             ],
             [
              0.1111111111111111,
              "#46039f"
             ],
             [
              0.2222222222222222,
              "#7201a8"
             ],
             [
              0.3333333333333333,
              "#9c179e"
             ],
             [
              0.4444444444444444,
              "#bd3786"
             ],
             [
              0.5555555555555556,
              "#d8576b"
             ],
             [
              0.6666666666666666,
              "#ed7953"
             ],
             [
              0.7777777777777778,
              "#fb9f3a"
             ],
             [
              0.8888888888888888,
              "#fdca26"
             ],
             [
              1,
              "#f0f921"
             ]
            ],
            "type": "histogram2d"
           }
          ],
          "histogram2dcontour": [
           {
            "colorbar": {
             "outlinewidth": 0,
             "ticks": ""
            },
            "colorscale": [
             [
              0,
              "#0d0887"
             ],
             [
              0.1111111111111111,
              "#46039f"
             ],
             [
              0.2222222222222222,
              "#7201a8"
             ],
             [
              0.3333333333333333,
              "#9c179e"
             ],
             [
              0.4444444444444444,
              "#bd3786"
             ],
             [
              0.5555555555555556,
              "#d8576b"
             ],
             [
              0.6666666666666666,
              "#ed7953"
             ],
             [
              0.7777777777777778,
              "#fb9f3a"
             ],
             [
              0.8888888888888888,
              "#fdca26"
             ],
             [
              1,
              "#f0f921"
             ]
            ],
            "type": "histogram2dcontour"
           }
          ],
          "mesh3d": [
           {
            "colorbar": {
             "outlinewidth": 0,
             "ticks": ""
            },
            "type": "mesh3d"
           }
          ],
          "parcoords": [
           {
            "line": {
             "colorbar": {
              "outlinewidth": 0,
              "ticks": ""
             }
            },
            "type": "parcoords"
           }
          ],
          "pie": [
           {
            "automargin": true,
            "type": "pie"
           }
          ],
          "scatter": [
           {
            "fillpattern": {
             "fillmode": "overlay",
             "size": 10,
             "solidity": 0.2
            },
            "type": "scatter"
           }
          ],
          "scatter3d": [
           {
            "line": {
             "colorbar": {
              "outlinewidth": 0,
              "ticks": ""
             }
            },
            "marker": {
             "colorbar": {
              "outlinewidth": 0,
              "ticks": ""
             }
            },
            "type": "scatter3d"
           }
          ],
          "scattercarpet": [
           {
            "marker": {
             "colorbar": {
              "outlinewidth": 0,
              "ticks": ""
             }
            },
            "type": "scattercarpet"
           }
          ],
          "scattergeo": [
           {
            "marker": {
             "colorbar": {
              "outlinewidth": 0,
              "ticks": ""
             }
            },
            "type": "scattergeo"
           }
          ],
          "scattergl": [
           {
            "marker": {
             "colorbar": {
              "outlinewidth": 0,
              "ticks": ""
             }
            },
            "type": "scattergl"
           }
          ],
          "scattermapbox": [
           {
            "marker": {
             "colorbar": {
              "outlinewidth": 0,
              "ticks": ""
             }
            },
            "type": "scattermapbox"
           }
          ],
          "scatterpolar": [
           {
            "marker": {
             "colorbar": {
              "outlinewidth": 0,
              "ticks": ""
             }
            },
            "type": "scatterpolar"
           }
          ],
          "scatterpolargl": [
           {
            "marker": {
             "colorbar": {
              "outlinewidth": 0,
              "ticks": ""
             }
            },
            "type": "scatterpolargl"
           }
          ],
          "scatterternary": [
           {
            "marker": {
             "colorbar": {
              "outlinewidth": 0,
              "ticks": ""
             }
            },
            "type": "scatterternary"
           }
          ],
          "surface": [
           {
            "colorbar": {
             "outlinewidth": 0,
             "ticks": ""
            },
            "colorscale": [
             [
              0,
              "#0d0887"
             ],
             [
              0.1111111111111111,
              "#46039f"
             ],
             [
              0.2222222222222222,
              "#7201a8"
             ],
             [
              0.3333333333333333,
              "#9c179e"
             ],
             [
              0.4444444444444444,
              "#bd3786"
             ],
             [
              0.5555555555555556,
              "#d8576b"
             ],
             [
              0.6666666666666666,
              "#ed7953"
             ],
             [
              0.7777777777777778,
              "#fb9f3a"
             ],
             [
              0.8888888888888888,
              "#fdca26"
             ],
             [
              1,
              "#f0f921"
             ]
            ],
            "type": "surface"
           }
          ],
          "table": [
           {
            "cells": {
             "fill": {
              "color": "#EBF0F8"
             },
             "line": {
              "color": "white"
             }
            },
            "header": {
             "fill": {
              "color": "#C8D4E3"
             },
             "line": {
              "color": "white"
             }
            },
            "type": "table"
           }
          ]
         },
         "layout": {
          "annotationdefaults": {
           "arrowcolor": "#2a3f5f",
           "arrowhead": 0,
           "arrowwidth": 1
          },
          "autotypenumbers": "strict",
          "coloraxis": {
           "colorbar": {
            "outlinewidth": 0,
            "ticks": ""
           }
          },
          "colorscale": {
           "diverging": [
            [
             0,
             "#8e0152"
            ],
            [
             0.1,
             "#c51b7d"
            ],
            [
             0.2,
             "#de77ae"
            ],
            [
             0.3,
             "#f1b6da"
            ],
            [
             0.4,
             "#fde0ef"
            ],
            [
             0.5,
             "#f7f7f7"
            ],
            [
             0.6,
             "#e6f5d0"
            ],
            [
             0.7,
             "#b8e186"
            ],
            [
             0.8,
             "#7fbc41"
            ],
            [
             0.9,
             "#4d9221"
            ],
            [
             1,
             "#276419"
            ]
           ],
           "sequential": [
            [
             0,
             "#0d0887"
            ],
            [
             0.1111111111111111,
             "#46039f"
            ],
            [
             0.2222222222222222,
             "#7201a8"
            ],
            [
             0.3333333333333333,
             "#9c179e"
            ],
            [
             0.4444444444444444,
             "#bd3786"
            ],
            [
             0.5555555555555556,
             "#d8576b"
            ],
            [
             0.6666666666666666,
             "#ed7953"
            ],
            [
             0.7777777777777778,
             "#fb9f3a"
            ],
            [
             0.8888888888888888,
             "#fdca26"
            ],
            [
             1,
             "#f0f921"
            ]
           ],
           "sequentialminus": [
            [
             0,
             "#0d0887"
            ],
            [
             0.1111111111111111,
             "#46039f"
            ],
            [
             0.2222222222222222,
             "#7201a8"
            ],
            [
             0.3333333333333333,
             "#9c179e"
            ],
            [
             0.4444444444444444,
             "#bd3786"
            ],
            [
             0.5555555555555556,
             "#d8576b"
            ],
            [
             0.6666666666666666,
             "#ed7953"
            ],
            [
             0.7777777777777778,
             "#fb9f3a"
            ],
            [
             0.8888888888888888,
             "#fdca26"
            ],
            [
             1,
             "#f0f921"
            ]
           ]
          },
          "colorway": [
           "#636efa",
           "#EF553B",
           "#00cc96",
           "#ab63fa",
           "#FFA15A",
           "#19d3f3",
           "#FF6692",
           "#B6E880",
           "#FF97FF",
           "#FECB52"
          ],
          "font": {
           "color": "#2a3f5f"
          },
          "geo": {
           "bgcolor": "white",
           "lakecolor": "white",
           "landcolor": "#E5ECF6",
           "showlakes": true,
           "showland": true,
           "subunitcolor": "white"
          },
          "hoverlabel": {
           "align": "left"
          },
          "hovermode": "closest",
          "mapbox": {
           "style": "light"
          },
          "paper_bgcolor": "white",
          "plot_bgcolor": "#E5ECF6",
          "polar": {
           "angularaxis": {
            "gridcolor": "white",
            "linecolor": "white",
            "ticks": ""
           },
           "bgcolor": "#E5ECF6",
           "radialaxis": {
            "gridcolor": "white",
            "linecolor": "white",
            "ticks": ""
           }
          },
          "scene": {
           "xaxis": {
            "backgroundcolor": "#E5ECF6",
            "gridcolor": "white",
            "gridwidth": 2,
            "linecolor": "white",
            "showbackground": true,
            "ticks": "",
            "zerolinecolor": "white"
           },
           "yaxis": {
            "backgroundcolor": "#E5ECF6",
            "gridcolor": "white",
            "gridwidth": 2,
            "linecolor": "white",
            "showbackground": true,
            "ticks": "",
            "zerolinecolor": "white"
           },
           "zaxis": {
            "backgroundcolor": "#E5ECF6",
            "gridcolor": "white",
            "gridwidth": 2,
            "linecolor": "white",
            "showbackground": true,
            "ticks": "",
            "zerolinecolor": "white"
           }
          },
          "shapedefaults": {
           "line": {
            "color": "#2a3f5f"
           }
          },
          "ternary": {
           "aaxis": {
            "gridcolor": "white",
            "linecolor": "white",
            "ticks": ""
           },
           "baxis": {
            "gridcolor": "white",
            "linecolor": "white",
            "ticks": ""
           },
           "bgcolor": "#E5ECF6",
           "caxis": {
            "gridcolor": "white",
            "linecolor": "white",
            "ticks": ""
           }
          },
          "title": {
           "x": 0.05
          },
          "xaxis": {
           "automargin": true,
           "gridcolor": "white",
           "linecolor": "white",
           "ticks": "",
           "title": {
            "standoff": 15
           },
           "zerolinecolor": "white",
           "zerolinewidth": 2
          },
          "yaxis": {
           "automargin": true,
           "gridcolor": "white",
           "linecolor": "white",
           "ticks": "",
           "title": {
            "standoff": 15
           },
           "zerolinecolor": "white",
           "zerolinewidth": 2
          }
         }
        },
        "xaxis": {
         "anchor": "y",
         "domain": [
          0,
          1
         ],
         "title": {
          "text": "ds"
         }
        },
        "yaxis": {
         "anchor": "x",
         "domain": [
          0,
          1
         ],
         "title": {
          "text": "yhat"
         }
        }
       }
      }
     },
     "metadata": {},
     "output_type": "display_data"
    }
   ],
   "source": [
    "\n",
    "px.line(forecast,x = forecast[\"ds\"], y = forecast[\"yhat\"])"
   ]
  },
  {
   "cell_type": "code",
   "execution_count": 1409,
   "metadata": {},
   "outputs": [],
   "source": [
    "from sklearn.metrics import mean_absolute_error"
   ]
  },
  {
   "cell_type": "code",
   "execution_count": 1410,
   "metadata": {},
   "outputs": [
    {
     "name": "stdout",
     "output_type": "stream",
     "text": [
      "2083077.75\n"
     ]
    }
   ],
   "source": [
    "print(\"%.2f\"%mean_absolute_error(y_true,y_predict))"
   ]
  },
  {
   "cell_type": "code",
   "execution_count": 1411,
   "metadata": {},
   "outputs": [
    {
     "data": {
      "text/plain": [
       "[<matplotlib.lines.Line2D at 0x1fa82b9a020>]"
      ]
     },
     "execution_count": 1411,
     "metadata": {},
     "output_type": "execute_result"
    },
    {
     "data": {
      "image/png": "[encoded data removed]",
      "text/plain": [
       "<Figure size 640x480 with 1 Axes>"
      ]
     },
     "metadata": {},
     "output_type": "display_data"
    }
   ],
   "source": [
    "plt.plot(y_true)\n",
    "plt.plot(y_predict)"
   ]
  },
  {
   "cell_type": "code",
   "execution_count": 1412,
   "metadata": {},
   "outputs": [
    {
     "data": {
      "text/plain": [
       "0.8782552085491774"
      ]
     },
     "execution_count": 1412,
     "metadata": {},
     "output_type": "execute_result"
    }
   ],
   "source": [
    "r2_score(y_true,y_predict)"
   ]
  },
  {
   "cell_type": "code",
   "execution_count": 1413,
   "metadata": {},
   "outputs": [
    {
     "data": {
      "application/vnd.plotly.v1+json": {
       "config": {
        "plotlyServerURL": "https://plot.ly"
       },
       "data": [
        {
         "hovertemplate": "ds=%{x}<br>yhat=%{y}<extra></extra>",
         "legendgroup": "",
         "line": {
          "color": "#636efa",
          "dash": "solid"
         },
         "marker": {
          "symbol": "circle"
         },
         "mode": "lines",
         "name": "",
         "orientation": "v",
         "showlegend": false,
         "type": "scatter",
         "x": [
          "2022-01-01T00:00:00",
          "2022-02-01T00:00:00",
          "2022-03-01T00:00:00",
          "2022-04-01T00:00:00",
          "2022-05-01T00:00:00",
          "2022-06-01T00:00:00",
          "2022-07-01T00:00:00",
          "2022-08-01T00:00:00",
          "2022-09-01T00:00:00",
          "2022-10-01T00:00:00",
          "2022-11-01T00:00:00",
          "2022-12-01T00:00:00"
         ],
         "xaxis": "x",
         "y": [
          14901863.408995818,
          16504000.207978493,
          14203076.73348406,
          13151028.121562706,
          7536966.752034558,
          4185549.6448939545,
          3577713.9106018096,
          3594941.131522879,
          6290887.761481625,
          19187577.281182423,
          18254537.635673687,
          19317995.83031968
         ],
         "yaxis": "y"
        }
       ],
       "layout": {
        "legend": {
         "tracegroupgap": 0
        },
        "margin": {
         "t": 60
        },
        "template": {
         "data": {
          "bar": [
           {
            "error_x": {
             "color": "#2a3f5f"
            },
            "error_y": {
             "color": "#2a3f5f"
            },
            "marker": {
             "line": {
              "color": "#E5ECF6",
              "width": 0.5
             },
             "pattern": {
              "fillmode": "overlay",
              "size": 10,
              "solidity": 0.2
             }
            },
            "type": "bar"
           }
          ],
          "barpolar": [
           {
            "marker": {
             "line": {
              "color": "#E5ECF6",
              "width": 0.5
             },
             "pattern": {
              "fillmode": "overlay",
              "size": 10,
              "solidity": 0.2
             }
            },
            "type": "barpolar"
           }
          ],
          "carpet": [
           {
            "aaxis": {
             "endlinecolor": "#2a3f5f",
             "gridcolor": "white",
             "linecolor": "white",
             "minorgridcolor": "white",
             "startlinecolor": "#2a3f5f"
            },
            "baxis": {
             "endlinecolor": "#2a3f5f",
             "gridcolor": "white",
             "linecolor": "white",
             "minorgridcolor": "white",
             "startlinecolor": "#2a3f5f"
            },
            "type": "carpet"
           }
          ],
          "choropleth": [
           {
            "colorbar": {
             "outlinewidth": 0,
             "ticks": ""
            },
            "type": "choropleth"
           }
          ],
          "contour": [
           {
            "colorbar": {
             "outlinewidth": 0,
             "ticks": ""
            },
            "colorscale": [
             [
              0,
              "#0d0887"
             ],
             [
              0.1111111111111111,
              "#46039f"
             ],
             [
              0.2222222222222222,
              "#7201a8"
             ],
             [
              0.3333333333333333,
              "#9c179e"
             ],
             [
              0.4444444444444444,
              "#bd3786"
             ],
             [
              0.5555555555555556,
              "#d8576b"
             ],
             [
              0.6666666666666666,
              "#ed7953"
             ],
             [
              0.7777777777777778,
              "#fb9f3a"
             ],
             [
              0.8888888888888888,
              "#fdca26"
             ],
             [
              1,
              "#f0f921"
             ]
            ],
            "type": "contour"
           }
          ],
          "contourcarpet": [
           {
            "colorbar": {
             "outlinewidth": 0,
             "ticks": ""
            },
            "type": "contourcarpet"
           }
          ],
          "heatmap": [
           {
            "colorbar": {
             "outlinewidth": 0,
             "ticks": ""
            },
            "colorscale": [
             [
              0,
              "#0d0887"
             ],
             [
              0.1111111111111111,
              "#46039f"
             ],
             [
              0.2222222222222222,
              "#7201a8"
             ],
             [
              0.3333333333333333,
              "#9c179e"
             ],
             [
              0.4444444444444444,
              "#bd3786"
             ],
             [
              0.5555555555555556,
              "#d8576b"
             ],
             [
              0.6666666666666666,
              "#ed7953"
             ],
             [
              0.7777777777777778,
              "#fb9f3a"
             ],
             [
              0.8888888888888888,
              "#fdca26"
             ],
             [
              1,
              "#f0f921"
             ]
            ],
            "type": "heatmap"
           }
          ],
          "heatmapgl": [
           {
            "colorbar": {
             "outlinewidth": 0,
             "ticks": ""
            },
            "colorscale": [
             [
              0,
              "#0d0887"
             ],
             [
              0.1111111111111111,
              "#46039f"
             ],
             [
              0.2222222222222222,
              "#7201a8"
             ],
             [
              0.3333333333333333,
              "#9c179e"
             ],
             [
              0.4444444444444444,
              "#bd3786"
             ],
             [
              0.5555555555555556,
              "#d8576b"
             ],
             [
              0.6666666666666666,
              "#ed7953"
             ],
             [
              0.7777777777777778,
              "#fb9f3a"
             ],
             [
              0.8888888888888888,
              "#fdca26"
             ],
             [
              1,
              "#f0f921"
             ]
            ],
            "type": "heatmapgl"
           }
          ],
          "histogram": [
           {
            "marker": {
             "pattern": {
              "fillmode": "overlay",
              "size": 10,
              "solidity": 0.2
             }
            },
            "type": "histogram"
           }
          ],
          "histogram2d": [
           {
            "colorbar": {
             "outlinewidth": 0,
             "ticks": ""
            },
            "colorscale": [
             [
              0,
              "#0d0887"
             ],
             [
              0.1111111111111111,
              "#46039f"
             ],
             [
              0.2222222222222222,
              "#7201a8"
             ],
             [
              0.3333333333333333,
              "#9c179e"
             ],
             [
              0.4444444444444444,
              "#bd3786"
             ],
             [
              0.5555555555555556,
              "#d8576b"
             ],
             [
              0.6666666666666666,
              "#ed7953"
             ],
             [
              0.7777777777777778,
              "#fb9f3a"
             ],
             [
              0.8888888888888888,
              "#fdca26"
             ],
             [
              1,
              "#f0f921"
             ]
            ],
            "type": "histogram2d"
           }
          ],
          "histogram2dcontour": [
           {
            "colorbar": {
             "outlinewidth": 0,
             "ticks": ""
            },
            "colorscale": [
             [
              0,
              "#0d0887"
             ],
             [
              0.1111111111111111,
              "#46039f"
             ],
             [
              0.2222222222222222,
              "#7201a8"
             ],
             [
              0.3333333333333333,
              "#9c179e"
             ],
             [
              0.4444444444444444,
              "#bd3786"
             ],
             [
              0.5555555555555556,
              "#d8576b"
             ],
             [
              0.6666666666666666,
              "#ed7953"
             ],
             [
              0.7777777777777778,
              "#fb9f3a"
             ],
             [
              0.8888888888888888,
              "#fdca26"
             ],
             [
              1,
              "#f0f921"
             ]
            ],
            "type": "histogram2dcontour"
           }
          ],
          "mesh3d": [
           {
            "colorbar": {
             "outlinewidth": 0,
             "ticks": ""
            },
            "type": "mesh3d"
           }
          ],
          "parcoords": [
           {
            "line": {
             "colorbar": {
              "outlinewidth": 0,
              "ticks": ""
             }
            },
            "type": "parcoords"
           }
          ],
          "pie": [
           {
            "automargin": true,
            "type": "pie"
           }
          ],
          "scatter": [
           {
            "fillpattern": {
             "fillmode": "overlay",
             "size": 10,
             "solidity": 0.2
            },
            "type": "scatter"
           }
          ],
          "scatter3d": [
           {
            "line": {
             "colorbar": {
              "outlinewidth": 0,
              "ticks": ""
             }
            },
            "marker": {
             "colorbar": {
              "outlinewidth": 0,
              "ticks": ""
             }
            },
            "type": "scatter3d"
           }
          ],
          "scattercarpet": [
           {
            "marker": {
             "colorbar": {
              "outlinewidth": 0,
              "ticks": ""
             }
            },
            "type": "scattercarpet"
           }
          ],
          "scattergeo": [
           {
            "marker": {
             "colorbar": {
              "outlinewidth": 0,
              "ticks": ""
             }
            },
            "type": "scattergeo"
           }
          ],
          "scattergl": [
           {
            "marker": {
             "colorbar": {
              "outlinewidth": 0,
              "ticks": ""
             }
            },
            "type": "scattergl"
           }
          ],
          "scattermapbox": [
           {
            "marker": {
             "colorbar": {
              "outlinewidth": 0,
              "ticks": ""
             }
            },
            "type": "scattermapbox"
           }
          ],
          "scatterpolar": [
           {
            "marker": {
             "colorbar": {
              "outlinewidth": 0,
              "ticks": ""
             }
            },
            "type": "scatterpolar"
           }
          ],
          "scatterpolargl": [
           {
            "marker": {
             "colorbar": {
              "outlinewidth": 0,
              "ticks": ""
             }
            },
            "type": "scatterpolargl"
           }
          ],
          "scatterternary": [
           {
            "marker": {
             "colorbar": {
              "outlinewidth": 0,
              "ticks": ""
             }
            },
            "type": "scatterternary"
           }
          ],
          "surface": [
           {
            "colorbar": {
             "outlinewidth": 0,
             "ticks": ""
            },
            "colorscale": [
             [
              0,
              "#0d0887"
             ],
             [
              0.1111111111111111,
              "#46039f"
             ],
             [
              0.2222222222222222,
              "#7201a8"
             ],
             [
              0.3333333333333333,
              "#9c179e"
             ],
             [
              0.4444444444444444,
              "#bd3786"
             ],
             [
              0.5555555555555556,
              "#d8576b"
             ],
             [
              0.6666666666666666,
              "#ed7953"
             ],
             [
              0.7777777777777778,
              "#fb9f3a"
             ],
             [
              0.8888888888888888,
              "#fdca26"
             ],
             [
              1,
              "#f0f921"
             ]
            ],
            "type": "surface"
           }
          ],
          "table": [
           {
            "cells": {
             "fill": {
              "color": "#EBF0F8"
             },
             "line": {
              "color": "white"
             }
            },
            "header": {
             "fill": {
              "color": "#C8D4E3"
             },
             "line": {
              "color": "white"
             }
            },
            "type": "table"
           }
          ]
         },
         "layout": {
          "annotationdefaults": {
           "arrowcolor": "#2a3f5f",
           "arrowhead": 0,
           "arrowwidth": 1
          },
          "autotypenumbers": "strict",
          "coloraxis": {
           "colorbar": {
            "outlinewidth": 0,
            "ticks": ""
           }
          },
          "colorscale": {
           "diverging": [
            [
             0,
             "#8e0152"
            ],
            [
             0.1,
             "#c51b7d"
            ],
            [
             0.2,
             "#de77ae"
            ],
            [
             0.3,
             "#f1b6da"
            ],
            [
             0.4,
             "#fde0ef"
            ],
            [
             0.5,
             "#f7f7f7"
            ],
            [
             0.6,
             "#e6f5d0"
            ],
            [
             0.7,
             "#b8e186"
            ],
            [
             0.8,
             "#7fbc41"
            ],
            [
             0.9,
             "#4d9221"
            ],
            [
             1,
             "#276419"
            ]
           ],
           "sequential": [
            [
             0,
             "#0d0887"
            ],
            [
             0.1111111111111111,
             "#46039f"
            ],
            [
             0.2222222222222222,
             "#7201a8"
            ],
            [
             0.3333333333333333,
             "#9c179e"
            ],
            [
             0.4444444444444444,
             "#bd3786"
            ],
            [
             0.5555555555555556,
             "#d8576b"
            ],
            [
             0.6666666666666666,
             "#ed7953"
            ],
            [
             0.7777777777777778,
             "#fb9f3a"
            ],
            [
             0.8888888888888888,
             "#fdca26"
            ],
            [
             1,
             "#f0f921"
            ]
           ],
           "sequentialminus": [
            [
             0,
             "#0d0887"
            ],
            [
             0.1111111111111111,
             "#46039f"
            ],
            [
             0.2222222222222222,
             "#7201a8"
            ],
            [
             0.3333333333333333,
             "#9c179e"
            ],
            [
             0.4444444444444444,
             "#bd3786"
            ],
            [
             0.5555555555555556,
             "#d8576b"
            ],
            [
             0.6666666666666666,
             "#ed7953"
            ],
            [
             0.7777777777777778,
             "#fb9f3a"
            ],
            [
             0.8888888888888888,
             "#fdca26"
            ],
            [
             1,
             "#f0f921"
            ]
           ]
          },
          "colorway": [
           "#636efa",
           "#EF553B",
           "#00cc96",
           "#ab63fa",
           "#FFA15A",
           "#19d3f3",
           "#FF6692",
           "#B6E880",
           "#FF97FF",
           "#FECB52"
          ],
          "font": {
           "color": "#2a3f5f"
          },
          "geo": {
           "bgcolor": "white",
           "lakecolor": "white",
           "landcolor": "#E5ECF6",
           "showlakes": true,
           "showland": true,
           "subunitcolor": "white"
          },
          "hoverlabel": {
           "align": "left"
          },
          "hovermode": "closest",
          "mapbox": {
           "style": "light"
          },
          "paper_bgcolor": "white",
          "plot_bgcolor": "#E5ECF6",
          "polar": {
           "angularaxis": {
            "gridcolor": "white",
            "linecolor": "white",
            "ticks": ""
           },
           "bgcolor": "#E5ECF6",
           "radialaxis": {
            "gridcolor": "white",
            "linecolor": "white",
            "ticks": ""
           }
          },
          "scene": {
           "xaxis": {
            "backgroundcolor": "#E5ECF6",
            "gridcolor": "white",
            "gridwidth": 2,
            "linecolor": "white",
            "showbackground": true,
            "ticks": "",
            "zerolinecolor": "white"
           },
           "yaxis": {
            "backgroundcolor": "#E5ECF6",
            "gridcolor": "white",
            "gridwidth": 2,
            "linecolor": "white",
            "showbackground": true,
            "ticks": "",
            "zerolinecolor": "white"
           },
           "zaxis": {
            "backgroundcolor": "#E5ECF6",
            "gridcolor": "white",
            "gridwidth": 2,
            "linecolor": "white",
            "showbackground": true,
            "ticks": "",
            "zerolinecolor": "white"
           }
          },
          "shapedefaults": {
           "line": {
            "color": "#2a3f5f"
           }
          },
          "ternary": {
           "aaxis": {
            "gridcolor": "white",
            "linecolor": "white",
            "ticks": ""
           },
           "baxis": {
            "gridcolor": "white",
            "linecolor": "white",
            "ticks": ""
           },
           "bgcolor": "#E5ECF6",
           "caxis": {
            "gridcolor": "white",
            "linecolor": "white",
            "ticks": ""
           }
          },
          "title": {
           "x": 0.05
          },
          "xaxis": {
           "automargin": true,
           "gridcolor": "white",
           "linecolor": "white",
           "ticks": "",
           "title": {
            "standoff": 15
           },
           "zerolinecolor": "white",
           "zerolinewidth": 2
          },
          "yaxis": {
           "automargin": true,
           "gridcolor": "white",
           "linecolor": "white",
           "ticks": "",
           "title": {
            "standoff": 15
           },
           "zerolinecolor": "white",
           "zerolinewidth": 2
          }
         }
        },
        "xaxis": {
         "anchor": "y",
         "domain": [
          0,
          1
         ],
         "title": {
          "text": "ds"
         }
        },
        "yaxis": {
         "anchor": "x",
         "domain": [
          0,
          1
         ],
         "title": {
          "text": "yhat"
         }
        }
       }
      }
     },
     "metadata": {},
     "output_type": "display_data"
    }
   ],
   "source": [
    "px.line(forecast,x = forecast[\"ds\"] , y = forecast[\"yhat\"])"
   ]
  },
  {
   "cell_type": "markdown",
   "metadata": {},
   "source": [
    "Tahminler ile Doğru Verilerinin Grafikte Görünümü"
   ]
  },
  {
   "cell_type": "code",
   "execution_count": 1414,
   "metadata": {},
   "outputs": [
    {
     "data": {
      "text/plain": [
       "[<matplotlib.lines.Line2D at 0x1fa647988e0>]"
      ]
     },
     "execution_count": 1414,
     "metadata": {},
     "output_type": "execute_result"
    },
    {
     "data": {
      "image/png": "[encoded data removed]",
      "text/plain": [
       "<Figure size 640x480 with 1 Axes>"
      ]
     },
     "metadata": {},
     "output_type": "display_data"
    }
   ],
   "source": [
    "plt.plot(yozgat[\"ds\"].loc[48:],yozgat[\"y\"].loc[48:],color = \"red\")\n",
    "plt.plot(forecast[\"ds\"],forecast[\"yhat\"],color = \"blue\")"
   ]
  },
  {
   "cell_type": "markdown",
   "metadata": {},
   "source": [
    "Kırşehir"
   ]
  },
  {
   "cell_type": "code",
   "execution_count": 1415,
   "metadata": {},
   "outputs": [],
   "source": [
    "model = Prophet()\n"
   ]
  },
  {
   "cell_type": "code",
   "execution_count": 1416,
   "metadata": {},
   "outputs": [],
   "source": [
    "kırşehir[\"ds\"] = kırşehir[\"yil\"].astype(str)+'-'+kırşehir[\"ay\"].astype(str)\n",
    "kırşehir[\"ds\"] = pd.to_datetime(kırşehir[\"ds\"])"
   ]
  },
  {
   "cell_type": "code",
   "execution_count": 1417,
   "metadata": {},
   "outputs": [],
   "source": [
    "kırşehir.drop([\"yil\",\"ay\"],axis = 1 , inplace = True)\n",
    "kırşehir[\"y\"] = kırşehir[\"sm3\"]\n",
    "kırşehir.drop(\"sm3\",axis = 1,inplace = True)"
   ]
  },
  {
   "cell_type": "code",
   "execution_count": 1418,
   "metadata": {},
   "outputs": [
    {
     "name": "stderr",
     "output_type": "stream",
     "text": [
      "17:03:31 - cmdstanpy - INFO - Chain [1] start processing\n",
      "17:03:31 - cmdstanpy - INFO - Chain [1] done processing\n"
     ]
    },
    {
     "data": {
      "text/plain": [
       "<prophet.forecaster.Prophet at 0x1fa64748e50>"
      ]
     },
     "execution_count": 1418,
     "metadata": {},
     "output_type": "execute_result"
    }
   ],
   "source": [
    "model.fit(kırşehir)"
   ]
  },
  {
   "cell_type": "code",
   "execution_count": 1419,
   "metadata": {},
   "outputs": [
    {
     "data": {
      "text/html": [
       "<div>\n",
       "<style scoped>\n",
       "    .dataframe tbody tr th:only-of-type {\n",
       "        vertical-align: middle;\n",
       "    }\n",
       "\n",
       "    .dataframe tbody tr th {\n",
       "        vertical-align: top;\n",
       "    }\n",
       "\n",
       "    .dataframe thead th {\n",
       "        text-align: right;\n",
       "    }\n",
       "</style>\n",
       "<table border=\"1\" class=\"dataframe\">\n",
       "  <thead>\n",
       "    <tr style=\"text-align: right;\">\n",
       "      <th></th>\n",
       "      <th>ds</th>\n",
       "    </tr>\n",
       "  </thead>\n",
       "  <tbody>\n",
       "    <tr>\n",
       "      <th>0</th>\n",
       "      <td>2022-01-01</td>\n",
       "    </tr>\n",
       "    <tr>\n",
       "      <th>1</th>\n",
       "      <td>2022-02-01</td>\n",
       "    </tr>\n",
       "    <tr>\n",
       "      <th>2</th>\n",
       "      <td>2022-03-01</td>\n",
       "    </tr>\n",
       "    <tr>\n",
       "      <th>3</th>\n",
       "      <td>2022-04-01</td>\n",
       "    </tr>\n",
       "    <tr>\n",
       "      <th>4</th>\n",
       "      <td>2022-05-01</td>\n",
       "    </tr>\n",
       "    <tr>\n",
       "      <th>5</th>\n",
       "      <td>2022-06-01</td>\n",
       "    </tr>\n",
       "    <tr>\n",
       "      <th>6</th>\n",
       "      <td>2022-07-01</td>\n",
       "    </tr>\n",
       "    <tr>\n",
       "      <th>7</th>\n",
       "      <td>2022-08-01</td>\n",
       "    </tr>\n",
       "    <tr>\n",
       "      <th>8</th>\n",
       "      <td>2022-09-01</td>\n",
       "    </tr>\n",
       "    <tr>\n",
       "      <th>9</th>\n",
       "      <td>2022-10-01</td>\n",
       "    </tr>\n",
       "    <tr>\n",
       "      <th>10</th>\n",
       "      <td>2022-11-01</td>\n",
       "    </tr>\n",
       "    <tr>\n",
       "      <th>11</th>\n",
       "      <td>2022-12-01</td>\n",
       "    </tr>\n",
       "  </tbody>\n",
       "</table>\n",
       "</div>"
      ],
      "text/plain": [
       "           ds\n",
       "0  2022-01-01\n",
       "1  2022-02-01\n",
       "2  2022-03-01\n",
       "3  2022-04-01\n",
       "4  2022-05-01\n",
       "5  2022-06-01\n",
       "6  2022-07-01\n",
       "7  2022-08-01\n",
       "8  2022-09-01\n",
       "9  2022-10-01\n",
       "10 2022-11-01\n",
       "11 2022-12-01"
      ]
     },
     "execution_count": 1419,
     "metadata": {},
     "output_type": "execute_result"
    }
   ],
   "source": [
    "future = list()\n",
    "for i in range(1,13):\n",
    "    date = \"2022-%02d\" % i\n",
    "    future.append([date])\n",
    "future = pd.DataFrame(future)\n",
    "\n",
    "future.columns = [\"ds\"]\n",
    "future[\"ds\"] = pd.to_datetime(future[\"ds\"])\n",
    "\n",
    "forecast = model.predict(future)\n",
    "future.columns = [\"ds\"]\n",
    "future[\"ds\"] = pd.to_datetime(future[\"ds\"],format = '%Y')\n",
    "future"
   ]
  },
  {
   "cell_type": "code",
   "execution_count": 1420,
   "metadata": {},
   "outputs": [],
   "source": [
    "forecast = model.predict(future)"
   ]
  },
  {
   "cell_type": "code",
   "execution_count": 1421,
   "metadata": {},
   "outputs": [
    {
     "data": {
      "image/png": "[encoded data removed]",
      "text/plain": [
       "<Figure size 1000x600 with 1 Axes>"
      ]
     },
     "metadata": {},
     "output_type": "display_data"
    }
   ],
   "source": [
    "model.plot(forecast)\n",
    "plt.show()"
   ]
  },
  {
   "cell_type": "code",
   "execution_count": 1422,
   "metadata": {},
   "outputs": [
    {
     "data": {
      "application/vnd.plotly.v1+json": {
       "config": {
        "plotlyServerURL": "https://plot.ly"
       },
       "data": [
        {
         "hovertemplate": "ds=%{x}<br>y=%{y}<extra></extra>",
         "legendgroup": "",
         "line": {
          "color": "#636efa",
          "dash": "solid"
         },
         "marker": {
          "symbol": "circle"
         },
         "mode": "lines",
         "name": "",
         "orientation": "v",
         "showlegend": false,
         "type": "scatter",
         "x": [
          "2018-01-01T00:00:00",
          "2018-02-01T00:00:00",
          "2018-03-01T00:00:00",
          "2018-04-01T00:00:00",
          "2018-05-01T00:00:00",
          "2018-06-01T00:00:00",
          "2018-07-01T00:00:00",
          "2018-08-01T00:00:00",
          "2018-09-01T00:00:00",
          "2018-10-01T00:00:00",
          "2018-11-01T00:00:00",
          "2018-12-01T00:00:00",
          "2019-01-01T00:00:00",
          "2019-02-01T00:00:00",
          "2019-03-01T00:00:00",
          "2019-04-01T00:00:00",
          "2019-05-01T00:00:00",
          "2019-06-01T00:00:00",
          "2019-07-01T00:00:00",
          "2019-08-01T00:00:00",
          "2019-09-01T00:00:00",
          "2019-10-01T00:00:00",
          "2019-11-01T00:00:00",
          "2019-12-01T00:00:00",
          "2020-01-01T00:00:00",
          "2020-02-01T00:00:00",
          "2020-03-01T00:00:00",
          "2020-04-01T00:00:00",
          "2020-05-01T00:00:00",
          "2020-06-01T00:00:00",
          "2020-07-01T00:00:00",
          "2020-08-01T00:00:00",
          "2020-09-01T00:00:00",
          "2020-10-01T00:00:00",
          "2020-11-01T00:00:00",
          "2020-12-01T00:00:00",
          "2021-01-01T00:00:00",
          "2021-02-01T00:00:00",
          "2021-03-01T00:00:00",
          "2021-04-01T00:00:00",
          "2021-05-01T00:00:00",
          "2021-06-01T00:00:00",
          "2021-07-01T00:00:00",
          "2021-08-01T00:00:00",
          "2021-09-01T00:00:00",
          "2021-10-01T00:00:00",
          "2021-11-01T00:00:00",
          "2021-12-01T00:00:00",
          "2022-01-01T00:00:00",
          "2022-02-01T00:00:00",
          "2022-03-01T00:00:00",
          "2022-04-01T00:00:00",
          "2022-05-01T00:00:00",
          "2022-06-01T00:00:00",
          "2022-07-01T00:00:00",
          "2022-08-01T00:00:00",
          "2022-09-01T00:00:00"
         ],
         "xaxis": "x",
         "y": [
          305304.539189661,
          335354.89380996063,
          230954.4628268794,
          157594.5884747612,
          63684.625806844306,
          41255.81047257083,
          32335.808725285384,
          39427.1082143138,
          32511.066727261827,
          87460.84128143202,
          123835.07822904382,
          292491.1071166952,
          362002.9383168188,
          366600.154605575,
          286461.78320870374,
          252798.26745897287,
          145977.98485325716,
          53170.5506538986,
          38367.30075967042,
          30549.4826645779,
          52945.77193833836,
          59729.8620410432,
          164181.3230405177,
          248459.1548080727,
          325749.25511152204,
          407045.7507275097,
          309094.9766006685,
          220436.44610750963,
          127514.39540296537,
          65423.74608785582,
          42442.3701384014,
          38652.23419155395,
          37249.25997992202,
          70190.86209168113,
          90294.51445959564,
          352999.54270850465,
          342459.2802920763,
          351095.0797894431,
          316394.45305039897,
          314236.5239399983,
          139019.04391850028,
          53192.97023860708,
          44042.93041756775,
          61472.06912859031,
          74239.58091669095,
          122209.80412991288,
          158726.47707534806,
          418180.1198975004,
          365275.8426636061,
          500776.95267771935,
          372313.47888110875,
          359240.21952705714,
          126344.2939425295,
          53807.55925704187,
          41681.34804799803,
          49683.65135155991,
          21697.4823421143
         ],
         "yaxis": "y"
        }
       ],
       "layout": {
        "legend": {
         "tracegroupgap": 0
        },
        "margin": {
         "t": 60
        },
        "template": {
         "data": {
          "bar": [
           {
            "error_x": {
             "color": "#2a3f5f"
            },
            "error_y": {
             "color": "#2a3f5f"
            },
            "marker": {
             "line": {
              "color": "#E5ECF6",
              "width": 0.5
             },
             "pattern": {
              "fillmode": "overlay",
              "size": 10,
              "solidity": 0.2
             }
            },
            "type": "bar"
           }
          ],
          "barpolar": [
           {
            "marker": {
             "line": {
              "color": "#E5ECF6",
              "width": 0.5
             },
             "pattern": {
              "fillmode": "overlay",
              "size": 10,
              "solidity": 0.2
             }
            },
            "type": "barpolar"
           }
          ],
          "carpet": [
           {
            "aaxis": {
             "endlinecolor": "#2a3f5f",
             "gridcolor": "white",
             "linecolor": "white",
             "minorgridcolor": "white",
             "startlinecolor": "#2a3f5f"
            },
            "baxis": {
             "endlinecolor": "#2a3f5f",
             "gridcolor": "white",
             "linecolor": "white",
             "minorgridcolor": "white",
             "startlinecolor": "#2a3f5f"
            },
            "type": "carpet"
           }
          ],
          "choropleth": [
           {
            "colorbar": {
             "outlinewidth": 0,
             "ticks": ""
            },
            "type": "choropleth"
           }
          ],
          "contour": [
           {
            "colorbar": {
             "outlinewidth": 0,
             "ticks": ""
            },
            "colorscale": [
             [
              0,
              "#0d0887"
             ],
             [
              0.1111111111111111,
              "#46039f"
             ],
             [
              0.2222222222222222,
              "#7201a8"
             ],
             [
              0.3333333333333333,
              "#9c179e"
             ],
             [
              0.4444444444444444,
              "#bd3786"
             ],
             [
              0.5555555555555556,
              "#d8576b"
             ],
             [
              0.6666666666666666,
              "#ed7953"
             ],
             [
              0.7777777777777778,
              "#fb9f3a"
             ],
             [
              0.8888888888888888,
              "#fdca26"
             ],
             [
              1,
              "#f0f921"
             ]
            ],
            "type": "contour"
           }
          ],
          "contourcarpet": [
           {
            "colorbar": {
             "outlinewidth": 0,
             "ticks": ""
            },
            "type": "contourcarpet"
           }
          ],
          "heatmap": [
           {
            "colorbar": {
             "outlinewidth": 0,
             "ticks": ""
            },
            "colorscale": [
             [
              0,
              "#0d0887"
             ],
             [
              0.1111111111111111,
              "#46039f"
             ],
             [
              0.2222222222222222,
              "#7201a8"
             ],
             [
              0.3333333333333333,
              "#9c179e"
             ],
             [
              0.4444444444444444,
              "#bd3786"
             ],
             [
              0.5555555555555556,
              "#d8576b"
             ],
             [
              0.6666666666666666,
              "#ed7953"
             ],
             [
              0.7777777777777778,
              "#fb9f3a"
             ],
             [
              0.8888888888888888,
              "#fdca26"
             ],
             [
              1,
              "#f0f921"
             ]
            ],
            "type": "heatmap"
           }
          ],
          "heatmapgl": [
           {
            "colorbar": {
             "outlinewidth": 0,
             "ticks": ""
            },
            "colorscale": [
             [
              0,
              "#0d0887"
             ],
             [
              0.1111111111111111,
              "#46039f"
             ],
             [
              0.2222222222222222,
              "#7201a8"
             ],
             [
              0.3333333333333333,
              "#9c179e"
             ],
             [
              0.4444444444444444,
              "#bd3786"
             ],
             [
              0.5555555555555556,
              "#d8576b"
             ],
             [
              0.6666666666666666,
              "#ed7953"
             ],
             [
              0.7777777777777778,
              "#fb9f3a"
             ],
             [
              0.8888888888888888,
              "#fdca26"
             ],
             [
              1,
              "#f0f921"
             ]
            ],
            "type": "heatmapgl"
           }
          ],
          "histogram": [
           {
            "marker": {
             "pattern": {
              "fillmode": "overlay",
              "size": 10,
              "solidity": 0.2
             }
            },
            "type": "histogram"
           }
          ],
          "histogram2d": [
           {
            "colorbar": {
             "outlinewidth": 0,
             "ticks": ""
            },
            "colorscale": [
             [
              0,
              "#0d0887"
             ],
             [
              0.1111111111111111,
              "#46039f"
             ],
             [
              0.2222222222222222,
              "#7201a8"
             ],
             [
              0.3333333333333333,
              "#9c179e"
             ],
             [
              0.4444444444444444,
              "#bd3786"
             ],
             [
              0.5555555555555556,
              "#d8576b"
             ],
             [
              0.6666666666666666,
              "#ed7953"
             ],
             [
              0.7777777777777778,
              "#fb9f3a"
             ],
             [
              0.8888888888888888,
              "#fdca26"
             ],
             [
              1,
              "#f0f921"
             ]
            ],
            "type": "histogram2d"
           }
          ],
          "histogram2dcontour": [
           {
            "colorbar": {
             "outlinewidth": 0,
             "ticks": ""
            },
            "colorscale": [
             [
              0,
              "#0d0887"
             ],
             [
              0.1111111111111111,
              "#46039f"
             ],
             [
              0.2222222222222222,
              "#7201a8"
             ],
             [
              0.3333333333333333,
              "#9c179e"
             ],
             [
              0.4444444444444444,
              "#bd3786"
             ],
             [
              0.5555555555555556,
              "#d8576b"
             ],
             [
              0.6666666666666666,
              "#ed7953"
             ],
             [
              0.7777777777777778,
              "#fb9f3a"
             ],
             [
              0.8888888888888888,
              "#fdca26"
             ],
             [
              1,
              "#f0f921"
             ]
            ],
            "type": "histogram2dcontour"
           }
          ],
          "mesh3d": [
           {
            "colorbar": {
             "outlinewidth": 0,
             "ticks": ""
            },
            "type": "mesh3d"
           }
          ],
          "parcoords": [
           {
            "line": {
             "colorbar": {
              "outlinewidth": 0,
              "ticks": ""
             }
            },
            "type": "parcoords"
           }
          ],
          "pie": [
           {
            "automargin": true,
            "type": "pie"
           }
          ],
          "scatter": [
           {
            "fillpattern": {
             "fillmode": "overlay",
             "size": 10,
             "solidity": 0.2
            },
            "type": "scatter"
           }
          ],
          "scatter3d": [
           {
            "line": {
             "colorbar": {
              "outlinewidth": 0,
              "ticks": ""
             }
            },
            "marker": {
             "colorbar": {
              "outlinewidth": 0,
              "ticks": ""
             }
            },
            "type": "scatter3d"
           }
          ],
          "scattercarpet": [
           {
            "marker": {
             "colorbar": {
              "outlinewidth": 0,
              "ticks": ""
             }
            },
            "type": "scattercarpet"
           }
          ],
          "scattergeo": [
           {
            "marker": {
             "colorbar": {
              "outlinewidth": 0,
              "ticks": ""
             }
            },
            "type": "scattergeo"
           }
          ],
          "scattergl": [
           {
            "marker": {
             "colorbar": {
              "outlinewidth": 0,
              "ticks": ""
             }
            },
            "type": "scattergl"
           }
          ],
          "scattermapbox": [
           {
            "marker": {
             "colorbar": {
              "outlinewidth": 0,
              "ticks": ""
             }
            },
            "type": "scattermapbox"
           }
          ],
          "scatterpolar": [
           {
            "marker": {
             "colorbar": {
              "outlinewidth": 0,
              "ticks": ""
             }
            },
            "type": "scatterpolar"
           }
          ],
          "scatterpolargl": [
           {
            "marker": {
             "colorbar": {
              "outlinewidth": 0,
              "ticks": ""
             }
            },
            "type": "scatterpolargl"
           }
          ],
          "scatterternary": [
           {
            "marker": {
             "colorbar": {
              "outlinewidth": 0,
              "ticks": ""
             }
            },
            "type": "scatterternary"
           }
          ],
          "surface": [
           {
            "colorbar": {
             "outlinewidth": 0,
             "ticks": ""
            },
            "colorscale": [
             [
              0,
              "#0d0887"
             ],
             [
              0.1111111111111111,
              "#46039f"
             ],
             [
              0.2222222222222222,
              "#7201a8"
             ],
             [
              0.3333333333333333,
              "#9c179e"
             ],
             [
              0.4444444444444444,
              "#bd3786"
             ],
             [
              0.5555555555555556,
              "#d8576b"
             ],
             [
              0.6666666666666666,
              "#ed7953"
             ],
             [
              0.7777777777777778,
              "#fb9f3a"
             ],
             [
              0.8888888888888888,
              "#fdca26"
             ],
             [
              1,
              "#f0f921"
             ]
            ],
            "type": "surface"
           }
          ],
          "table": [
           {
            "cells": {
             "fill": {
              "color": "#EBF0F8"
             },
             "line": {
              "color": "white"
             }
            },
            "header": {
             "fill": {
              "color": "#C8D4E3"
             },
             "line": {
              "color": "white"
             }
            },
            "type": "table"
           }
          ]
         },
         "layout": {
          "annotationdefaults": {
           "arrowcolor": "#2a3f5f",
           "arrowhead": 0,
           "arrowwidth": 1
          },
          "autotypenumbers": "strict",
          "coloraxis": {
           "colorbar": {
            "outlinewidth": 0,
            "ticks": ""
           }
          },
          "colorscale": {
           "diverging": [
            [
             0,
             "#8e0152"
            ],
            [
             0.1,
             "#c51b7d"
            ],
            [
             0.2,
             "#de77ae"
            ],
            [
             0.3,
             "#f1b6da"
            ],
            [
             0.4,
             "#fde0ef"
            ],
            [
             0.5,
             "#f7f7f7"
            ],
            [
             0.6,
             "#e6f5d0"
            ],
            [
             0.7,
             "#b8e186"
            ],
            [
             0.8,
             "#7fbc41"
            ],
            [
             0.9,
             "#4d9221"
            ],
            [
             1,
             "#276419"
            ]
           ],
           "sequential": [
            [
             0,
             "#0d0887"
            ],
            [
             0.1111111111111111,
             "#46039f"
            ],
            [
             0.2222222222222222,
             "#7201a8"
            ],
            [
             0.3333333333333333,
             "#9c179e"
            ],
            [
             0.4444444444444444,
             "#bd3786"
            ],
            [
             0.5555555555555556,
             "#d8576b"
            ],
            [
             0.6666666666666666,
             "#ed7953"
            ],
            [
             0.7777777777777778,
             "#fb9f3a"
            ],
            [
             0.8888888888888888,
             "#fdca26"
            ],
            [
             1,
             "#f0f921"
            ]
           ],
           "sequentialminus": [
            [
             0,
             "#0d0887"
            ],
            [
             0.1111111111111111,
             "#46039f"
            ],
            [
             0.2222222222222222,
             "#7201a8"
            ],
            [
             0.3333333333333333,
             "#9c179e"
            ],
            [
             0.4444444444444444,
             "#bd3786"
            ],
            [
             0.5555555555555556,
             "#d8576b"
            ],
            [
             0.6666666666666666,
             "#ed7953"
            ],
            [
             0.7777777777777778,
             "#fb9f3a"
            ],
            [
             0.8888888888888888,
             "#fdca26"
            ],
            [
             1,
             "#f0f921"
            ]
           ]
          },
          "colorway": [
           "#636efa",
           "#EF553B",
           "#00cc96",
           "#ab63fa",
           "#FFA15A",
           "#19d3f3",
           "#FF6692",
           "#B6E880",
           "#FF97FF",
           "#FECB52"
          ],
          "font": {
           "color": "#2a3f5f"
          },
          "geo": {
           "bgcolor": "white",
           "lakecolor": "white",
           "landcolor": "#E5ECF6",
           "showlakes": true,
           "showland": true,
           "subunitcolor": "white"
          },
          "hoverlabel": {
           "align": "left"
          },
          "hovermode": "closest",
          "mapbox": {
           "style": "light"
          },
          "paper_bgcolor": "white",
          "plot_bgcolor": "#E5ECF6",
          "polar": {
           "angularaxis": {
            "gridcolor": "white",
            "linecolor": "white",
            "ticks": ""
           },
           "bgcolor": "#E5ECF6",
           "radialaxis": {
            "gridcolor": "white",
            "linecolor": "white",
            "ticks": ""
           }
          },
          "scene": {
           "xaxis": {
            "backgroundcolor": "#E5ECF6",
            "gridcolor": "white",
            "gridwidth": 2,
            "linecolor": "white",
            "showbackground": true,
            "ticks": "",
            "zerolinecolor": "white"
           },
           "yaxis": {
            "backgroundcolor": "#E5ECF6",
            "gridcolor": "white",
            "gridwidth": 2,
            "linecolor": "white",
            "showbackground": true,
            "ticks": "",
            "zerolinecolor": "white"
           },
           "zaxis": {
            "backgroundcolor": "#E5ECF6",
            "gridcolor": "white",
            "gridwidth": 2,
            "linecolor": "white",
            "showbackground": true,
            "ticks": "",
            "zerolinecolor": "white"
           }
          },
          "shapedefaults": {
           "line": {
            "color": "#2a3f5f"
           }
          },
          "ternary": {
           "aaxis": {
            "gridcolor": "white",
            "linecolor": "white",
            "ticks": ""
           },
           "baxis": {
            "gridcolor": "white",
            "linecolor": "white",
            "ticks": ""
           },
           "bgcolor": "#E5ECF6",
           "caxis": {
            "gridcolor": "white",
            "linecolor": "white",
            "ticks": ""
           }
          },
          "title": {
           "x": 0.05
          },
          "xaxis": {
           "automargin": true,
           "gridcolor": "white",
           "linecolor": "white",
           "ticks": "",
           "title": {
            "standoff": 15
           },
           "zerolinecolor": "white",
           "zerolinewidth": 2
          },
          "yaxis": {
           "automargin": true,
           "gridcolor": "white",
           "linecolor": "white",
           "ticks": "",
           "title": {
            "standoff": 15
           },
           "zerolinecolor": "white",
           "zerolinewidth": 2
          }
         }
        },
        "xaxis": {
         "anchor": "y",
         "domain": [
          0,
          1
         ],
         "title": {
          "text": "ds"
         }
        },
        "yaxis": {
         "anchor": "x",
         "domain": [
          0,
          1
         ],
         "title": {
          "text": "y"
         }
        }
       }
      }
     },
     "metadata": {},
     "output_type": "display_data"
    }
   ],
   "source": [
    "px.line(kırşehir,x = kırşehir[\"ds\"],y = kırşehir[\"y\"])"
   ]
  },
  {
   "cell_type": "code",
   "execution_count": 1423,
   "metadata": {},
   "outputs": [],
   "source": [
    "y_true = kırşehir[\"y\"].loc[48:56].values\n",
    "y_predict = forecast[\"yhat\"].loc[0:8].values"
   ]
  },
  {
   "cell_type": "code",
   "execution_count": 1424,
   "metadata": {},
   "outputs": [
    {
     "data": {
      "text/plain": [
       "[<matplotlib.lines.Line2D at 0x1fa631147f0>]"
      ]
     },
     "execution_count": 1424,
     "metadata": {},
     "output_type": "execute_result"
    },
    {
     "data": {
      "image/png": "[encoded data removed]",
      "text/plain": [
       "<Figure size 640x480 with 1 Axes>"
      ]
     },
     "metadata": {},
     "output_type": "display_data"
    }
   ],
   "source": [
    "plt.plot(y_true)\n",
    "plt.plot(y_predict)"
   ]
  },
  {
   "cell_type": "code",
   "execution_count": 1425,
   "metadata": {},
   "outputs": [
    {
     "data": {
      "text/plain": [
       "0.9339716418123835"
      ]
     },
     "execution_count": 1425,
     "metadata": {},
     "output_type": "execute_result"
    }
   ],
   "source": [
    "r2_score(y_true,y_predict)"
   ]
  },
  {
   "cell_type": "code",
   "execution_count": 1426,
   "metadata": {},
   "outputs": [
    {
     "name": "stdout",
     "output_type": "stream",
     "text": [
      "39777.45\n"
     ]
    }
   ],
   "source": [
    "print(\"%.2f\"%mean_absolute_error(y_true,y_predict))"
   ]
  },
  {
   "cell_type": "code",
   "execution_count": 1427,
   "metadata": {},
   "outputs": [
    {
     "data": {
      "text/plain": [
       "<matplotlib.legend.Legend at 0x1fa6474a710>"
      ]
     },
     "execution_count": 1427,
     "metadata": {},
     "output_type": "execute_result"
    },
    {
     "data": {
      "image/png": "[encoded data removed]",
      "text/plain": [
       "<Figure size 640x480 with 1 Axes>"
      ]
     },
     "metadata": {},
     "output_type": "display_data"
    }
   ],
   "source": [
    "plt.plot(kırşehir[\"ds\"].loc[48:],kırşehir[\"y\"].loc[48:],color = \"red\")\n",
    "plt.plot(forecast[\"ds\"],forecast[\"yhat\"],color = \"blue\")\n",
    "\n",
    "plt.legend([\"actual\",\"predict\"])"
   ]
  },
  {
   "cell_type": "markdown",
   "metadata": {},
   "source": [
    "Bolu "
   ]
  },
  {
   "cell_type": "code",
   "execution_count": 1428,
   "metadata": {},
   "outputs": [],
   "source": [
    "model = Prophet()\n"
   ]
  },
  {
   "cell_type": "code",
   "execution_count": 1429,
   "metadata": {},
   "outputs": [],
   "source": [
    "bolu[\"ds\"] = bolu[\"yil\"].astype(str)+'-'+bolu[\"ay\"].astype(str)\n",
    "bolu[\"ds\"] = pd.to_datetime(bolu[\"ds\"]) \n",
    "bolu.drop([\"yil\",\"ay\"],axis = 1 , inplace = True)\n",
    "bolu[\"y\"] = bolu[\"sm3\"]\n",
    "bolu.drop(\"sm3\",axis = 1,inplace = True)"
   ]
  },
  {
   "cell_type": "code",
   "execution_count": 1430,
   "metadata": {},
   "outputs": [
    {
     "name": "stderr",
     "output_type": "stream",
     "text": [
      "17:03:34 - cmdstanpy - INFO - Chain [1] start processing\n",
      "17:03:34 - cmdstanpy - INFO - Chain [1] done processing\n"
     ]
    },
    {
     "data": {
      "text/plain": [
       "<prophet.forecaster.Prophet at 0x1fa86d0be50>"
      ]
     },
     "execution_count": 1430,
     "metadata": {},
     "output_type": "execute_result"
    }
   ],
   "source": [
    "model.fit(bolu)"
   ]
  },
  {
   "cell_type": "code",
   "execution_count": 1431,
   "metadata": {},
   "outputs": [
    {
     "data": {
      "text/html": [
       "<div>\n",
       "<style scoped>\n",
       "    .dataframe tbody tr th:only-of-type {\n",
       "        vertical-align: middle;\n",
       "    }\n",
       "\n",
       "    .dataframe tbody tr th {\n",
       "        vertical-align: top;\n",
       "    }\n",
       "\n",
       "    .dataframe thead th {\n",
       "        text-align: right;\n",
       "    }\n",
       "</style>\n",
       "<table border=\"1\" class=\"dataframe\">\n",
       "  <thead>\n",
       "    <tr style=\"text-align: right;\">\n",
       "      <th></th>\n",
       "      <th>ds</th>\n",
       "    </tr>\n",
       "  </thead>\n",
       "  <tbody>\n",
       "    <tr>\n",
       "      <th>0</th>\n",
       "      <td>2022-01-01</td>\n",
       "    </tr>\n",
       "    <tr>\n",
       "      <th>1</th>\n",
       "      <td>2022-02-01</td>\n",
       "    </tr>\n",
       "    <tr>\n",
       "      <th>2</th>\n",
       "      <td>2022-03-01</td>\n",
       "    </tr>\n",
       "    <tr>\n",
       "      <th>3</th>\n",
       "      <td>2022-04-01</td>\n",
       "    </tr>\n",
       "    <tr>\n",
       "      <th>4</th>\n",
       "      <td>2022-05-01</td>\n",
       "    </tr>\n",
       "    <tr>\n",
       "      <th>5</th>\n",
       "      <td>2022-06-01</td>\n",
       "    </tr>\n",
       "    <tr>\n",
       "      <th>6</th>\n",
       "      <td>2022-07-01</td>\n",
       "    </tr>\n",
       "    <tr>\n",
       "      <th>7</th>\n",
       "      <td>2022-08-01</td>\n",
       "    </tr>\n",
       "    <tr>\n",
       "      <th>8</th>\n",
       "      <td>2022-09-01</td>\n",
       "    </tr>\n",
       "    <tr>\n",
       "      <th>9</th>\n",
       "      <td>2022-10-01</td>\n",
       "    </tr>\n",
       "    <tr>\n",
       "      <th>10</th>\n",
       "      <td>2022-11-01</td>\n",
       "    </tr>\n",
       "    <tr>\n",
       "      <th>11</th>\n",
       "      <td>2022-12-01</td>\n",
       "    </tr>\n",
       "  </tbody>\n",
       "</table>\n",
       "</div>"
      ],
      "text/plain": [
       "           ds\n",
       "0  2022-01-01\n",
       "1  2022-02-01\n",
       "2  2022-03-01\n",
       "3  2022-04-01\n",
       "4  2022-05-01\n",
       "5  2022-06-01\n",
       "6  2022-07-01\n",
       "7  2022-08-01\n",
       "8  2022-09-01\n",
       "9  2022-10-01\n",
       "10 2022-11-01\n",
       "11 2022-12-01"
      ]
     },
     "execution_count": 1431,
     "metadata": {},
     "output_type": "execute_result"
    }
   ],
   "source": [
    "future = list()\n",
    "for i in range(1,13):\n",
    "    date = \"2022-%02d\" % i\n",
    "    future.append([date])\n",
    "future = pd.DataFrame(future)\n",
    "\n",
    "future.columns = [\"ds\"]\n",
    "future[\"ds\"] = pd.to_datetime(future[\"ds\"])\n",
    "\n",
    "forecast_bolu = model.predict(future)\n",
    "future.columns = [\"ds\"]\n",
    "future[\"ds\"] = pd.to_datetime(future[\"ds\"],format = '%Y')\n",
    "future"
   ]
  },
  {
   "cell_type": "code",
   "execution_count": 1432,
   "metadata": {},
   "outputs": [],
   "source": [
    "forecast_bolu = model.predict(future)"
   ]
  },
  {
   "cell_type": "code",
   "execution_count": 1433,
   "metadata": {},
   "outputs": [
    {
     "data": {
      "image/png": "[encoded data removed]",
      "text/plain": [
       "<Figure size 1000x600 with 1 Axes>"
      ]
     },
     "metadata": {},
     "output_type": "display_data"
    }
   ],
   "source": [
    "model.plot(forecast_bolu)\n",
    "plt.show()"
   ]
  },
  {
   "cell_type": "code",
   "execution_count": 1434,
   "metadata": {},
   "outputs": [
    {
     "data": {
      "application/vnd.plotly.v1+json": {
       "config": {
        "plotlyServerURL": "https://plot.ly"
       },
       "data": [
        {
         "hovertemplate": "ds=%{x}<br>y=%{y}<extra></extra>",
         "legendgroup": "",
         "line": {
          "color": "#636efa",
          "dash": "solid"
         },
         "marker": {
          "symbol": "circle"
         },
         "mode": "lines",
         "name": "",
         "orientation": "v",
         "showlegend": false,
         "type": "scatter",
         "x": [
          "2018-01-01T00:00:00",
          "2018-02-01T00:00:00",
          "2018-03-01T00:00:00",
          "2018-04-01T00:00:00",
          "2018-05-01T00:00:00",
          "2018-06-01T00:00:00",
          "2018-07-01T00:00:00",
          "2018-08-01T00:00:00",
          "2018-09-01T00:00:00",
          "2018-10-01T00:00:00",
          "2018-11-01T00:00:00",
          "2018-12-01T00:00:00",
          "2019-01-01T00:00:00",
          "2019-02-01T00:00:00",
          "2019-03-01T00:00:00",
          "2019-04-01T00:00:00",
          "2019-05-01T00:00:00",
          "2019-06-01T00:00:00",
          "2019-07-01T00:00:00",
          "2019-08-01T00:00:00",
          "2019-09-01T00:00:00",
          "2019-10-01T00:00:00",
          "2019-11-01T00:00:00",
          "2019-12-01T00:00:00",
          "2020-01-01T00:00:00",
          "2020-02-01T00:00:00",
          "2020-03-01T00:00:00",
          "2020-04-01T00:00:00",
          "2020-05-01T00:00:00",
          "2020-06-01T00:00:00",
          "2020-07-01T00:00:00",
          "2020-08-01T00:00:00",
          "2020-09-01T00:00:00",
          "2020-10-01T00:00:00",
          "2020-11-01T00:00:00",
          "2020-12-01T00:00:00",
          "2021-01-01T00:00:00",
          "2021-02-01T00:00:00",
          "2021-03-01T00:00:00",
          "2021-04-01T00:00:00",
          "2021-05-01T00:00:00",
          "2021-06-01T00:00:00",
          "2021-07-01T00:00:00",
          "2021-08-01T00:00:00",
          "2021-09-01T00:00:00",
          "2021-10-01T00:00:00",
          "2021-11-01T00:00:00",
          "2021-12-01T00:00:00",
          "2022-01-01T00:00:00",
          "2022-02-01T00:00:00",
          "2022-03-01T00:00:00",
          "2022-04-01T00:00:00",
          "2022-05-01T00:00:00",
          "2022-06-01T00:00:00",
          "2022-07-01T00:00:00",
          "2022-08-01T00:00:00",
          "2022-09-01T00:00:00"
         ],
         "xaxis": "x",
         "y": [
          1707511.2274805,
          1768411.33732664,
          1586002.52906931,
          1335383.31505124,
          847952.941010446,
          607289.434629746,
          430702.773035066,
          285376.419077271,
          335369.261785245,
          447131.160027446,
          804364.21739325,
          1316972.95405752,
          2376334.84544339,
          2187089.44300166,
          2723361.67340828,
          2052150.38016769,
          1559021.72778455,
          842089.549339251,
          832190.863122986,
          585474.930813302,
          769368.19270672,
          941234.854889705,
          1235929.77549946,
          1591134.02573056,
          2379283.02553062,
          2263051.67132311,
          1876871.18753678,
          1379585.55587049,
          1000359.31246871,
          756487.628624555,
          2536843.47981033,
          962328.742067928,
          1045891.83798278,
          1097441.06280152,
          1359932.63432738,
          3013014.56041831,
          2457408.03579779,
          2788539.75975346,
          2771760.15525029,
          2978940.40479574,
          2208077.31622875,
          1821044.36312988,
          1517530.98490185,
          1619190.62198344,
          1591589.61200205,
          2230550.32884755,
          2844502.0365707,
          3310049.65549559,
          3706452.78708935,
          4162115.56380115,
          3940994.69245763,
          4185198.54521384,
          2931321.80143459,
          2320750.60553078,
          1744152.64131163,
          2515832.22504614,
          124001.700006697
         ],
         "yaxis": "y"
        }
       ],
       "layout": {
        "legend": {
         "tracegroupgap": 0
        },
        "margin": {
         "t": 60
        },
        "template": {
         "data": {
          "bar": [
           {
            "error_x": {
             "color": "#2a3f5f"
            },
            "error_y": {
             "color": "#2a3f5f"
            },
            "marker": {
             "line": {
              "color": "#E5ECF6",
              "width": 0.5
             },
             "pattern": {
              "fillmode": "overlay",
              "size": 10,
              "solidity": 0.2
             }
            },
            "type": "bar"
           }
          ],
          "barpolar": [
           {
            "marker": {
             "line": {
              "color": "#E5ECF6",
              "width": 0.5
             },
             "pattern": {
              "fillmode": "overlay",
              "size": 10,
              "solidity": 0.2
             }
            },
            "type": "barpolar"
           }
          ],
          "carpet": [
           {
            "aaxis": {
             "endlinecolor": "#2a3f5f",
             "gridcolor": "white",
             "linecolor": "white",
             "minorgridcolor": "white",
             "startlinecolor": "#2a3f5f"
            },
            "baxis": {
             "endlinecolor": "#2a3f5f",
             "gridcolor": "white",
             "linecolor": "white",
             "minorgridcolor": "white",
             "startlinecolor": "#2a3f5f"
            },
            "type": "carpet"
           }
          ],
          "choropleth": [
           {
            "colorbar": {
             "outlinewidth": 0,
             "ticks": ""
            },
            "type": "choropleth"
           }
          ],
          "contour": [
           {
            "colorbar": {
             "outlinewidth": 0,
             "ticks": ""
            },
            "colorscale": [
             [
              0,
              "#0d0887"
             ],
             [
              0.1111111111111111,
              "#46039f"
             ],
             [
              0.2222222222222222,
              "#7201a8"
             ],
             [
              0.3333333333333333,
              "#9c179e"
             ],
             [
              0.4444444444444444,
              "#bd3786"
             ],
             [
              0.5555555555555556,
              "#d8576b"
             ],
             [
              0.6666666666666666,
              "#ed7953"
             ],
             [
              0.7777777777777778,
              "#fb9f3a"
             ],
             [
              0.8888888888888888,
              "#fdca26"
             ],
             [
              1,
              "#f0f921"
             ]
            ],
            "type": "contour"
           }
          ],
          "contourcarpet": [
           {
            "colorbar": {
             "outlinewidth": 0,
             "ticks": ""
            },
            "type": "contourcarpet"
           }
          ],
          "heatmap": [
           {
            "colorbar": {
             "outlinewidth": 0,
             "ticks": ""
            },
            "colorscale": [
             [
              0,
              "#0d0887"
             ],
             [
              0.1111111111111111,
              "#46039f"
             ],
             [
              0.2222222222222222,
              "#7201a8"
             ],
             [
              0.3333333333333333,
              "#9c179e"
             ],
             [
              0.4444444444444444,
              "#bd3786"
             ],
             [
              0.5555555555555556,
              "#d8576b"
             ],
             [
              0.6666666666666666,
              "#ed7953"
             ],
             [
              0.7777777777777778,
              "#fb9f3a"
             ],
             [
              0.8888888888888888,
              "#fdca26"
             ],
             [
              1,
              "#f0f921"
             ]
            ],
            "type": "heatmap"
           }
          ],
          "heatmapgl": [
           {
            "colorbar": {
             "outlinewidth": 0,
             "ticks": ""
            },
            "colorscale": [
             [
              0,
              "#0d0887"
             ],
             [
              0.1111111111111111,
              "#46039f"
             ],
             [
              0.2222222222222222,
              "#7201a8"
             ],
             [
              0.3333333333333333,
              "#9c179e"
             ],
             [
              0.4444444444444444,
              "#bd3786"
             ],
             [
              0.5555555555555556,
              "#d8576b"
             ],
             [
              0.6666666666666666,
              "#ed7953"
             ],
             [
              0.7777777777777778,
              "#fb9f3a"
             ],
             [
              0.8888888888888888,
              "#fdca26"
             ],
             [
              1,
              "#f0f921"
             ]
            ],
            "type": "heatmapgl"
           }
          ],
          "histogram": [
           {
            "marker": {
             "pattern": {
              "fillmode": "overlay",
              "size": 10,
              "solidity": 0.2
             }
            },
            "type": "histogram"
           }
          ],
          "histogram2d": [
           {
            "colorbar": {
             "outlinewidth": 0,
             "ticks": ""
            },
            "colorscale": [
             [
              0,
              "#0d0887"
             ],
             [
              0.1111111111111111,
              "#46039f"
             ],
             [
              0.2222222222222222,
              "#7201a8"
             ],
             [
              0.3333333333333333,
              "#9c179e"
             ],
             [
              0.4444444444444444,
              "#bd3786"
             ],
             [
              0.5555555555555556,
              "#d8576b"
             ],
             [
              0.6666666666666666,
              "#ed7953"
             ],
             [
              0.7777777777777778,
              "#fb9f3a"
             ],
             [
              0.8888888888888888,
              "#fdca26"
             ],
             [
              1,
              "#f0f921"
             ]
            ],
            "type": "histogram2d"
           }
          ],
          "histogram2dcontour": [
           {
            "colorbar": {
             "outlinewidth": 0,
             "ticks": ""
            },
            "colorscale": [
             [
              0,
              "#0d0887"
             ],
             [
              0.1111111111111111,
              "#46039f"
             ],
             [
              0.2222222222222222,
              "#7201a8"
             ],
             [
              0.3333333333333333,
              "#9c179e"
             ],
             [
              0.4444444444444444,
              "#bd3786"
             ],
             [
              0.5555555555555556,
              "#d8576b"
             ],
             [
              0.6666666666666666,
              "#ed7953"
             ],
             [
              0.7777777777777778,
              "#fb9f3a"
             ],
             [
              0.8888888888888888,
              "#fdca26"
             ],
             [
              1,
              "#f0f921"
             ]
            ],
            "type": "histogram2dcontour"
           }
          ],
          "mesh3d": [
           {
            "colorbar": {
             "outlinewidth": 0,
             "ticks": ""
            },
            "type": "mesh3d"
           }
          ],
          "parcoords": [
           {
            "line": {
             "colorbar": {
              "outlinewidth": 0,
              "ticks": ""
             }
            },
            "type": "parcoords"
           }
          ],
          "pie": [
           {
            "automargin": true,
            "type": "pie"
           }
          ],
          "scatter": [
           {
            "fillpattern": {
             "fillmode": "overlay",
             "size": 10,
             "solidity": 0.2
            },
            "type": "scatter"
           }
          ],
          "scatter3d": [
           {
            "line": {
             "colorbar": {
              "outlinewidth": 0,
              "ticks": ""
             }
            },
            "marker": {
             "colorbar": {
              "outlinewidth": 0,
              "ticks": ""
             }
            },
            "type": "scatter3d"
           }
          ],
          "scattercarpet": [
           {
            "marker": {
             "colorbar": {
              "outlinewidth": 0,
              "ticks": ""
             }
            },
            "type": "scattercarpet"
           }
          ],
          "scattergeo": [
           {
            "marker": {
             "colorbar": {
              "outlinewidth": 0,
              "ticks": ""
             }
            },
            "type": "scattergeo"
           }
          ],
          "scattergl": [
           {
            "marker": {
             "colorbar": {
              "outlinewidth": 0,
              "ticks": ""
             }
            },
            "type": "scattergl"
           }
          ],
          "scattermapbox": [
           {
            "marker": {
             "colorbar": {
              "outlinewidth": 0,
              "ticks": ""
             }
            },
            "type": "scattermapbox"
           }
          ],
          "scatterpolar": [
           {
            "marker": {
             "colorbar": {
              "outlinewidth": 0,
              "ticks": ""
             }
            },
            "type": "scatterpolar"
           }
          ],
          "scatterpolargl": [
           {
            "marker": {
             "colorbar": {
              "outlinewidth": 0,
              "ticks": ""
             }
            },
            "type": "scatterpolargl"
           }
          ],
          "scatterternary": [
           {
            "marker": {
             "colorbar": {
              "outlinewidth": 0,
              "ticks": ""
             }
            },
            "type": "scatterternary"
           }
          ],
          "surface": [
           {
            "colorbar": {
             "outlinewidth": 0,
             "ticks": ""
            },
            "colorscale": [
             [
              0,
              "#0d0887"
             ],
             [
              0.1111111111111111,
              "#46039f"
             ],
             [
              0.2222222222222222,
              "#7201a8"
             ],
             [
              0.3333333333333333,
              "#9c179e"
             ],
             [
              0.4444444444444444,
              "#bd3786"
             ],
             [
              0.5555555555555556,
              "#d8576b"
             ],
             [
              0.6666666666666666,
              "#ed7953"
             ],
             [
              0.7777777777777778,
              "#fb9f3a"
             ],
             [
              0.8888888888888888,
              "#fdca26"
             ],
             [
              1,
              "#f0f921"
             ]
            ],
            "type": "surface"
           }
          ],
          "table": [
           {
            "cells": {
             "fill": {
              "color": "#EBF0F8"
             },
             "line": {
              "color": "white"
             }
            },
            "header": {
             "fill": {
              "color": "#C8D4E3"
             },
             "line": {
              "color": "white"
             }
            },
            "type": "table"
           }
          ]
         },
         "layout": {
          "annotationdefaults": {
           "arrowcolor": "#2a3f5f",
           "arrowhead": 0,
           "arrowwidth": 1
          },
          "autotypenumbers": "strict",
          "coloraxis": {
           "colorbar": {
            "outlinewidth": 0,
            "ticks": ""
           }
          },
          "colorscale": {
           "diverging": [
            [
             0,
             "#8e0152"
            ],
            [
             0.1,
             "#c51b7d"
            ],
            [
             0.2,
             "#de77ae"
            ],
            [
             0.3,
             "#f1b6da"
            ],
            [
             0.4,
             "#fde0ef"
            ],
            [
             0.5,
             "#f7f7f7"
            ],
            [
             0.6,
             "#e6f5d0"
            ],
            [
             0.7,
             "#b8e186"
            ],
            [
             0.8,
             "#7fbc41"
            ],
            [
             0.9,
             "#4d9221"
            ],
            [
             1,
             "#276419"
            ]
           ],
           "sequential": [
            [
             0,
             "#0d0887"
            ],
            [
             0.1111111111111111,
             "#46039f"
            ],
            [
             0.2222222222222222,
             "#7201a8"
            ],
            [
             0.3333333333333333,
             "#9c179e"
            ],
            [
             0.4444444444444444,
             "#bd3786"
            ],
            [
             0.5555555555555556,
             "#d8576b"
            ],
            [
             0.6666666666666666,
             "#ed7953"
            ],
            [
             0.7777777777777778,
             "#fb9f3a"
            ],
            [
             0.8888888888888888,
             "#fdca26"
            ],
            [
             1,
             "#f0f921"
            ]
           ],
           "sequentialminus": [
            [
             0,
             "#0d0887"
            ],
            [
             0.1111111111111111,
             "#46039f"
            ],
            [
             0.2222222222222222,
             "#7201a8"
            ],
            [
             0.3333333333333333,
             "#9c179e"
            ],
            [
             0.4444444444444444,
             "#bd3786"
            ],
            [
             0.5555555555555556,
             "#d8576b"
            ],
            [
             0.6666666666666666,
             "#ed7953"
            ],
            [
             0.7777777777777778,
             "#fb9f3a"
            ],
            [
             0.8888888888888888,
             "#fdca26"
            ],
            [
             1,
             "#f0f921"
            ]
           ]
          },
          "colorway": [
           "#636efa",
           "#EF553B",
           "#00cc96",
           "#ab63fa",
           "#FFA15A",
           "#19d3f3",
           "#FF6692",
           "#B6E880",
           "#FF97FF",
           "#FECB52"
          ],
          "font": {
           "color": "#2a3f5f"
          },
          "geo": {
           "bgcolor": "white",
           "lakecolor": "white",
           "landcolor": "#E5ECF6",
           "showlakes": true,
           "showland": true,
           "subunitcolor": "white"
          },
          "hoverlabel": {
           "align": "left"
          },
          "hovermode": "closest",
          "mapbox": {
           "style": "light"
          },
          "paper_bgcolor": "white",
          "plot_bgcolor": "#E5ECF6",
          "polar": {
           "angularaxis": {
            "gridcolor": "white",
            "linecolor": "white",
            "ticks": ""
           },
           "bgcolor": "#E5ECF6",
           "radialaxis": {
            "gridcolor": "white",
            "linecolor": "white",
            "ticks": ""
           }
          },
          "scene": {
           "xaxis": {
            "backgroundcolor": "#E5ECF6",
            "gridcolor": "white",
            "gridwidth": 2,
            "linecolor": "white",
            "showbackground": true,
            "ticks": "",
            "zerolinecolor": "white"
           },
           "yaxis": {
            "backgroundcolor": "#E5ECF6",
            "gridcolor": "white",
            "gridwidth": 2,
            "linecolor": "white",
            "showbackground": true,
            "ticks": "",
            "zerolinecolor": "white"
           },
           "zaxis": {
            "backgroundcolor": "#E5ECF6",
            "gridcolor": "white",
            "gridwidth": 2,
            "linecolor": "white",
            "showbackground": true,
            "ticks": "",
            "zerolinecolor": "white"
           }
          },
          "shapedefaults": {
           "line": {
            "color": "#2a3f5f"
           }
          },
          "ternary": {
           "aaxis": {
            "gridcolor": "white",
            "linecolor": "white",
            "ticks": ""
           },
           "baxis": {
            "gridcolor": "white",
            "linecolor": "white",
            "ticks": ""
           },
           "bgcolor": "#E5ECF6",
           "caxis": {
            "gridcolor": "white",
            "linecolor": "white",
            "ticks": ""
           }
          },
          "title": {
           "x": 0.05
          },
          "xaxis": {
           "automargin": true,
           "gridcolor": "white",
           "linecolor": "white",
           "ticks": "",
           "title": {
            "standoff": 15
           },
           "zerolinecolor": "white",
           "zerolinewidth": 2
          },
          "yaxis": {
           "automargin": true,
           "gridcolor": "white",
           "linecolor": "white",
           "ticks": "",
           "title": {
            "standoff": 15
           },
           "zerolinecolor": "white",
           "zerolinewidth": 2
          }
         }
        },
        "xaxis": {
         "anchor": "y",
         "domain": [
          0,
          1
         ],
         "title": {
          "text": "ds"
         }
        },
        "yaxis": {
         "anchor": "x",
         "domain": [
          0,
          1
         ],
         "title": {
          "text": "y"
         }
        }
       }
      }
     },
     "metadata": {},
     "output_type": "display_data"
    }
   ],
   "source": [
    "px.line(bolu,x = bolu[\"ds\"],y = bolu[\"y\"])"
   ]
  },
  {
   "cell_type": "code",
   "execution_count": 1435,
   "metadata": {},
   "outputs": [
    {
     "data": {
      "text/html": [
       "<div>\n",
       "<style scoped>\n",
       "    .dataframe tbody tr th:only-of-type {\n",
       "        vertical-align: middle;\n",
       "    }\n",
       "\n",
       "    .dataframe tbody tr th {\n",
       "        vertical-align: top;\n",
       "    }\n",
       "\n",
       "    .dataframe thead th {\n",
       "        text-align: right;\n",
       "    }\n",
       "</style>\n",
       "<table border=\"1\" class=\"dataframe\">\n",
       "  <thead>\n",
       "    <tr style=\"text-align: right;\">\n",
       "      <th></th>\n",
       "      <th>ds</th>\n",
       "      <th>y</th>\n",
       "    </tr>\n",
       "  </thead>\n",
       "  <tbody>\n",
       "    <tr>\n",
       "      <th>48</th>\n",
       "      <td>2022-01-01</td>\n",
       "      <td>3.706453e+06</td>\n",
       "    </tr>\n",
       "    <tr>\n",
       "      <th>49</th>\n",
       "      <td>2022-02-01</td>\n",
       "      <td>4.162116e+06</td>\n",
       "    </tr>\n",
       "    <tr>\n",
       "      <th>50</th>\n",
       "      <td>2022-03-01</td>\n",
       "      <td>3.940995e+06</td>\n",
       "    </tr>\n",
       "    <tr>\n",
       "      <th>51</th>\n",
       "      <td>2022-04-01</td>\n",
       "      <td>4.185199e+06</td>\n",
       "    </tr>\n",
       "    <tr>\n",
       "      <th>52</th>\n",
       "      <td>2022-05-01</td>\n",
       "      <td>2.931322e+06</td>\n",
       "    </tr>\n",
       "    <tr>\n",
       "      <th>53</th>\n",
       "      <td>2022-06-01</td>\n",
       "      <td>2.320751e+06</td>\n",
       "    </tr>\n",
       "    <tr>\n",
       "      <th>54</th>\n",
       "      <td>2022-07-01</td>\n",
       "      <td>1.744153e+06</td>\n",
       "    </tr>\n",
       "    <tr>\n",
       "      <th>55</th>\n",
       "      <td>2022-08-01</td>\n",
       "      <td>2.515832e+06</td>\n",
       "    </tr>\n",
       "    <tr>\n",
       "      <th>56</th>\n",
       "      <td>2022-09-01</td>\n",
       "      <td>1.240017e+05</td>\n",
       "    </tr>\n",
       "  </tbody>\n",
       "</table>\n",
       "</div>"
      ],
      "text/plain": [
       "           ds             y\n",
       "48 2022-01-01  3.706453e+06\n",
       "49 2022-02-01  4.162116e+06\n",
       "50 2022-03-01  3.940995e+06\n",
       "51 2022-04-01  4.185199e+06\n",
       "52 2022-05-01  2.931322e+06\n",
       "53 2022-06-01  2.320751e+06\n",
       "54 2022-07-01  1.744153e+06\n",
       "55 2022-08-01  2.515832e+06\n",
       "56 2022-09-01  1.240017e+05"
      ]
     },
     "execution_count": 1435,
     "metadata": {},
     "output_type": "execute_result"
    }
   ],
   "source": [
    "bolu.loc[48:56]"
   ]
  },
  {
   "cell_type": "code",
   "execution_count": 1436,
   "metadata": {},
   "outputs": [
    {
     "data": {
      "text/html": [
       "<div>\n",
       "<style scoped>\n",
       "    .dataframe tbody tr th:only-of-type {\n",
       "        vertical-align: middle;\n",
       "    }\n",
       "\n",
       "    .dataframe tbody tr th {\n",
       "        vertical-align: top;\n",
       "    }\n",
       "\n",
       "    .dataframe thead th {\n",
       "        text-align: right;\n",
       "    }\n",
       "</style>\n",
       "<table border=\"1\" class=\"dataframe\">\n",
       "  <thead>\n",
       "    <tr style=\"text-align: right;\">\n",
       "      <th></th>\n",
       "      <th>ds</th>\n",
       "      <th>trend</th>\n",
       "      <th>yhat_lower</th>\n",
       "      <th>yhat_upper</th>\n",
       "      <th>trend_lower</th>\n",
       "      <th>trend_upper</th>\n",
       "      <th>additive_terms</th>\n",
       "      <th>additive_terms_lower</th>\n",
       "      <th>additive_terms_upper</th>\n",
       "      <th>yearly</th>\n",
       "      <th>yearly_lower</th>\n",
       "      <th>yearly_upper</th>\n",
       "      <th>multiplicative_terms</th>\n",
       "      <th>multiplicative_terms_lower</th>\n",
       "      <th>multiplicative_terms_upper</th>\n",
       "      <th>yhat</th>\n",
       "    </tr>\n",
       "  </thead>\n",
       "  <tbody>\n",
       "    <tr>\n",
       "      <th>0</th>\n",
       "      <td>2022-01-01</td>\n",
       "      <td>2.496134e+06</td>\n",
       "      <td>2.919644e+06</td>\n",
       "      <td>3.908277e+06</td>\n",
       "      <td>2.496134e+06</td>\n",
       "      <td>2.496134e+06</td>\n",
       "      <td>9.386368e+05</td>\n",
       "      <td>9.386368e+05</td>\n",
       "      <td>9.386368e+05</td>\n",
       "      <td>9.386368e+05</td>\n",
       "      <td>9.386368e+05</td>\n",
       "      <td>9.386368e+05</td>\n",
       "      <td>0.0</td>\n",
       "      <td>0.0</td>\n",
       "      <td>0.0</td>\n",
       "      <td>3.434771e+06</td>\n",
       "    </tr>\n",
       "    <tr>\n",
       "      <th>1</th>\n",
       "      <td>2022-02-01</td>\n",
       "      <td>2.535688e+06</td>\n",
       "      <td>3.175147e+06</td>\n",
       "      <td>4.185333e+06</td>\n",
       "      <td>2.535688e+06</td>\n",
       "      <td>2.535688e+06</td>\n",
       "      <td>1.132632e+06</td>\n",
       "      <td>1.132632e+06</td>\n",
       "      <td>1.132632e+06</td>\n",
       "      <td>1.132632e+06</td>\n",
       "      <td>1.132632e+06</td>\n",
       "      <td>1.132632e+06</td>\n",
       "      <td>0.0</td>\n",
       "      <td>0.0</td>\n",
       "      <td>0.0</td>\n",
       "      <td>3.668320e+06</td>\n",
       "    </tr>\n",
       "    <tr>\n",
       "      <th>2</th>\n",
       "      <td>2022-03-01</td>\n",
       "      <td>2.571414e+06</td>\n",
       "      <td>3.048675e+06</td>\n",
       "      <td>4.124520e+06</td>\n",
       "      <td>2.571414e+06</td>\n",
       "      <td>2.571414e+06</td>\n",
       "      <td>1.011224e+06</td>\n",
       "      <td>1.011224e+06</td>\n",
       "      <td>1.011224e+06</td>\n",
       "      <td>1.011224e+06</td>\n",
       "      <td>1.011224e+06</td>\n",
       "      <td>1.011224e+06</td>\n",
       "      <td>0.0</td>\n",
       "      <td>0.0</td>\n",
       "      <td>0.0</td>\n",
       "      <td>3.582638e+06</td>\n",
       "    </tr>\n",
       "    <tr>\n",
       "      <th>3</th>\n",
       "      <td>2022-04-01</td>\n",
       "      <td>2.610968e+06</td>\n",
       "      <td>2.848984e+06</td>\n",
       "      <td>3.884616e+06</td>\n",
       "      <td>2.610968e+06</td>\n",
       "      <td>2.610968e+06</td>\n",
       "      <td>7.577959e+05</td>\n",
       "      <td>7.577959e+05</td>\n",
       "      <td>7.577959e+05</td>\n",
       "      <td>7.577959e+05</td>\n",
       "      <td>7.577959e+05</td>\n",
       "      <td>7.577959e+05</td>\n",
       "      <td>0.0</td>\n",
       "      <td>0.0</td>\n",
       "      <td>0.0</td>\n",
       "      <td>3.368764e+06</td>\n",
       "    </tr>\n",
       "    <tr>\n",
       "      <th>4</th>\n",
       "      <td>2022-05-01</td>\n",
       "      <td>2.649246e+06</td>\n",
       "      <td>2.186441e+06</td>\n",
       "      <td>3.173319e+06</td>\n",
       "      <td>2.649246e+06</td>\n",
       "      <td>2.649246e+06</td>\n",
       "      <td>3.235353e+04</td>\n",
       "      <td>3.235353e+04</td>\n",
       "      <td>3.235353e+04</td>\n",
       "      <td>3.235353e+04</td>\n",
       "      <td>3.235353e+04</td>\n",
       "      <td>3.235353e+04</td>\n",
       "      <td>0.0</td>\n",
       "      <td>0.0</td>\n",
       "      <td>0.0</td>\n",
       "      <td>2.681599e+06</td>\n",
       "    </tr>\n",
       "    <tr>\n",
       "      <th>5</th>\n",
       "      <td>2022-06-01</td>\n",
       "      <td>2.688800e+06</td>\n",
       "      <td>1.715981e+06</td>\n",
       "      <td>2.709605e+06</td>\n",
       "      <td>2.688800e+06</td>\n",
       "      <td>2.688800e+06</td>\n",
       "      <td>-4.711103e+05</td>\n",
       "      <td>-4.711103e+05</td>\n",
       "      <td>-4.711103e+05</td>\n",
       "      <td>-4.711103e+05</td>\n",
       "      <td>-4.711103e+05</td>\n",
       "      <td>-4.711103e+05</td>\n",
       "      <td>0.0</td>\n",
       "      <td>0.0</td>\n",
       "      <td>0.0</td>\n",
       "      <td>2.217689e+06</td>\n",
       "    </tr>\n",
       "    <tr>\n",
       "      <th>6</th>\n",
       "      <td>2022-07-01</td>\n",
       "      <td>2.727077e+06</td>\n",
       "      <td>1.624142e+06</td>\n",
       "      <td>2.657836e+06</td>\n",
       "      <td>2.727077e+06</td>\n",
       "      <td>2.727077e+06</td>\n",
       "      <td>-5.606509e+05</td>\n",
       "      <td>-5.606509e+05</td>\n",
       "      <td>-5.606509e+05</td>\n",
       "      <td>-5.606509e+05</td>\n",
       "      <td>-5.606509e+05</td>\n",
       "      <td>-5.606509e+05</td>\n",
       "      <td>0.0</td>\n",
       "      <td>0.0</td>\n",
       "      <td>0.0</td>\n",
       "      <td>2.166427e+06</td>\n",
       "    </tr>\n",
       "    <tr>\n",
       "      <th>7</th>\n",
       "      <td>2022-08-01</td>\n",
       "      <td>2.766631e+06</td>\n",
       "      <td>1.699454e+06</td>\n",
       "      <td>2.702884e+06</td>\n",
       "      <td>2.766631e+06</td>\n",
       "      <td>2.766631e+06</td>\n",
       "      <td>-6.019943e+05</td>\n",
       "      <td>-6.019943e+05</td>\n",
       "      <td>-6.019943e+05</td>\n",
       "      <td>-6.019943e+05</td>\n",
       "      <td>-6.019943e+05</td>\n",
       "      <td>-6.019943e+05</td>\n",
       "      <td>0.0</td>\n",
       "      <td>0.0</td>\n",
       "      <td>0.0</td>\n",
       "      <td>2.164637e+06</td>\n",
       "    </tr>\n",
       "    <tr>\n",
       "      <th>8</th>\n",
       "      <td>2022-09-01</td>\n",
       "      <td>2.806185e+06</td>\n",
       "      <td>1.216629e+06</td>\n",
       "      <td>2.215034e+06</td>\n",
       "      <td>2.806185e+06</td>\n",
       "      <td>2.806185e+06</td>\n",
       "      <td>-1.093139e+06</td>\n",
       "      <td>-1.093139e+06</td>\n",
       "      <td>-1.093139e+06</td>\n",
       "      <td>-1.093139e+06</td>\n",
       "      <td>-1.093139e+06</td>\n",
       "      <td>-1.093139e+06</td>\n",
       "      <td>0.0</td>\n",
       "      <td>0.0</td>\n",
       "      <td>0.0</td>\n",
       "      <td>1.713046e+06</td>\n",
       "    </tr>\n",
       "  </tbody>\n",
       "</table>\n",
       "</div>"
      ],
      "text/plain": [
       "          ds         trend    yhat_lower    yhat_upper   trend_lower  \\\n",
       "0 2022-01-01  2.496134e+06  2.919644e+06  3.908277e+06  2.496134e+06   \n",
       "1 2022-02-01  2.535688e+06  3.175147e+06  4.185333e+06  2.535688e+06   \n",
       "2 2022-03-01  2.571414e+06  3.048675e+06  4.124520e+06  2.571414e+06   \n",
       "3 2022-04-01  2.610968e+06  2.848984e+06  3.884616e+06  2.610968e+06   \n",
       "4 2022-05-01  2.649246e+06  2.186441e+06  3.173319e+06  2.649246e+06   \n",
       "5 2022-06-01  2.688800e+06  1.715981e+06  2.709605e+06  2.688800e+06   \n",
       "6 2022-07-01  2.727077e+06  1.624142e+06  2.657836e+06  2.727077e+06   \n",
       "7 2022-08-01  2.766631e+06  1.699454e+06  2.702884e+06  2.766631e+06   \n",
       "8 2022-09-01  2.806185e+06  1.216629e+06  2.215034e+06  2.806185e+06   \n",
       "\n",
       "    trend_upper  additive_terms  additive_terms_lower  additive_terms_upper  \\\n",
       "0  2.496134e+06    9.386368e+05          9.386368e+05          9.386368e+05   \n",
       "1  2.535688e+06    1.132632e+06          1.132632e+06          1.132632e+06   \n",
       "2  2.571414e+06    1.011224e+06          1.011224e+06          1.011224e+06   \n",
       "3  2.610968e+06    7.577959e+05          7.577959e+05          7.577959e+05   \n",
       "4  2.649246e+06    3.235353e+04          3.235353e+04          3.235353e+04   \n",
       "5  2.688800e+06   -4.711103e+05         -4.711103e+05         -4.711103e+05   \n",
       "6  2.727077e+06   -5.606509e+05         -5.606509e+05         -5.606509e+05   \n",
       "7  2.766631e+06   -6.019943e+05         -6.019943e+05         -6.019943e+05   \n",
       "8  2.806185e+06   -1.093139e+06         -1.093139e+06         -1.093139e+06   \n",
       "\n",
       "         yearly  yearly_lower  yearly_upper  multiplicative_terms  \\\n",
       "0  9.386368e+05  9.386368e+05  9.386368e+05                   0.0   \n",
       "1  1.132632e+06  1.132632e+06  1.132632e+06                   0.0   \n",
       "2  1.011224e+06  1.011224e+06  1.011224e+06                   0.0   \n",
       "3  7.577959e+05  7.577959e+05  7.577959e+05                   0.0   \n",
       "4  3.235353e+04  3.235353e+04  3.235353e+04                   0.0   \n",
       "5 -4.711103e+05 -4.711103e+05 -4.711103e+05                   0.0   \n",
       "6 -5.606509e+05 -5.606509e+05 -5.606509e+05                   0.0   \n",
       "7 -6.019943e+05 -6.019943e+05 -6.019943e+05                   0.0   \n",
       "8 -1.093139e+06 -1.093139e+06 -1.093139e+06                   0.0   \n",
       "\n",
       "   multiplicative_terms_lower  multiplicative_terms_upper          yhat  \n",
       "0                         0.0                         0.0  3.434771e+06  \n",
       "1                         0.0                         0.0  3.668320e+06  \n",
       "2                         0.0                         0.0  3.582638e+06  \n",
       "3                         0.0                         0.0  3.368764e+06  \n",
       "4                         0.0                         0.0  2.681599e+06  \n",
       "5                         0.0                         0.0  2.217689e+06  \n",
       "6                         0.0                         0.0  2.166427e+06  \n",
       "7                         0.0                         0.0  2.164637e+06  \n",
       "8                         0.0                         0.0  1.713046e+06  "
      ]
     },
     "execution_count": 1436,
     "metadata": {},
     "output_type": "execute_result"
    }
   ],
   "source": [
    "forecast_bolu.loc[0:8]"
   ]
  },
  {
   "cell_type": "code",
   "execution_count": 1437,
   "metadata": {},
   "outputs": [
    {
     "name": "stderr",
     "output_type": "stream",
     "text": [
      "No artists with labels found to put in legend.  Note that artists whose label start with an underscore are ignored when legend() is called with no argument.\n"
     ]
    },
    {
     "name": "stdout",
     "output_type": "stream",
     "text": [
      "517285.12\n"
     ]
    },
    {
     "data": {
      "text/plain": [
       "<matplotlib.legend.Legend at 0x1fa86db7190>"
      ]
     },
     "execution_count": 1437,
     "metadata": {},
     "output_type": "execute_result"
    },
    {
     "data": {
      "image/png": "[encoded data removed]",
      "text/plain": [
       "<Figure size 640x480 with 1 Axes>"
      ]
     },
     "metadata": {},
     "output_type": "display_data"
    }
   ],
   "source": [
    "y_true = bolu[\"y\"].loc[48:56].values\n",
    "y_predict = forecast_bolu[\"yhat\"].loc[0:8].values\n",
    "print(\"%.2f\"%mean_absolute_error(y_true,y_predict))\n",
    "plt.plot(y_true,color = \"red\")\n",
    "plt.plot(y_predict,color = \"blue\")\n",
    "plt.legend()\n",
    "#517285.12"
   ]
  },
  {
   "cell_type": "code",
   "execution_count": 1438,
   "metadata": {},
   "outputs": [
    {
     "data": {
      "text/plain": [
       "0.7229149950854812"
      ]
     },
     "execution_count": 1438,
     "metadata": {},
     "output_type": "execute_result"
    }
   ],
   "source": [
    "r2_score(y_true,y_predict)"
   ]
  },
  {
   "cell_type": "code",
   "execution_count": 1439,
   "metadata": {},
   "outputs": [],
   "source": [
    "model = Prophet()"
   ]
  },
  {
   "cell_type": "code",
   "execution_count": 1440,
   "metadata": {},
   "outputs": [],
   "source": [
    "çankırı[\"ds\"] = çankırı[\"yil\"].astype(str)+'-'+çankırı[\"ay\"].astype(str)\n",
    "çankırı[\"ds\"] = pd.to_datetime(çankırı[\"ds\"])\n",
    "çankırı.drop([\"yil\",\"ay\"],axis = 1 , inplace = True)\n",
    "çankırı[\"y\"] = çankırı[\"sm3\"]\n",
    "çankırı.drop(\"sm3\",axis = 1,inplace = True)"
   ]
  },
  {
   "cell_type": "code",
   "execution_count": 1441,
   "metadata": {},
   "outputs": [
    {
     "name": "stderr",
     "output_type": "stream",
     "text": [
      "17:03:37 - cmdstanpy - INFO - Chain [1] start processing\n",
      "17:03:37 - cmdstanpy - INFO - Chain [1] done processing\n"
     ]
    },
    {
     "data": {
      "text/plain": [
       "<prophet.forecaster.Prophet at 0x1fa86da3a00>"
      ]
     },
     "execution_count": 1441,
     "metadata": {},
     "output_type": "execute_result"
    }
   ],
   "source": [
    "model.fit(çankırı)"
   ]
  },
  {
   "cell_type": "code",
   "execution_count": 1442,
   "metadata": {},
   "outputs": [
    {
     "data": {
      "text/html": [
       "<div>\n",
       "<style scoped>\n",
       "    .dataframe tbody tr th:only-of-type {\n",
       "        vertical-align: middle;\n",
       "    }\n",
       "\n",
       "    .dataframe tbody tr th {\n",
       "        vertical-align: top;\n",
       "    }\n",
       "\n",
       "    .dataframe thead th {\n",
       "        text-align: right;\n",
       "    }\n",
       "</style>\n",
       "<table border=\"1\" class=\"dataframe\">\n",
       "  <thead>\n",
       "    <tr style=\"text-align: right;\">\n",
       "      <th></th>\n",
       "      <th>ds</th>\n",
       "    </tr>\n",
       "  </thead>\n",
       "  <tbody>\n",
       "    <tr>\n",
       "      <th>0</th>\n",
       "      <td>2022-01-01</td>\n",
       "    </tr>\n",
       "    <tr>\n",
       "      <th>1</th>\n",
       "      <td>2022-02-01</td>\n",
       "    </tr>\n",
       "    <tr>\n",
       "      <th>2</th>\n",
       "      <td>2022-03-01</td>\n",
       "    </tr>\n",
       "    <tr>\n",
       "      <th>3</th>\n",
       "      <td>2022-04-01</td>\n",
       "    </tr>\n",
       "    <tr>\n",
       "      <th>4</th>\n",
       "      <td>2022-05-01</td>\n",
       "    </tr>\n",
       "    <tr>\n",
       "      <th>5</th>\n",
       "      <td>2022-06-01</td>\n",
       "    </tr>\n",
       "    <tr>\n",
       "      <th>6</th>\n",
       "      <td>2022-07-01</td>\n",
       "    </tr>\n",
       "    <tr>\n",
       "      <th>7</th>\n",
       "      <td>2022-08-01</td>\n",
       "    </tr>\n",
       "    <tr>\n",
       "      <th>8</th>\n",
       "      <td>2022-09-01</td>\n",
       "    </tr>\n",
       "    <tr>\n",
       "      <th>9</th>\n",
       "      <td>2022-10-01</td>\n",
       "    </tr>\n",
       "    <tr>\n",
       "      <th>10</th>\n",
       "      <td>2022-11-01</td>\n",
       "    </tr>\n",
       "    <tr>\n",
       "      <th>11</th>\n",
       "      <td>2022-12-01</td>\n",
       "    </tr>\n",
       "  </tbody>\n",
       "</table>\n",
       "</div>"
      ],
      "text/plain": [
       "           ds\n",
       "0  2022-01-01\n",
       "1  2022-02-01\n",
       "2  2022-03-01\n",
       "3  2022-04-01\n",
       "4  2022-05-01\n",
       "5  2022-06-01\n",
       "6  2022-07-01\n",
       "7  2022-08-01\n",
       "8  2022-09-01\n",
       "9  2022-10-01\n",
       "10 2022-11-01\n",
       "11 2022-12-01"
      ]
     },
     "execution_count": 1442,
     "metadata": {},
     "output_type": "execute_result"
    }
   ],
   "source": [
    "future = list()\n",
    "for i in range(1,13):\n",
    "    date = \"2022-%02d\" % i\n",
    "    future.append([date])\n",
    "future = pd.DataFrame(future)\n",
    "\n",
    "future.columns = [\"ds\"]\n",
    "future[\"ds\"] = pd.to_datetime(future[\"ds\"])\n",
    "\n",
    "forecast = model.predict(future)\n",
    "future.columns = [\"ds\"]\n",
    "future[\"ds\"] = pd.to_datetime(future[\"ds\"],format = '%Y')\n",
    "future"
   ]
  },
  {
   "cell_type": "code",
   "execution_count": 1443,
   "metadata": {},
   "outputs": [],
   "source": [
    "forecast = model.predict(future)"
   ]
  },
  {
   "cell_type": "code",
   "execution_count": 1444,
   "metadata": {},
   "outputs": [
    {
     "data": {
      "image/png": "[encoded data removed]",
      "text/plain": [
       "<Figure size 1000x600 with 1 Axes>"
      ]
     },
     "metadata": {},
     "output_type": "display_data"
    }
   ],
   "source": [
    "model.plot(forecast)\n",
    "plt.show()"
   ]
  },
  {
   "cell_type": "code",
   "execution_count": 1445,
   "metadata": {},
   "outputs": [
    {
     "data": {
      "text/plain": [
       "0     1.008474e+07\n",
       "1     1.041849e+07\n",
       "2     8.746048e+06\n",
       "3     7.970994e+06\n",
       "4     4.863085e+06\n",
       "5     2.933445e+06\n",
       "6     2.594405e+06\n",
       "7     2.495227e+06\n",
       "8     2.476581e+06\n",
       "9     3.731391e+06\n",
       "10    5.252642e+06\n",
       "11    9.396694e+06\n",
       "Name: yhat, dtype: float64"
      ]
     },
     "execution_count": 1445,
     "metadata": {},
     "output_type": "execute_result"
    }
   ],
   "source": [
    "forecast[\"yhat\"]"
   ]
  },
  {
   "cell_type": "code",
   "execution_count": 1446,
   "metadata": {},
   "outputs": [
    {
     "data": {
      "text/html": [
       "<div>\n",
       "<style scoped>\n",
       "    .dataframe tbody tr th:only-of-type {\n",
       "        vertical-align: middle;\n",
       "    }\n",
       "\n",
       "    .dataframe tbody tr th {\n",
       "        vertical-align: top;\n",
       "    }\n",
       "\n",
       "    .dataframe thead th {\n",
       "        text-align: right;\n",
       "    }\n",
       "</style>\n",
       "<table border=\"1\" class=\"dataframe\">\n",
       "  <thead>\n",
       "    <tr style=\"text-align: right;\">\n",
       "      <th></th>\n",
       "      <th>ds</th>\n",
       "      <th>y</th>\n",
       "    </tr>\n",
       "  </thead>\n",
       "  <tbody>\n",
       "    <tr>\n",
       "      <th>48</th>\n",
       "      <td>2022-01-01</td>\n",
       "      <td>3.706453e+06</td>\n",
       "    </tr>\n",
       "    <tr>\n",
       "      <th>49</th>\n",
       "      <td>2022-02-01</td>\n",
       "      <td>4.162116e+06</td>\n",
       "    </tr>\n",
       "    <tr>\n",
       "      <th>50</th>\n",
       "      <td>2022-03-01</td>\n",
       "      <td>3.940995e+06</td>\n",
       "    </tr>\n",
       "    <tr>\n",
       "      <th>51</th>\n",
       "      <td>2022-04-01</td>\n",
       "      <td>4.185199e+06</td>\n",
       "    </tr>\n",
       "    <tr>\n",
       "      <th>52</th>\n",
       "      <td>2022-05-01</td>\n",
       "      <td>2.931322e+06</td>\n",
       "    </tr>\n",
       "    <tr>\n",
       "      <th>53</th>\n",
       "      <td>2022-06-01</td>\n",
       "      <td>2.320751e+06</td>\n",
       "    </tr>\n",
       "    <tr>\n",
       "      <th>54</th>\n",
       "      <td>2022-07-01</td>\n",
       "      <td>1.744153e+06</td>\n",
       "    </tr>\n",
       "    <tr>\n",
       "      <th>55</th>\n",
       "      <td>2022-08-01</td>\n",
       "      <td>2.515832e+06</td>\n",
       "    </tr>\n",
       "    <tr>\n",
       "      <th>56</th>\n",
       "      <td>2022-09-01</td>\n",
       "      <td>1.240017e+05</td>\n",
       "    </tr>\n",
       "  </tbody>\n",
       "</table>\n",
       "</div>"
      ],
      "text/plain": [
       "           ds             y\n",
       "48 2022-01-01  3.706453e+06\n",
       "49 2022-02-01  4.162116e+06\n",
       "50 2022-03-01  3.940995e+06\n",
       "51 2022-04-01  4.185199e+06\n",
       "52 2022-05-01  2.931322e+06\n",
       "53 2022-06-01  2.320751e+06\n",
       "54 2022-07-01  1.744153e+06\n",
       "55 2022-08-01  2.515832e+06\n",
       "56 2022-09-01  1.240017e+05"
      ]
     },
     "execution_count": 1446,
     "metadata": {},
     "output_type": "execute_result"
    }
   ],
   "source": [
    "bolu.loc[48:56]"
   ]
  },
  {
   "cell_type": "code",
   "execution_count": 1447,
   "metadata": {},
   "outputs": [
    {
     "name": "stderr",
     "output_type": "stream",
     "text": [
      "No artists with labels found to put in legend.  Note that artists whose label start with an underscore are ignored when legend() is called with no argument.\n"
     ]
    },
    {
     "name": "stdout",
     "output_type": "stream",
     "text": [
      "1039900.80\n"
     ]
    },
    {
     "data": {
      "text/plain": [
       "<matplotlib.legend.Legend at 0x1fa649eecb0>"
      ]
     },
     "execution_count": 1447,
     "metadata": {},
     "output_type": "execute_result"
    },
    {
     "data": {
      "image/png": "[encoded data removed]",
      "text/plain": [
       "<Figure size 640x480 with 1 Axes>"
      ]
     },
     "metadata": {},
     "output_type": "display_data"
    }
   ],
   "source": [
    "y_true = çankırı[\"y\"].loc[48:56].values\n",
    "y_predict = forecast[\"yhat\"].loc[0:8].values\n",
    "print(\"%.2f\"%mean_absolute_error(y_true,y_predict))\n",
    "plt.plot(y_true)\n",
    "plt.plot(y_predict)\n",
    "plt.legend()"
   ]
  },
  {
   "cell_type": "markdown",
   "metadata": {},
   "source": [
    "### MAKİNE ÖĞRENMESİ"
   ]
  },
  {
   "cell_type": "code",
   "execution_count": 1448,
   "metadata": {},
   "outputs": [],
   "source": [
    "from sklearn.model_selection import train_test_split"
   ]
  },
  {
   "cell_type": "code",
   "execution_count": 1449,
   "metadata": {},
   "outputs": [],
   "source": [
    "y = np.array(bolu[\"y\"].values).reshape(-1,1)\n",
    "x = np.array(bolu[\"ds\"].values).reshape(-1,1)"
   ]
  },
  {
   "cell_type": "code",
   "execution_count": 1450,
   "metadata": {},
   "outputs": [],
   "source": [
    "x_train,x_test,y_train,y_test = train_test_split(x,y,test_size=0.3,random_state=42)"
   ]
  },
  {
   "cell_type": "code",
   "execution_count": 1451,
   "metadata": {},
   "outputs": [
    {
     "data": {
      "text/plain": [
       "(39, 1)"
      ]
     },
     "execution_count": 1451,
     "metadata": {},
     "output_type": "execute_result"
    }
   ],
   "source": [
    "x_train.shape"
   ]
  },
  {
   "cell_type": "code",
   "execution_count": 1452,
   "metadata": {},
   "outputs": [
    {
     "data": {
      "text/plain": [
       "(18, 1)"
      ]
     },
     "execution_count": 1452,
     "metadata": {},
     "output_type": "execute_result"
    }
   ],
   "source": [
    "x_test.shape"
   ]
  },
  {
   "cell_type": "code",
   "execution_count": 1453,
   "metadata": {},
   "outputs": [],
   "source": [
    "from sklearn.preprocessing import StandardScaler\n",
    "scaler = StandardScaler()"
   ]
  },
  {
   "cell_type": "code",
   "execution_count": 1454,
   "metadata": {},
   "outputs": [],
   "source": [
    "x_train = scaler.fit_transform(x_train)\n",
    "x_test = scaler.transform(x_test)"
   ]
  },
  {
   "cell_type": "code",
   "execution_count": 1455,
   "metadata": {},
   "outputs": [],
   "source": [
    "from tensorflow.keras.models import Sequential\n",
    "from tensorflow.keras.layers import Dense,Dropout\n",
    "from tensorflow.keras.callbacks import EarlyStopping\n",
    "import tensorflow as tf"
   ]
  },
  {
   "cell_type": "code",
   "execution_count": 1456,
   "metadata": {},
   "outputs": [],
   "source": [
    "model = Sequential()"
   ]
  },
  {
   "cell_type": "code",
   "execution_count": 1457,
   "metadata": {},
   "outputs": [],
   "source": [
    "model.add(Dense(25,activation = \"relu\"))\n",
    "model.add(Dropout(0.5))\n",
    "model.add(Dense(15,activation = \"relu\"))\n",
    "\n",
    "model.add(Dropout(0.5))\n",
    "model.add(Dense(35,activation = \"relu\"))\n",
    "\n",
    "model.add(Dropout(0.5))\n",
    "model.add(Dense(15,activation = \"relu\"))\n",
    "\n",
    "model.add(Dropout(0.5))\n",
    "model.add(Dense(25,activation = \"relu\"))\n",
    "\n",
    "model.add(Dropout(0.5))\n",
    "\n",
    "model.add(Dense(1))\n",
    "model.compile(optimizer = \"adam\",loss = \"mse\")"
   ]
  },
  {
   "cell_type": "code",
   "execution_count": 1458,
   "metadata": {},
   "outputs": [
    {
     "data": {
      "text/plain": [
       "1800156.8836361866"
      ]
     },
     "execution_count": 1458,
     "metadata": {},
     "output_type": "execute_result"
    }
   ],
   "source": [
    "# model.fit(x= x_train,y = y_train ,\n",
    "#            epochs = 40 ,\n",
    "#            validation_data=(x_test,y_test))\n",
    "# tahmin = model.predict(x_test)\n",
    "# mean_absolute_error(y_test,tahmin)\n",
    "#model.score(x_train,y_train)\n",
    "bolu[\"y\"].mean()"
   ]
  },
  {
   "cell_type": "code",
   "execution_count": 1459,
   "metadata": {},
   "outputs": [],
   "source": [
    "stopping = EarlyStopping(monitor=\"val_loss\",mode = \"min\",verbose = 1 ,patience=25)\n",
    "# lr_schedule = tf.keras.callbacks.LearningRateScheduler(\n",
    "#     lambda epoch: 1e-8 * 10 ** (epoch / 20))"
   ]
  },
  {
   "cell_type": "code",
   "execution_count": 1460,
   "metadata": {},
   "outputs": [],
   "source": [
    "import tensorflow as tf"
   ]
  },
  {
   "cell_type": "code",
   "execution_count": 1461,
   "metadata": {},
   "outputs": [
    {
     "name": "stdout",
     "output_type": "stream",
     "text": [
      "Epoch 1/6010\n",
      "2/2 [==============================] - 1s 104ms/step - loss: 4751366291456.0000 - val_loss: 3152446226432.0000\n",
      "Epoch 2/6010\n",
      "2/2 [==============================] - 0s 24ms/step - loss: 4751365767168.0000 - val_loss: 3152446226432.0000\n",
      "Epoch 3/6010\n",
      "2/2 [==============================] - 0s 24ms/step - loss: 4751365767168.0000 - val_loss: 3152446226432.0000\n",
      "Epoch 4/6010\n",
      "2/2 [==============================] - 0s 25ms/step - loss: 4751365242880.0000 - val_loss: 3152446226432.0000\n",
      "Epoch 5/6010\n",
      "2/2 [==============================] - 0s 16ms/step - loss: 4751365242880.0000 - val_loss: 3152446226432.0000\n",
      "Epoch 6/6010\n",
      "2/2 [==============================] - 0s 16ms/step - loss: 4751365242880.0000 - val_loss: 3152446226432.0000\n",
      "Epoch 7/6010\n",
      "2/2 [==============================] - 0s 16ms/step - loss: 4751365242880.0000 - val_loss: 3152445964288.0000\n",
      "Epoch 8/6010\n",
      "2/2 [==============================] - 0s 16ms/step - loss: 4751365242880.0000 - val_loss: 3152445964288.0000\n",
      "Epoch 9/6010\n",
      "2/2 [==============================] - 0s 16ms/step - loss: 4751365767168.0000 - val_loss: 3152445964288.0000\n",
      "Epoch 10/6010\n",
      "2/2 [==============================] - 0s 16ms/step - loss: 4751365242880.0000 - val_loss: 3152445964288.0000\n",
      "Epoch 11/6010\n",
      "2/2 [==============================] - 0s 16ms/step - loss: 4751365242880.0000 - val_loss: 3152445964288.0000\n",
      "Epoch 12/6010\n",
      "2/2 [==============================] - 0s 16ms/step - loss: 4751365767168.0000 - val_loss: 3152445440000.0000\n",
      "Epoch 13/6010\n",
      "2/2 [==============================] - 0s 17ms/step - loss: 4751364194304.0000 - val_loss: 3152445440000.0000\n",
      "Epoch 14/6010\n",
      "2/2 [==============================] - 0s 16ms/step - loss: 4751364718592.0000 - val_loss: 3152445440000.0000\n",
      "Epoch 15/6010\n",
      "2/2 [==============================] - 0s 24ms/step - loss: 4751364194304.0000 - val_loss: 3152445440000.0000\n",
      "Epoch 16/6010\n",
      "2/2 [==============================] - 0s 25ms/step - loss: 4751364718592.0000 - val_loss: 3152445440000.0000\n",
      "Epoch 17/6010\n",
      "2/2 [==============================] - 0s 24ms/step - loss: 4751364194304.0000 - val_loss: 3152445440000.0000\n",
      "Epoch 18/6010\n",
      "2/2 [==============================] - 0s 24ms/step - loss: 4751364718592.0000 - val_loss: 3152445440000.0000\n",
      "Epoch 19/6010\n",
      "2/2 [==============================] - 0s 24ms/step - loss: 4751364194304.0000 - val_loss: 3152445440000.0000\n",
      "Epoch 20/6010\n",
      "2/2 [==============================] - 0s 24ms/step - loss: 4751364194304.0000 - val_loss: 3152445440000.0000\n",
      "Epoch 21/6010\n",
      "2/2 [==============================] - 0s 16ms/step - loss: 4751363670016.0000 - val_loss: 3152445440000.0000\n",
      "Epoch 22/6010\n",
      "2/2 [==============================] - 0s 16ms/step - loss: 4751363670016.0000 - val_loss: 3152445440000.0000\n",
      "Epoch 23/6010\n",
      "2/2 [==============================] - 0s 16ms/step - loss: 4751363670016.0000 - val_loss: 3152445440000.0000\n",
      "Epoch 24/6010\n",
      "2/2 [==============================] - 0s 16ms/step - loss: 4751363670016.0000 - val_loss: 3152445440000.0000\n",
      "Epoch 25/6010\n",
      "2/2 [==============================] - 0s 17ms/step - loss: 4751363670016.0000 - val_loss: 3152444915712.0000\n",
      "Epoch 26/6010\n",
      "2/2 [==============================] - 0s 16ms/step - loss: 4751364194304.0000 - val_loss: 3152444915712.0000\n",
      "Epoch 27/6010\n",
      "2/2 [==============================] - 0s 24ms/step - loss: 4751363670016.0000 - val_loss: 3152444653568.0000\n",
      "Epoch 28/6010\n",
      "2/2 [==============================] - 0s 24ms/step - loss: 4751363145728.0000 - val_loss: 3152444653568.0000\n",
      "Epoch 29/6010\n",
      "2/2 [==============================] - 0s 16ms/step - loss: 4751363670016.0000 - val_loss: 3152444653568.0000\n",
      "Epoch 30/6010\n",
      "2/2 [==============================] - 0s 24ms/step - loss: 4751363145728.0000 - val_loss: 3152444653568.0000\n",
      "Epoch 31/6010\n",
      "2/2 [==============================] - 0s 16ms/step - loss: 4751363145728.0000 - val_loss: 3152444653568.0000\n",
      "Epoch 32/6010\n",
      "2/2 [==============================] - 0s 24ms/step - loss: 4751362097152.0000 - val_loss: 3152444391424.0000\n",
      "Epoch 33/6010\n",
      "2/2 [==============================] - 0s 24ms/step - loss: 4751363145728.0000 - val_loss: 3152444391424.0000\n",
      "Epoch 34/6010\n",
      "2/2 [==============================] - 0s 24ms/step - loss: 4751361572864.0000 - val_loss: 3152444129280.0000\n",
      "Epoch 35/6010\n",
      "2/2 [==============================] - 0s 24ms/step - loss: 4751361572864.0000 - val_loss: 3152444129280.0000\n",
      "Epoch 36/6010\n",
      "2/2 [==============================] - 0s 24ms/step - loss: 4751361572864.0000 - val_loss: 3152443867136.0000\n",
      "Epoch 37/6010\n",
      "2/2 [==============================] - 0s 24ms/step - loss: 4751361572864.0000 - val_loss: 3152443604992.0000\n",
      "Epoch 38/6010\n",
      "2/2 [==============================] - 0s 16ms/step - loss: 4751361572864.0000 - val_loss: 3152443604992.0000\n",
      "Epoch 39/6010\n",
      "2/2 [==============================] - 0s 24ms/step - loss: 4751358951424.0000 - val_loss: 3152443080704.0000\n",
      "Epoch 40/6010\n",
      "2/2 [==============================] - 0s 16ms/step - loss: 4751358951424.0000 - val_loss: 3152442556416.0000\n",
      "Epoch 41/6010\n",
      "2/2 [==============================] - 0s 16ms/step - loss: 4751358427136.0000 - val_loss: 3152442294272.0000\n",
      "Epoch 42/6010\n",
      "2/2 [==============================] - 0s 24ms/step - loss: 4751360000000.0000 - val_loss: 3152442032128.0000\n",
      "Epoch 43/6010\n",
      "2/2 [==============================] - 0s 24ms/step - loss: 4751356854272.0000 - val_loss: 3152441769984.0000\n",
      "Epoch 44/6010\n",
      "2/2 [==============================] - 0s 24ms/step - loss: 4751356854272.0000 - val_loss: 3152440721408.0000\n",
      "Epoch 45/6010\n",
      "2/2 [==============================] - 0s 16ms/step - loss: 4751354232832.0000 - val_loss: 3152440197120.0000\n",
      "Epoch 46/6010\n",
      "2/2 [==============================] - 0s 16ms/step - loss: 4751358427136.0000 - val_loss: 3152439934976.0000\n",
      "Epoch 47/6010\n",
      "2/2 [==============================] - 0s 16ms/step - loss: 4751355281408.0000 - val_loss: 3152439148544.0000\n",
      "Epoch 48/6010\n",
      "2/2 [==============================] - 0s 16ms/step - loss: 4751354232832.0000 - val_loss: 3152438362112.0000\n",
      "Epoch 49/6010\n",
      "2/2 [==============================] - 0s 24ms/step - loss: 4751351087104.0000 - val_loss: 3152437837824.0000\n",
      "Epoch 50/6010\n",
      "2/2 [==============================] - 0s 24ms/step - loss: 4751354232832.0000 - val_loss: 3152437051392.0000\n",
      "Epoch 51/6010\n",
      "2/2 [==============================] - 0s 24ms/step - loss: 4751351087104.0000 - val_loss: 3152435740672.0000\n",
      "Epoch 52/6010\n",
      "2/2 [==============================] - 0s 24ms/step - loss: 4751350038528.0000 - val_loss: 3152434692096.0000\n",
      "Epoch 53/6010\n",
      "2/2 [==============================] - 0s 24ms/step - loss: 4751353184256.0000 - val_loss: 3152433643520.0000\n",
      "Epoch 54/6010\n",
      "2/2 [==============================] - 0s 24ms/step - loss: 4751346892800.0000 - val_loss: 3152432594944.0000\n",
      "Epoch 55/6010\n",
      "2/2 [==============================] - 0s 24ms/step - loss: 4751344795648.0000 - val_loss: 3152430759936.0000\n",
      "Epoch 56/6010\n",
      "2/2 [==============================] - 0s 22ms/step - loss: 4751344795648.0000 - val_loss: 3152429449216.0000\n",
      "Epoch 57/6010\n",
      "2/2 [==============================] - 0s 16ms/step - loss: 4751343747072.0000 - val_loss: 3152427352064.0000\n",
      "Epoch 58/6010\n",
      "2/2 [==============================] - 0s 16ms/step - loss: 4751339552768.0000 - val_loss: 3152425254912.0000\n",
      "Epoch 59/6010\n",
      "2/2 [==============================] - 0s 16ms/step - loss: 4751332212736.0000 - val_loss: 3152422895616.0000\n",
      "Epoch 60/6010\n",
      "2/2 [==============================] - 0s 16ms/step - loss: 4751330639872.0000 - val_loss: 3152420012032.0000\n",
      "Epoch 61/6010\n",
      "2/2 [==============================] - 0s 24ms/step - loss: 4751334309888.0000 - val_loss: 3152416866304.0000\n",
      "Epoch 62/6010\n",
      "2/2 [==============================] - 0s 24ms/step - loss: 4751300755456.0000 - val_loss: 3152413458432.0000\n",
      "Epoch 63/6010\n",
      "2/2 [==============================] - 0s 16ms/step - loss: 4751318056960.0000 - val_loss: 3152409264128.0000\n",
      "Epoch 64/6010\n",
      "2/2 [==============================] - 0s 18ms/step - loss: 4751315959808.0000 - val_loss: 3152404545536.0000\n",
      "Epoch 65/6010\n",
      "2/2 [==============================] - 0s 25ms/step - loss: 4751318056960.0000 - val_loss: 3152399826944.0000\n",
      "Epoch 66/6010\n",
      "2/2 [==============================] - 0s 17ms/step - loss: 4751287123968.0000 - val_loss: 3152393273344.0000\n",
      "Epoch 67/6010\n",
      "2/2 [==============================] - 0s 16ms/step - loss: 4751285026816.0000 - val_loss: 3152386457600.0000\n",
      "Epoch 68/6010\n",
      "2/2 [==============================] - 0s 16ms/step - loss: 4751291842560.0000 - val_loss: 3152379117568.0000\n",
      "Epoch 69/6010\n",
      "2/2 [==============================] - 0s 24ms/step - loss: 4751294464000.0000 - val_loss: 3152370728960.0000\n",
      "Epoch 70/6010\n",
      "2/2 [==============================] - 0s 16ms/step - loss: 4751271395328.0000 - val_loss: 3152361816064.0000\n",
      "Epoch 71/6010\n",
      "2/2 [==============================] - 0s 16ms/step - loss: 4751263531008.0000 - val_loss: 3152351592448.0000\n",
      "Epoch 72/6010\n",
      "2/2 [==============================] - 0s 16ms/step - loss: 4751254618112.0000 - val_loss: 3152339795968.0000\n",
      "Epoch 73/6010\n",
      "2/2 [==============================] - 0s 24ms/step - loss: 4751217393664.0000 - val_loss: 3152326688768.0000\n",
      "Epoch 74/6010\n",
      "2/2 [==============================] - 0s 24ms/step - loss: 4751221063680.0000 - val_loss: 3152312008704.0000\n",
      "Epoch 75/6010\n",
      "2/2 [==============================] - 0s 24ms/step - loss: 4751201140736.0000 - val_loss: 3152295231488.0000\n",
      "Epoch 76/6010\n",
      "2/2 [==============================] - 0s 25ms/step - loss: 4751193276416.0000 - val_loss: 3152276619264.0000\n",
      "Epoch 77/6010\n",
      "2/2 [==============================] - 0s 17ms/step - loss: 4751159721984.0000 - val_loss: 3152255909888.0000\n",
      "Epoch 78/6010\n",
      "2/2 [==============================] - 0s 24ms/step - loss: 4751114633216.0000 - val_loss: 3152231792640.0000\n",
      "Epoch 79/6010\n",
      "2/2 [==============================] - 0s 25ms/step - loss: 4751095758848.0000 - val_loss: 3152204529664.0000\n",
      "Epoch 80/6010\n",
      "2/2 [==============================] - 0s 25ms/step - loss: 4751077408768.0000 - val_loss: 3152174120960.0000\n",
      "Epoch 81/6010\n",
      "2/2 [==============================] - 0s 24ms/step - loss: 4750998241280.0000 - val_loss: 3152140042240.0000\n",
      "Epoch 82/6010\n",
      "2/2 [==============================] - 0s 17ms/step - loss: 4751021309952.0000 - val_loss: 3152102293504.0000\n",
      "Epoch 83/6010\n",
      "2/2 [==============================] - 0s 17ms/step - loss: 4750910160896.0000 - val_loss: 3152059564032.0000\n",
      "Epoch 84/6010\n",
      "2/2 [==============================] - 0s 18ms/step - loss: 4751021309952.0000 - val_loss: 3152012640256.0000\n",
      "Epoch 85/6010\n",
      "2/2 [==============================] - 0s 17ms/step - loss: 4750793244672.0000 - val_loss: 3151959949312.0000\n",
      "Epoch 86/6010\n",
      "2/2 [==============================] - 0s 16ms/step - loss: 4750739243008.0000 - val_loss: 3151900966912.0000\n",
      "Epoch 87/6010\n",
      "2/2 [==============================] - 0s 17ms/step - loss: 4750764933120.0000 - val_loss: 3151835168768.0000\n",
      "Epoch 88/6010\n",
      "2/2 [==============================] - 0s 24ms/step - loss: 4750739767296.0000 - val_loss: 3151762817024.0000\n",
      "Epoch 89/6010\n",
      "2/2 [==============================] - 0s 26ms/step - loss: 4750740291584.0000 - val_loss: 3151683911680.0000\n",
      "Epoch 90/6010\n",
      "2/2 [==============================] - 0s 17ms/step - loss: 4750565703680.0000 - val_loss: 3151596355584.0000\n",
      "Epoch 91/6010\n",
      "2/2 [==============================] - 0s 16ms/step - loss: 4750452457472.0000 - val_loss: 3151498575872.0000\n",
      "Epoch 92/6010\n",
      "2/2 [==============================] - 0s 18ms/step - loss: 4750031978496.0000 - val_loss: 3151387164672.0000\n",
      "Epoch 93/6010\n",
      "2/2 [==============================] - 0s 25ms/step - loss: 4749904576512.0000 - val_loss: 3151261335552.0000\n",
      "Epoch 94/6010\n",
      "2/2 [==============================] - 0s 24ms/step - loss: 4749839040512.0000 - val_loss: 3151120826368.0000\n",
      "Epoch 95/6010\n",
      "2/2 [==============================] - 0s 17ms/step - loss: 4749889896448.0000 - val_loss: 3150967734272.0000\n",
      "Epoch 96/6010\n",
      "2/2 [==============================] - 0s 16ms/step - loss: 4749876789248.0000 - val_loss: 3150802321408.0000\n",
      "Epoch 97/6010\n",
      "2/2 [==============================] - 0s 26ms/step - loss: 4749728940032.0000 - val_loss: 3150621966336.0000\n",
      "Epoch 98/6010\n",
      "2/2 [==============================] - 0s 16ms/step - loss: 4749133873152.0000 - val_loss: 3150418804736.0000\n",
      "Epoch 99/6010\n",
      "2/2 [==============================] - 0s 16ms/step - loss: 4749348306944.0000 - val_loss: 3150194147328.0000\n",
      "Epoch 100/6010\n",
      "2/2 [==============================] - 0s 26ms/step - loss: 4748878544896.0000 - val_loss: 3149946421248.0000\n",
      "Epoch 101/6010\n",
      "2/2 [==============================] - 0s 18ms/step - loss: 4749161136128.0000 - val_loss: 3149681393664.0000\n",
      "Epoch 102/6010\n",
      "2/2 [==============================] - 0s 16ms/step - loss: 4748287148032.0000 - val_loss: 3149392248832.0000\n",
      "Epoch 103/6010\n",
      "2/2 [==============================] - 0s 18ms/step - loss: 4747145773056.0000 - val_loss: 3149071646720.0000\n",
      "Epoch 104/6010\n",
      "2/2 [==============================] - 0s 24ms/step - loss: 4747515920384.0000 - val_loss: 3148717752320.0000\n",
      "Epoch 105/6010\n",
      "2/2 [==============================] - 0s 25ms/step - loss: 4746424352768.0000 - val_loss: 3148324274176.0000\n",
      "Epoch 106/6010\n",
      "2/2 [==============================] - 0s 16ms/step - loss: 4746501423104.0000 - val_loss: 3147897765888.0000\n",
      "Epoch 107/6010\n",
      "2/2 [==============================] - 0s 17ms/step - loss: 4746024321024.0000 - val_loss: 3147431673856.0000\n",
      "Epoch 108/6010\n",
      "2/2 [==============================] - 0s 18ms/step - loss: 4746176888832.0000 - val_loss: 3146922328064.0000\n",
      "Epoch 109/6010\n",
      "2/2 [==============================] - 0s 17ms/step - loss: 4743577993216.0000 - val_loss: 3146357407744.0000\n",
      "Epoch 110/6010\n",
      "2/2 [==============================] - 0s 16ms/step - loss: 4744382775296.0000 - val_loss: 3145745301504.0000\n",
      "Epoch 111/6010\n",
      "2/2 [==============================] - 0s 16ms/step - loss: 4743819165696.0000 - val_loss: 3145098854400.0000\n",
      "Epoch 112/6010\n",
      "2/2 [==============================] - 0s 25ms/step - loss: 4743613120512.0000 - val_loss: 3144413609984.0000\n",
      "Epoch 113/6010\n",
      "2/2 [==============================] - 0s 24ms/step - loss: 4742708723712.0000 - val_loss: 3143676985344.0000\n",
      "Epoch 114/6010\n",
      "2/2 [==============================] - 0s 17ms/step - loss: 4742630604800.0000 - val_loss: 3142896058368.0000\n",
      "Epoch 115/6010\n",
      "2/2 [==============================] - 0s 24ms/step - loss: 4740015456256.0000 - val_loss: 3142054576128.0000\n",
      "Epoch 116/6010\n",
      "2/2 [==============================] - 0s 25ms/step - loss: 4741793841152.0000 - val_loss: 3141153849344.0000\n",
      "Epoch 117/6010\n",
      "2/2 [==============================] - 0s 17ms/step - loss: 4737325334528.0000 - val_loss: 3140162158592.0000\n",
      "Epoch 118/6010\n",
      "2/2 [==============================] - 0s 16ms/step - loss: 4739943628800.0000 - val_loss: 3139108864000.0000\n",
      "Epoch 119/6010\n",
      "2/2 [==============================] - 0s 26ms/step - loss: 4736608632832.0000 - val_loss: 3137989246976.0000\n",
      "Epoch 120/6010\n",
      "2/2 [==============================] - 0s 24ms/step - loss: 4731395637248.0000 - val_loss: 3136759529472.0000\n",
      "Epoch 121/6010\n",
      "2/2 [==============================] - 0s 17ms/step - loss: 4734806130688.0000 - val_loss: 3135432556544.0000\n",
      "Epoch 122/6010\n",
      "2/2 [==============================] - 0s 17ms/step - loss: 4733118447616.0000 - val_loss: 3134014095360.0000\n",
      "Epoch 123/6010\n",
      "2/2 [==============================] - 0s 25ms/step - loss: 4728164450304.0000 - val_loss: 3132476882944.0000\n",
      "Epoch 124/6010\n",
      "2/2 [==============================] - 0s 24ms/step - loss: 4726285926400.0000 - val_loss: 3130811744256.0000\n",
      "Epoch 125/6010\n",
      "2/2 [==============================] - 0s 17ms/step - loss: 4728629493760.0000 - val_loss: 3129021300736.0000\n",
      "Epoch 126/6010\n",
      "2/2 [==============================] - 0s 16ms/step - loss: 4724880834560.0000 - val_loss: 3127103193088.0000\n",
      "Epoch 127/6010\n",
      "2/2 [==============================] - 0s 26ms/step - loss: 4717287047168.0000 - val_loss: 3125038546944.0000\n",
      "Epoch 128/6010\n",
      "2/2 [==============================] - 0s 17ms/step - loss: 4722550374400.0000 - val_loss: 3122864062464.0000\n",
      "Epoch 129/6010\n",
      "2/2 [==============================] - 0s 16ms/step - loss: 4721651220480.0000 - val_loss: 3120587341824.0000\n",
      "Epoch 130/6010\n",
      "2/2 [==============================] - 0s 16ms/step - loss: 4718424227840.0000 - val_loss: 3118197374976.0000\n",
      "Epoch 131/6010\n",
      "2/2 [==============================] - 0s 25ms/step - loss: 4714445406208.0000 - val_loss: 3115682103296.0000\n",
      "Epoch 132/6010\n",
      "2/2 [==============================] - 0s 24ms/step - loss: 4708663558144.0000 - val_loss: 3113005613056.0000\n",
      "Epoch 133/6010\n",
      "2/2 [==============================] - 0s 17ms/step - loss: 4710052921344.0000 - val_loss: 3110168166400.0000\n",
      "Epoch 134/6010\n",
      "2/2 [==============================] - 0s 16ms/step - loss: 4705559773184.0000 - val_loss: 3107154558976.0000\n",
      "Epoch 135/6010\n",
      "2/2 [==============================] - 0s 17ms/step - loss: 4711910998016.0000 - val_loss: 3104040026112.0000\n",
      "Epoch 136/6010\n",
      "2/2 [==============================] - 0s 17ms/step - loss: 4696186028032.0000 - val_loss: 3100774760448.0000\n",
      "Epoch 137/6010\n",
      "2/2 [==============================] - 0s 17ms/step - loss: 4693682028544.0000 - val_loss: 3097324683264.0000\n",
      "Epoch 138/6010\n",
      "2/2 [==============================] - 0s 17ms/step - loss: 4694463217664.0000 - val_loss: 3093721776128.0000\n",
      "Epoch 139/6010\n",
      "2/2 [==============================] - 0s 25ms/step - loss: 4673048150016.0000 - val_loss: 3089811111936.0000\n",
      "Epoch 140/6010\n",
      "2/2 [==============================] - 0s 24ms/step - loss: 4684234358784.0000 - val_loss: 3085682081792.0000\n",
      "Epoch 141/6010\n",
      "2/2 [==============================] - 0s 17ms/step - loss: 4673005158400.0000 - val_loss: 3081295626240.0000\n",
      "Epoch 142/6010\n",
      "2/2 [==============================] - 0s 25ms/step - loss: 4671220482048.0000 - val_loss: 3076634705920.0000\n",
      "Epoch 143/6010\n",
      "2/2 [==============================] - 0s 24ms/step - loss: 4675897655296.0000 - val_loss: 3071725273088.0000\n",
      "Epoch 144/6010\n",
      "2/2 [==============================] - 0s 17ms/step - loss: 4659513131008.0000 - val_loss: 3066552647680.0000\n",
      "Epoch 145/6010\n",
      "2/2 [==============================] - 0s 24ms/step - loss: 4654365147136.0000 - val_loss: 3061047361536.0000\n",
      "Epoch 146/6010\n",
      "2/2 [==============================] - 0s 25ms/step - loss: 4657642471424.0000 - val_loss: 3055328165888.0000\n",
      "Epoch 147/6010\n",
      "2/2 [==============================] - 0s 17ms/step - loss: 4647091175424.0000 - val_loss: 3049392177152.0000\n",
      "Epoch 148/6010\n",
      "2/2 [==============================] - 0s 16ms/step - loss: 4638992498688.0000 - val_loss: 3043153674240.0000\n",
      "Epoch 149/6010\n",
      "2/2 [==============================] - 0s 16ms/step - loss: 4655672197120.0000 - val_loss: 3036754739200.0000\n",
      "Epoch 150/6010\n",
      "2/2 [==============================] - 0s 25ms/step - loss: 4620196249600.0000 - val_loss: 3030002171904.0000\n",
      "Epoch 151/6010\n",
      "2/2 [==============================] - 0s 25ms/step - loss: 4631829151744.0000 - val_loss: 3022943682560.0000\n",
      "Epoch 152/6010\n",
      "2/2 [==============================] - 0s 17ms/step - loss: 4626110218240.0000 - val_loss: 3015572193280.0000\n",
      "Epoch 153/6010\n",
      "2/2 [==============================] - 0s 16ms/step - loss: 4610804154368.0000 - val_loss: 3007861489664.0000\n",
      "Epoch 154/6010\n",
      "2/2 [==============================] - 0s 16ms/step - loss: 4585940844544.0000 - val_loss: 2999656906752.0000\n",
      "Epoch 155/6010\n",
      "2/2 [==============================] - 0s 16ms/step - loss: 4578437758976.0000 - val_loss: 2990859091968.0000\n",
      "Epoch 156/6010\n",
      "2/2 [==============================] - 0s 24ms/step - loss: 4580899291136.0000 - val_loss: 2981608554496.0000\n",
      "Epoch 157/6010\n",
      "2/2 [==============================] - 0s 24ms/step - loss: 4560388096000.0000 - val_loss: 2971840544768.0000\n",
      "Epoch 158/6010\n",
      "2/2 [==============================] - 0s 24ms/step - loss: 4559907323904.0000 - val_loss: 2961600413696.0000\n",
      "Epoch 159/6010\n",
      "2/2 [==============================] - 0s 16ms/step - loss: 4519959199744.0000 - val_loss: 2950852247552.0000\n",
      "Epoch 160/6010\n",
      "2/2 [==============================] - 0s 16ms/step - loss: 4489170911232.0000 - val_loss: 2939425128448.0000\n",
      "Epoch 161/6010\n",
      "2/2 [==============================] - 0s 24ms/step - loss: 4543383339008.0000 - val_loss: 2927622094848.0000\n",
      "Epoch 162/6010\n",
      "2/2 [==============================] - 0s 24ms/step - loss: 4452836704256.0000 - val_loss: 2915165011968.0000\n",
      "Epoch 163/6010\n",
      "2/2 [==============================] - 0s 24ms/step - loss: 4479754174464.0000 - val_loss: 2902381821952.0000\n",
      "Epoch 164/6010\n",
      "2/2 [==============================] - 0s 24ms/step - loss: 4482960195584.0000 - val_loss: 2889402548224.0000\n",
      "Epoch 165/6010\n",
      "2/2 [==============================] - 0s 24ms/step - loss: 4433168564224.0000 - val_loss: 2875800420352.0000\n",
      "Epoch 166/6010\n",
      "2/2 [==============================] - 0s 24ms/step - loss: 4466183503872.0000 - val_loss: 2861897351168.0000\n",
      "Epoch 167/6010\n",
      "2/2 [==============================] - 0s 24ms/step - loss: 4403392675840.0000 - val_loss: 2847373262848.0000\n",
      "Epoch 168/6010\n",
      "2/2 [==============================] - 0s 24ms/step - loss: 4435319717888.0000 - val_loss: 2832454647808.0000\n",
      "Epoch 169/6010\n",
      "2/2 [==============================] - 0s 24ms/step - loss: 4408187289600.0000 - val_loss: 2817291976704.0000\n",
      "Epoch 170/6010\n",
      "2/2 [==============================] - 0s 16ms/step - loss: 4403164086272.0000 - val_loss: 2801754177536.0000\n",
      "Epoch 171/6010\n",
      "2/2 [==============================] - 0s 28ms/step - loss: 4383649038336.0000 - val_loss: 2785592737792.0000\n",
      "Epoch 172/6010\n",
      "2/2 [==============================] - 0s 21ms/step - loss: 4340744192000.0000 - val_loss: 2768810016768.0000\n",
      "Epoch 173/6010\n",
      "2/2 [==============================] - 0s 21ms/step - loss: 4313343852544.0000 - val_loss: 2751321604096.0000\n",
      "Epoch 174/6010\n",
      "2/2 [==============================] - 0s 20ms/step - loss: 4248273682432.0000 - val_loss: 2732945833984.0000\n",
      "Epoch 175/6010\n",
      "2/2 [==============================] - 0s 16ms/step - loss: 4252980477952.0000 - val_loss: 2714056785920.0000\n",
      "Epoch 176/6010\n",
      "2/2 [==============================] - 0s 16ms/step - loss: 4211361710080.0000 - val_loss: 2694581321728.0000\n",
      "Epoch 177/6010\n",
      "2/2 [==============================] - 0s 16ms/step - loss: 4249021841408.0000 - val_loss: 2674478809088.0000\n",
      "Epoch 178/6010\n",
      "2/2 [==============================] - 0s 16ms/step - loss: 4179335315456.0000 - val_loss: 2653906272256.0000\n",
      "Epoch 179/6010\n",
      "2/2 [==============================] - 0s 16ms/step - loss: 4311667965952.0000 - val_loss: 2633129263104.0000\n",
      "Epoch 180/6010\n",
      "2/2 [==============================] - 0s 16ms/step - loss: 4255087853568.0000 - val_loss: 2611624542208.0000\n",
      "Epoch 181/6010\n",
      "2/2 [==============================] - 0s 17ms/step - loss: 4196533534720.0000 - val_loss: 2589715595264.0000\n",
      "Epoch 182/6010\n",
      "2/2 [==============================] - 0s 17ms/step - loss: 4192943734784.0000 - val_loss: 2567495483392.0000\n",
      "Epoch 183/6010\n",
      "2/2 [==============================] - 0s 16ms/step - loss: 4138393403392.0000 - val_loss: 2544506241024.0000\n",
      "Epoch 184/6010\n",
      "2/2 [==============================] - 0s 16ms/step - loss: 4127639470080.0000 - val_loss: 2520885755904.0000\n",
      "Epoch 185/6010\n",
      "2/2 [==============================] - 0s 16ms/step - loss: 4048158457856.0000 - val_loss: 2496525762560.0000\n",
      "Epoch 186/6010\n",
      "2/2 [==============================] - 0s 16ms/step - loss: 4143389081600.0000 - val_loss: 2471528497152.0000\n",
      "Epoch 187/6010\n",
      "2/2 [==============================] - 0s 16ms/step - loss: 4021926756352.0000 - val_loss: 2445820035072.0000\n",
      "Epoch 188/6010\n",
      "2/2 [==============================] - 0s 24ms/step - loss: 3944258994176.0000 - val_loss: 2419247808512.0000\n",
      "Epoch 189/6010\n",
      "2/2 [==============================] - 0s 24ms/step - loss: 3924839628800.0000 - val_loss: 2391940792320.0000\n",
      "Epoch 190/6010\n",
      "2/2 [==============================] - 0s 17ms/step - loss: 3956991066112.0000 - val_loss: 2364215656448.0000\n",
      "Epoch 191/6010\n",
      "2/2 [==============================] - 0s 16ms/step - loss: 3740870377472.0000 - val_loss: 2335542607872.0000\n",
      "Epoch 192/6010\n",
      "2/2 [==============================] - 0s 17ms/step - loss: 3815605272576.0000 - val_loss: 2305545994240.0000\n",
      "Epoch 193/6010\n",
      "2/2 [==============================] - 0s 25ms/step - loss: 3884802113536.0000 - val_loss: 2274802270208.0000\n",
      "Epoch 194/6010\n",
      "2/2 [==============================] - 0s 24ms/step - loss: 3923474120704.0000 - val_loss: 2244115169280.0000\n",
      "Epoch 195/6010\n",
      "2/2 [==============================] - 0s 25ms/step - loss: 3790128021504.0000 - val_loss: 2213299617792.0000\n",
      "Epoch 196/6010\n",
      "2/2 [==============================] - 0s 25ms/step - loss: 3499793055744.0000 - val_loss: 2181322768384.0000\n",
      "Epoch 197/6010\n",
      "2/2 [==============================] - 0s 25ms/step - loss: 3583140167680.0000 - val_loss: 2148080812032.0000\n",
      "Epoch 198/6010\n",
      "2/2 [==============================] - 0s 16ms/step - loss: 3902001119232.0000 - val_loss: 2115195240448.0000\n",
      "Epoch 199/6010\n",
      "2/2 [==============================] - 0s 16ms/step - loss: 3551770443776.0000 - val_loss: 2081512620032.0000\n",
      "Epoch 200/6010\n",
      "2/2 [==============================] - 0s 16ms/step - loss: 3518155718656.0000 - val_loss: 2047024693248.0000\n",
      "Epoch 201/6010\n",
      "2/2 [==============================] - 0s 24ms/step - loss: 3419615264768.0000 - val_loss: 2012272525312.0000\n",
      "Epoch 202/6010\n",
      "2/2 [==============================] - 0s 24ms/step - loss: 3503103410176.0000 - val_loss: 1977007079424.0000\n",
      "Epoch 203/6010\n",
      "2/2 [==============================] - 0s 24ms/step - loss: 3469390643200.0000 - val_loss: 1941261385728.0000\n",
      "Epoch 204/6010\n",
      "2/2 [==============================] - 0s 16ms/step - loss: 3100249161728.0000 - val_loss: 1904376152064.0000\n",
      "Epoch 205/6010\n",
      "2/2 [==============================] - 0s 24ms/step - loss: 3343283912704.0000 - val_loss: 1868023857152.0000\n",
      "Epoch 206/6010\n",
      "2/2 [==============================] - 0s 24ms/step - loss: 3383828938752.0000 - val_loss: 1831270744064.0000\n",
      "Epoch 207/6010\n",
      "2/2 [==============================] - 0s 16ms/step - loss: 3297135820800.0000 - val_loss: 1793542848512.0000\n",
      "Epoch 208/6010\n",
      "2/2 [==============================] - 0s 24ms/step - loss: 3024414572544.0000 - val_loss: 1754812907520.0000\n",
      "Epoch 209/6010\n",
      "2/2 [==============================] - 0s 24ms/step - loss: 3184681811968.0000 - val_loss: 1716053344256.0000\n",
      "Epoch 210/6010\n",
      "2/2 [==============================] - 0s 24ms/step - loss: 3448397627392.0000 - val_loss: 1678392033280.0000\n",
      "Epoch 211/6010\n",
      "2/2 [==============================] - 0s 24ms/step - loss: 3101335224320.0000 - val_loss: 1641368518656.0000\n",
      "Epoch 212/6010\n",
      "2/2 [==============================] - 0s 24ms/step - loss: 2971279818752.0000 - val_loss: 1605087526912.0000\n",
      "Epoch 213/6010\n",
      "2/2 [==============================] - 0s 24ms/step - loss: 2734257864704.0000 - val_loss: 1568577945600.0000\n",
      "Epoch 214/6010\n",
      "2/2 [==============================] - 0s 24ms/step - loss: 3118519812096.0000 - val_loss: 1532516237312.0000\n",
      "Epoch 215/6010\n",
      "2/2 [==============================] - 0s 24ms/step - loss: 2309809242112.0000 - val_loss: 1495935483904.0000\n",
      "Epoch 216/6010\n",
      "2/2 [==============================] - 0s 25ms/step - loss: 2512761389056.0000 - val_loss: 1457999052800.0000\n",
      "Epoch 217/6010\n",
      "2/2 [==============================] - 0s 16ms/step - loss: 2773180481536.0000 - val_loss: 1419085086720.0000\n",
      "Epoch 218/6010\n",
      "2/2 [==============================] - 0s 24ms/step - loss: 2808842027008.0000 - val_loss: 1380756881408.0000\n",
      "Epoch 219/6010\n",
      "2/2 [==============================] - 0s 24ms/step - loss: 2783132254208.0000 - val_loss: 1343633227776.0000\n",
      "Epoch 220/6010\n",
      "2/2 [==============================] - 0s 24ms/step - loss: 2638046035968.0000 - val_loss: 1307165720576.0000\n",
      "Epoch 221/6010\n",
      "2/2 [==============================] - 0s 16ms/step - loss: 2500387667968.0000 - val_loss: 1271279517696.0000\n",
      "Epoch 222/6010\n",
      "2/2 [==============================] - 0s 16ms/step - loss: 2632327102464.0000 - val_loss: 1235912228864.0000\n",
      "Epoch 223/6010\n",
      "2/2 [==============================] - 0s 25ms/step - loss: 2373477990400.0000 - val_loss: 1202085560320.0000\n",
      "Epoch 224/6010\n",
      "2/2 [==============================] - 0s 25ms/step - loss: 2336553435136.0000 - val_loss: 1169300127744.0000\n",
      "Epoch 225/6010\n",
      "2/2 [==============================] - 0s 26ms/step - loss: 2368609976320.0000 - val_loss: 1136659529728.0000\n",
      "Epoch 226/6010\n",
      "2/2 [==============================] - 0s 25ms/step - loss: 2118592626688.0000 - val_loss: 1106438127616.0000\n",
      "Epoch 227/6010\n",
      "2/2 [==============================] - 0s 17ms/step - loss: 2561646526464.0000 - val_loss: 1078658007040.0000\n",
      "Epoch 228/6010\n",
      "2/2 [==============================] - 0s 24ms/step - loss: 2335125274624.0000 - val_loss: 1051810398208.0000\n",
      "Epoch 229/6010\n",
      "2/2 [==============================] - 0s 25ms/step - loss: 2282554916864.0000 - val_loss: 1024679542784.0000\n",
      "Epoch 230/6010\n",
      "2/2 [==============================] - 0s 25ms/step - loss: 2425650675712.0000 - val_loss: 997863391232.0000\n",
      "Epoch 231/6010\n",
      "2/2 [==============================] - 0s 25ms/step - loss: 2255821471744.0000 - val_loss: 972679217152.0000\n",
      "Epoch 232/6010\n",
      "2/2 [==============================] - 0s 25ms/step - loss: 2121235431424.0000 - val_loss: 948937228288.0000\n",
      "Epoch 233/6010\n",
      "2/2 [==============================] - 0s 18ms/step - loss: 2252230098944.0000 - val_loss: 926687821824.0000\n",
      "Epoch 234/6010\n",
      "2/2 [==============================] - 0s 16ms/step - loss: 1904613654528.0000 - val_loss: 903551320064.0000\n",
      "Epoch 235/6010\n",
      "2/2 [==============================] - 0s 25ms/step - loss: 2813956718592.0000 - val_loss: 881690083328.0000\n",
      "Epoch 236/6010\n",
      "2/2 [==============================] - 0s 25ms/step - loss: 2102294478848.0000 - val_loss: 861456564224.0000\n",
      "Epoch 237/6010\n",
      "2/2 [==============================] - 0s 24ms/step - loss: 1976296013824.0000 - val_loss: 841349988352.0000\n",
      "Epoch 238/6010\n",
      "2/2 [==============================] - 0s 25ms/step - loss: 1807931932672.0000 - val_loss: 821321465856.0000\n",
      "Epoch 239/6010\n",
      "2/2 [==============================] - 0s 25ms/step - loss: 1842977439744.0000 - val_loss: 801481949184.0000\n",
      "Epoch 240/6010\n",
      "2/2 [==============================] - 0s 17ms/step - loss: 2364233482240.0000 - val_loss: 783880028160.0000\n",
      "Epoch 241/6010\n",
      "2/2 [==============================] - 0s 25ms/step - loss: 1707613487104.0000 - val_loss: 767190368256.0000\n",
      "Epoch 242/6010\n",
      "2/2 [==============================] - 0s 17ms/step - loss: 2011070070784.0000 - val_loss: 752026648576.0000\n",
      "Epoch 243/6010\n",
      "2/2 [==============================] - 0s 25ms/step - loss: 1757437624320.0000 - val_loss: 738194554880.0000\n",
      "Epoch 244/6010\n",
      "2/2 [==============================] - 0s 24ms/step - loss: 2001607852032.0000 - val_loss: 725636612096.0000\n",
      "Epoch 245/6010\n",
      "2/2 [==============================] - 0s 24ms/step - loss: 2010588512256.0000 - val_loss: 713982214144.0000\n",
      "Epoch 246/6010\n",
      "2/2 [==============================] - 0s 26ms/step - loss: 2274068267008.0000 - val_loss: 703189614592.0000\n",
      "Epoch 247/6010\n",
      "2/2 [==============================] - 0s 25ms/step - loss: 2160817209344.0000 - val_loss: 693400109056.0000\n",
      "Epoch 248/6010\n",
      "2/2 [==============================] - 0s 25ms/step - loss: 2183419396096.0000 - val_loss: 684455034880.0000\n",
      "Epoch 249/6010\n",
      "2/2 [==============================] - 0s 24ms/step - loss: 2425526943744.0000 - val_loss: 676379688960.0000\n",
      "Epoch 250/6010\n",
      "2/2 [==============================] - 0s 24ms/step - loss: 2360634245120.0000 - val_loss: 669304881152.0000\n",
      "Epoch 251/6010\n",
      "2/2 [==============================] - 0s 24ms/step - loss: 2350232633344.0000 - val_loss: 661951610880.0000\n",
      "Epoch 252/6010\n",
      "2/2 [==============================] - 0s 24ms/step - loss: 1910890299392.0000 - val_loss: 653753319424.0000\n",
      "Epoch 253/6010\n",
      "2/2 [==============================] - 0s 24ms/step - loss: 1853665574912.0000 - val_loss: 648037531648.0000\n",
      "Epoch 254/6010\n",
      "2/2 [==============================] - 0s 24ms/step - loss: 1692512813056.0000 - val_loss: 642136145920.0000\n",
      "Epoch 255/6010\n",
      "2/2 [==============================] - 0s 24ms/step - loss: 1839355920384.0000 - val_loss: 636799942656.0000\n",
      "Epoch 256/6010\n",
      "2/2 [==============================] - 0s 26ms/step - loss: 1563292336128.0000 - val_loss: 632495996928.0000\n",
      "Epoch 257/6010\n",
      "2/2 [==============================] - 0s 25ms/step - loss: 1540454219776.0000 - val_loss: 627248267264.0000\n",
      "Epoch 258/6010\n",
      "2/2 [==============================] - 0s 25ms/step - loss: 1842524585984.0000 - val_loss: 620979945472.0000\n",
      "Epoch 259/6010\n",
      "2/2 [==============================] - 0s 25ms/step - loss: 2057116450816.0000 - val_loss: 614545031168.0000\n",
      "Epoch 260/6010\n",
      "2/2 [==============================] - 0s 25ms/step - loss: 1663570935808.0000 - val_loss: 608047202304.0000\n",
      "Epoch 261/6010\n",
      "2/2 [==============================] - 0s 25ms/step - loss: 1981557899264.0000 - val_loss: 602020708352.0000\n",
      "Epoch 262/6010\n",
      "2/2 [==============================] - 0s 25ms/step - loss: 1861671059456.0000 - val_loss: 596688109568.0000\n",
      "Epoch 263/6010\n",
      "2/2 [==============================] - 0s 25ms/step - loss: 2123525390336.0000 - val_loss: 592035512320.0000\n",
      "Epoch 264/6010\n",
      "2/2 [==============================] - 0s 32ms/step - loss: 2037915320320.0000 - val_loss: 587214356480.0000\n",
      "Epoch 265/6010\n",
      "2/2 [==============================] - 0s 26ms/step - loss: 1986690809856.0000 - val_loss: 581976391680.0000\n",
      "Epoch 266/6010\n",
      "2/2 [==============================] - 0s 33ms/step - loss: 2314572136448.0000 - val_loss: 577372487680.0000\n",
      "Epoch 267/6010\n",
      "2/2 [==============================] - 0s 33ms/step - loss: 1859789914112.0000 - val_loss: 573716430848.0000\n",
      "Epoch 268/6010\n",
      "2/2 [==============================] - 0s 25ms/step - loss: 2005918416896.0000 - val_loss: 571055669248.0000\n",
      "Epoch 269/6010\n",
      "2/2 [==============================] - 0s 25ms/step - loss: 1412169859072.0000 - val_loss: 570416758784.0000\n",
      "Epoch 270/6010\n",
      "2/2 [==============================] - 0s 25ms/step - loss: 1937255694336.0000 - val_loss: 570344275968.0000\n",
      "Epoch 271/6010\n",
      "2/2 [==============================] - 0s 25ms/step - loss: 1836362629120.0000 - val_loss: 571016871936.0000\n",
      "Epoch 272/6010\n",
      "2/2 [==============================] - 0s 25ms/step - loss: 2023397261312.0000 - val_loss: 572329820160.0000\n",
      "Epoch 273/6010\n",
      "2/2 [==============================] - 0s 25ms/step - loss: 1542143606784.0000 - val_loss: 572816293888.0000\n",
      "Epoch 274/6010\n",
      "2/2 [==============================] - 0s 25ms/step - loss: 2103814520832.0000 - val_loss: 571769683968.0000\n",
      "Epoch 275/6010\n",
      "2/2 [==============================] - 0s 33ms/step - loss: 2555846590464.0000 - val_loss: 571838169088.0000\n",
      "Epoch 276/6010\n",
      "2/2 [==============================] - 0s 25ms/step - loss: 2079186223104.0000 - val_loss: 572970762240.0000\n",
      "Epoch 277/6010\n",
      "2/2 [==============================] - 0s 25ms/step - loss: 1686826778624.0000 - val_loss: 574984290304.0000\n",
      "Epoch 278/6010\n",
      "2/2 [==============================] - 0s 25ms/step - loss: 1539650748416.0000 - val_loss: 575025184768.0000\n",
      "Epoch 279/6010\n",
      "2/2 [==============================] - 0s 26ms/step - loss: 1502876008448.0000 - val_loss: 573205970944.0000\n",
      "Epoch 280/6010\n",
      "2/2 [==============================] - 0s 25ms/step - loss: 1822491803648.0000 - val_loss: 571606892544.0000\n",
      "Epoch 281/6010\n",
      "2/2 [==============================] - 0s 26ms/step - loss: 1630492950528.0000 - val_loss: 569524355072.0000\n",
      "Epoch 282/6010\n",
      "2/2 [==============================] - 0s 25ms/step - loss: 2024895283200.0000 - val_loss: 567190880256.0000\n",
      "Epoch 283/6010\n",
      "2/2 [==============================] - 0s 25ms/step - loss: 1788449914880.0000 - val_loss: 565197144064.0000\n",
      "Epoch 284/6010\n",
      "2/2 [==============================] - 0s 32ms/step - loss: 2450092982272.0000 - val_loss: 564490665984.0000\n",
      "Epoch 285/6010\n",
      "2/2 [==============================] - 0s 33ms/step - loss: 2078753685504.0000 - val_loss: 563060277248.0000\n",
      "Epoch 286/6010\n",
      "2/2 [==============================] - 0s 32ms/step - loss: 2517713551360.0000 - val_loss: 563218022400.0000\n",
      "Epoch 287/6010\n",
      "2/2 [==============================] - 0s 24ms/step - loss: 2265964609536.0000 - val_loss: 563547734016.0000\n",
      "Epoch 288/6010\n",
      "2/2 [==============================] - 0s 32ms/step - loss: 1529848659968.0000 - val_loss: 563529973760.0000\n",
      "Epoch 289/6010\n",
      "2/2 [==============================] - 0s 32ms/step - loss: 1409245511680.0000 - val_loss: 562222792704.0000\n",
      "Epoch 290/6010\n",
      "2/2 [==============================] - 0s 33ms/step - loss: 1978911555584.0000 - val_loss: 561878990848.0000\n",
      "Epoch 291/6010\n",
      "2/2 [==============================] - 0s 25ms/step - loss: 1420109545472.0000 - val_loss: 560844636160.0000\n",
      "Epoch 292/6010\n",
      "2/2 [==============================] - 0s 25ms/step - loss: 1887827394560.0000 - val_loss: 559300214784.0000\n",
      "Epoch 293/6010\n",
      "2/2 [==============================] - 0s 25ms/step - loss: 1186249965568.0000 - val_loss: 555941691392.0000\n",
      "Epoch 294/6010\n",
      "2/2 [==============================] - 0s 25ms/step - loss: 1930700914688.0000 - val_loss: 552076771328.0000\n",
      "Epoch 295/6010\n",
      "2/2 [==============================] - 0s 25ms/step - loss: 2286031470592.0000 - val_loss: 550126419968.0000\n",
      "Epoch 296/6010\n",
      "2/2 [==============================] - 0s 33ms/step - loss: 1534142840832.0000 - val_loss: 547925295104.0000\n",
      "Epoch 297/6010\n",
      "2/2 [==============================] - 0s 33ms/step - loss: 1624719622144.0000 - val_loss: 546354823168.0000\n",
      "Epoch 298/6010\n",
      "2/2 [==============================] - 0s 33ms/step - loss: 1407621529600.0000 - val_loss: 544818987008.0000\n",
      "Epoch 299/6010\n",
      "2/2 [==============================] - 0s 33ms/step - loss: 1862864207872.0000 - val_loss: 543055249408.0000\n",
      "Epoch 300/6010\n",
      "2/2 [==============================] - 0s 34ms/step - loss: 1865871785984.0000 - val_loss: 540933390336.0000\n",
      "Epoch 301/6010\n",
      "2/2 [==============================] - 0s 26ms/step - loss: 1749952364544.0000 - val_loss: 538718961664.0000\n",
      "Epoch 302/6010\n",
      "2/2 [==============================] - 0s 25ms/step - loss: 2170573815808.0000 - val_loss: 537928531968.0000\n",
      "Epoch 303/6010\n",
      "2/2 [==============================] - 0s 25ms/step - loss: 1994649501696.0000 - val_loss: 539044315136.0000\n",
      "Epoch 304/6010\n",
      "2/2 [==============================] - 0s 25ms/step - loss: 1144429346816.0000 - val_loss: 540542730240.0000\n",
      "Epoch 305/6010\n",
      "2/2 [==============================] - 0s 25ms/step - loss: 1639671791616.0000 - val_loss: 541190160384.0000\n",
      "Epoch 306/6010\n",
      "2/2 [==============================] - 0s 25ms/step - loss: 1782047965184.0000 - val_loss: 541622304768.0000\n",
      "Epoch 307/6010\n",
      "2/2 [==============================] - 0s 25ms/step - loss: 1642628775936.0000 - val_loss: 542555635712.0000\n",
      "Epoch 308/6010\n",
      "2/2 [==============================] - 0s 26ms/step - loss: 1694996496384.0000 - val_loss: 542856314880.0000\n",
      "Epoch 309/6010\n",
      "2/2 [==============================] - 0s 32ms/step - loss: 1451363270656.0000 - val_loss: 542145708032.0000\n",
      "Epoch 310/6010\n",
      "2/2 [==============================] - 0s 32ms/step - loss: 1318537789440.0000 - val_loss: 539847360512.0000\n",
      "Epoch 311/6010\n",
      "2/2 [==============================] - 0s 32ms/step - loss: 1702327615488.0000 - val_loss: 536201560064.0000\n",
      "Epoch 312/6010\n",
      "2/2 [==============================] - 0s 32ms/step - loss: 2042405978112.0000 - val_loss: 531914457088.0000\n",
      "Epoch 313/6010\n",
      "2/2 [==============================] - 0s 32ms/step - loss: 2467221995520.0000 - val_loss: 529127866368.0000\n",
      "Epoch 314/6010\n",
      "2/2 [==============================] - 0s 32ms/step - loss: 2586015170560.0000 - val_loss: 527580758016.0000\n",
      "Epoch 315/6010\n",
      "2/2 [==============================] - 0s 26ms/step - loss: 2057888858112.0000 - val_loss: 525577879552.0000\n",
      "Epoch 316/6010\n",
      "2/2 [==============================] - 0s 25ms/step - loss: 2372883185664.0000 - val_loss: 524272271360.0000\n",
      "Epoch 317/6010\n",
      "2/2 [==============================] - 0s 25ms/step - loss: 2810110279680.0000 - val_loss: 526727741440.0000\n",
      "Epoch 318/6010\n",
      "2/2 [==============================] - 0s 26ms/step - loss: 2070431006720.0000 - val_loss: 529980719104.0000\n",
      "Epoch 319/6010\n",
      "2/2 [==============================] - 0s 25ms/step - loss: 1829674549248.0000 - val_loss: 531583172608.0000\n",
      "Epoch 320/6010\n",
      "2/2 [==============================] - 0s 25ms/step - loss: 2305440350208.0000 - val_loss: 531893616640.0000\n",
      "Epoch 321/6010\n",
      "2/2 [==============================] - 0s 25ms/step - loss: 1609581199360.0000 - val_loss: 531051151360.0000\n",
      "Epoch 322/6010\n",
      "2/2 [==============================] - 0s 25ms/step - loss: 1345531805696.0000 - val_loss: 530341822464.0000\n",
      "Epoch 323/6010\n",
      "2/2 [==============================] - 0s 25ms/step - loss: 1436947316736.0000 - val_loss: 529057087488.0000\n",
      "Epoch 324/6010\n",
      "2/2 [==============================] - 0s 25ms/step - loss: 1578054844416.0000 - val_loss: 527607267328.0000\n",
      "Epoch 325/6010\n",
      "2/2 [==============================] - 0s 25ms/step - loss: 2276291510272.0000 - val_loss: 526594998272.0000\n",
      "Epoch 326/6010\n",
      "2/2 [==============================] - 0s 26ms/step - loss: 1468760981504.0000 - val_loss: 524448268288.0000\n",
      "Epoch 327/6010\n",
      "2/2 [==============================] - 0s 25ms/step - loss: 1507240837120.0000 - val_loss: 521416409088.0000\n",
      "Epoch 328/6010\n",
      "2/2 [==============================] - 0s 32ms/step - loss: 1444456562688.0000 - val_loss: 517771853824.0000\n",
      "Epoch 329/6010\n",
      "2/2 [==============================] - 0s 34ms/step - loss: 2391424630784.0000 - val_loss: 514967044096.0000\n",
      "Epoch 330/6010\n",
      "2/2 [==============================] - 0s 24ms/step - loss: 1553952145408.0000 - val_loss: 512089096192.0000\n",
      "Epoch 331/6010\n",
      "2/2 [==============================] - 0s 24ms/step - loss: 1261411500032.0000 - val_loss: 509141483520.0000\n",
      "Epoch 332/6010\n",
      "2/2 [==============================] - 0s 32ms/step - loss: 1512957673472.0000 - val_loss: 505868124160.0000\n",
      "Epoch 333/6010\n",
      "2/2 [==============================] - 0s 33ms/step - loss: 1252972691456.0000 - val_loss: 503045128192.0000\n",
      "Epoch 334/6010\n",
      "2/2 [==============================] - 0s 26ms/step - loss: 1550239662080.0000 - val_loss: 501175975936.0000\n",
      "Epoch 335/6010\n",
      "2/2 [==============================] - 0s 25ms/step - loss: 2185057927168.0000 - val_loss: 499969818624.0000\n",
      "Epoch 336/6010\n",
      "2/2 [==============================] - 0s 25ms/step - loss: 1490127683584.0000 - val_loss: 499590660096.0000\n",
      "Epoch 337/6010\n",
      "2/2 [==============================] - 0s 26ms/step - loss: 2415519334400.0000 - val_loss: 499561398272.0000\n",
      "Epoch 338/6010\n",
      "2/2 [==============================] - 0s 25ms/step - loss: 1674711531520.0000 - val_loss: 499223494656.0000\n",
      "Epoch 339/6010\n",
      "2/2 [==============================] - 0s 24ms/step - loss: 1716209713152.0000 - val_loss: 498624757760.0000\n",
      "Epoch 340/6010\n",
      "2/2 [==============================] - 0s 32ms/step - loss: 1746811092992.0000 - val_loss: 497365647360.0000\n",
      "Epoch 341/6010\n",
      "2/2 [==============================] - 0s 32ms/step - loss: 1856582451200.0000 - val_loss: 496721821696.0000\n",
      "Epoch 342/6010\n",
      "2/2 [==============================] - 0s 24ms/step - loss: 1312324714496.0000 - val_loss: 496191799296.0000\n",
      "Epoch 343/6010\n",
      "2/2 [==============================] - 0s 32ms/step - loss: 1915284619264.0000 - val_loss: 495767027712.0000\n",
      "Epoch 344/6010\n",
      "2/2 [==============================] - 0s 32ms/step - loss: 1296584278016.0000 - val_loss: 494946385920.0000\n",
      "Epoch 345/6010\n",
      "2/2 [==============================] - 0s 32ms/step - loss: 2104729665536.0000 - val_loss: 494243840000.0000\n",
      "Epoch 346/6010\n",
      "2/2 [==============================] - 0s 24ms/step - loss: 1486631206912.0000 - val_loss: 494284210176.0000\n",
      "Epoch 347/6010\n",
      "2/2 [==============================] - 0s 32ms/step - loss: 1236725792768.0000 - val_loss: 494832844800.0000\n",
      "Epoch 348/6010\n",
      "2/2 [==============================] - 0s 32ms/step - loss: 2908613771264.0000 - val_loss: 497849565184.0000\n",
      "Epoch 349/6010\n",
      "2/2 [==============================] - 0s 32ms/step - loss: 1519805399040.0000 - val_loss: 502075129856.0000\n",
      "Epoch 350/6010\n",
      "2/2 [==============================] - 0s 25ms/step - loss: 1259689869312.0000 - val_loss: 505149915136.0000\n",
      "Epoch 351/6010\n",
      "2/2 [==============================] - 0s 24ms/step - loss: 1448375091200.0000 - val_loss: 508459155456.0000\n",
      "Epoch 352/6010\n",
      "2/2 [==============================] - 0s 26ms/step - loss: 1518449590272.0000 - val_loss: 511701057536.0000\n",
      "Epoch 353/6010\n",
      "2/2 [==============================] - 0s 25ms/step - loss: 2571957174272.0000 - val_loss: 514797043712.0000\n",
      "Epoch 354/6010\n",
      "2/2 [==============================] - 0s 25ms/step - loss: 2285365886976.0000 - val_loss: 517891850240.0000\n",
      "Epoch 355/6010\n",
      "2/2 [==============================] - 0s 26ms/step - loss: 1385698820096.0000 - val_loss: 520794537984.0000\n",
      "Epoch 356/6010\n",
      "2/2 [==============================] - 0s 25ms/step - loss: 2561386479616.0000 - val_loss: 522981703680.0000\n",
      "Epoch 357/6010\n",
      "2/2 [==============================] - 0s 26ms/step - loss: 1930056564736.0000 - val_loss: 524635963392.0000\n",
      "Epoch 358/6010\n",
      "2/2 [==============================] - 0s 32ms/step - loss: 1952299614208.0000 - val_loss: 526489419776.0000\n",
      "Epoch 359/6010\n",
      "2/2 [==============================] - 0s 40ms/step - loss: 1261777715200.0000 - val_loss: 528481484800.0000\n",
      "Epoch 360/6010\n",
      "2/2 [==============================] - 0s 32ms/step - loss: 2072527372288.0000 - val_loss: 529720082432.0000\n",
      "Epoch 361/6010\n",
      "2/2 [==============================] - 0s 40ms/step - loss: 2096286662656.0000 - val_loss: 531332038656.0000\n",
      "Epoch 362/6010\n",
      "2/2 [==============================] - 0s 32ms/step - loss: 1323193597952.0000 - val_loss: 532249182208.0000\n",
      "Epoch 363/6010\n",
      "2/2 [==============================] - 0s 32ms/step - loss: 1618323963904.0000 - val_loss: 531910328320.0000\n",
      "Epoch 364/6010\n",
      "2/2 [==============================] - 0s 24ms/step - loss: 1902942355456.0000 - val_loss: 533341569024.0000\n",
      "Epoch 365/6010\n",
      "2/2 [==============================] - 0s 24ms/step - loss: 1657499287552.0000 - val_loss: 535936172032.0000\n",
      "Epoch 366/6010\n",
      "2/2 [==============================] - 0s 24ms/step - loss: 1660504113152.0000 - val_loss: 537497272320.0000\n",
      "Epoch 367/6010\n",
      "2/2 [==============================] - 0s 24ms/step - loss: 1768059305984.0000 - val_loss: 537436487680.0000\n",
      "Epoch 368/6010\n",
      "2/2 [==============================] - 0s 24ms/step - loss: 1333939798016.0000 - val_loss: 537286737920.0000\n",
      "Epoch 369/6010\n",
      "2/2 [==============================] - 0s 25ms/step - loss: 1648361078784.0000 - val_loss: 537328320512.0000\n",
      "Epoch 370/6010\n",
      "2/2 [==============================] - 0s 25ms/step - loss: 2313821880320.0000 - val_loss: 536831819776.0000\n",
      "Epoch 370: early stopping\n"
     ]
    },
    {
     "data": {
      "text/plain": [
       "<keras.callbacks.History at 0x1fa67966f50>"
      ]
     },
     "execution_count": 1461,
     "metadata": {},
     "output_type": "execute_result"
    }
   ],
   "source": [
    "model.fit(x= x_train,y = y_train ,\n",
    "          epochs = 6010,\n",
    "          validation_data=(x_test,y_test),\n",
    "          callbacks = [stopping])"
   ]
  },
  {
   "cell_type": "code",
   "execution_count": 1462,
   "metadata": {},
   "outputs": [
    {
     "data": {
      "text/plain": [
       "<AxesSubplot:>"
      ]
     },
     "execution_count": 1462,
     "metadata": {},
     "output_type": "execute_result"
    },
    {
     "data": {
      "image/png": "[encoded data removed]",
      "text/plain": [
       "<Figure size 640x480 with 1 Axes>"
      ]
     },
     "metadata": {},
     "output_type": "display_data"
    }
   ],
   "source": [
    "kayip = pd.DataFrame(model.history.history)\n",
    "kayip.plot()"
   ]
  },
  {
   "cell_type": "code",
   "execution_count": 1463,
   "metadata": {},
   "outputs": [
    {
     "data": {
      "text/plain": [
       "1581157.800810323"
      ]
     },
     "execution_count": 1463,
     "metadata": {},
     "output_type": "execute_result"
    }
   ],
   "source": [
    "mean_absolute_error(y_test,tahmin)"
   ]
  },
  {
   "cell_type": "code",
   "execution_count": 1464,
   "metadata": {},
   "outputs": [],
   "source": [
    "# kayiplar = list()\n",
    "# for i in range(50,100,50):\n",
    "#     model.fit(x= x_train,y = y_train,\n",
    "#     epochs = i ,\n",
    "#     validation_data=(x_test,y_test))\n",
    "#           #callbacks = [stopping])\n",
    "#     kayiplar.append([model.history.history])"
   ]
  },
  {
   "cell_type": "code",
   "execution_count": 1465,
   "metadata": {},
   "outputs": [],
   "source": [
    "# mean_absolute_error(y_test,tahmin)"
   ]
  }
 ],
 "metadata": {
  "kernelspec": {
   "display_name": "Python 3 (ipykernel)",
   "language": "python",
   "name": "python3"
  },
  "language_info": {
   "codemirror_mode": {
    "name": "ipython",
    "version": 3
   },
   "file_extension": ".py",
   "mimetype": "text/x-python",
   "name": "python",
   "nbconvert_exporter": "python",
   "pygments_lexer": "ipython3",
   "version": "3.9.12"
  },
  "vscode": {
   "interpreter": {
    "hash": "03c4d8d893f66a00c95942b473020bc4ff2b3586422a214c9e49bf270ef10dd8"
   }
  }
 },
 "nbformat": 4,
 "nbformat_minor": 2
}
