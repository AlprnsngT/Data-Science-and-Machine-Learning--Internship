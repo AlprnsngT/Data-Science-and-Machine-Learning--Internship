{
 "cells": [
  {
   "cell_type": "code",
   "execution_count": 44,
   "metadata": {},
   "outputs": [],
   "source": [
    "import pandas as pd\n",
    "import seaborn as sns\n",
    "import matplotlib.pyplot as plt\n",
    "from sklearn.preprocessing import StandardScaler,MinMaxScaler\n",
    "import datetime as ds\n",
    "import numpy as np\n",
    "import plotly.express as px\n",
    "from sklearn.metrics import r2_score"
   ]
  },
  {
   "cell_type": "code",
   "execution_count": 45,
   "metadata": {},
   "outputs": [],
   "source": [
    "dataset = pd.read_excel(\"********.xlsx\")"
   ]
  },
  {
   "cell_type": "code",
   "execution_count": 46,
   "metadata": {},
   "outputs": [
    {
     "data": {
      "text/plain": [
       "array([66, 40, 14, 18, 37, 78, 19], dtype=int64)"
      ]
     },
     "execution_count": 46,
     "metadata": {},
     "output_type": "execute_result"
    }
   ],
   "source": [
    "\n",
    "dataset.columns = [\"il\",\"ilce\",\"yil\",\"ay\",\"sm3\"]\n",
    "\n",
    "dataset[\"il\"].unique()"
   ]
  },
  {
   "cell_type": "code",
   "execution_count": 47,
   "metadata": {},
   "outputs": [],
   "source": [
    "dataset = dataset.sort_values(\"ay\")\n",
    "dataset.reset_index(inplace=True)\n",
    "dataset.drop(\"index\",axis = 1,inplace=True)"
   ]
  },
  {
   "cell_type": "code",
   "execution_count": null,
   "metadata": {},
   "outputs": [],
   "source": [
    "dataset_hot = dataset.loc[493:1486]\n",
    "dataset_cold = dataset.loc[0:492]\n",
    "dataset_cold = dataset_cold.append(dataset.loc[1487:1885])#1748"
   ]
  },
  {
   "cell_type": "code",
   "execution_count": null,
   "metadata": {},
   "outputs": [],
   "source": [
    "dataset_cold.std()"
   ]
  },
  {
   "cell_type": "code",
   "execution_count": null,
   "metadata": {},
   "outputs": [],
   "source": [
    "dataset[dataset[\"ay\"] == 12]"
   ]
  },
  {
   "cell_type": "code",
   "execution_count": null,
   "metadata": {},
   "outputs": [],
   "source": [
    "dataset_hot = dataset.loc[660:1486]\n",
    "dataset_cold = dataset.loc[0:659]\n",
    "dataset_cold = dataset_cold.append(dataset.loc[1487:1885])"
   ]
  },
  {
   "cell_type": "code",
   "execution_count": null,
   "metadata": {},
   "outputs": [],
   "source": [
    "dataset_cold.std()"
   ]
  },
  {
   "cell_type": "code",
   "execution_count": null,
   "metadata": {},
   "outputs": [],
   "source": [
    "dataset.loc[493:660]"
   ]
  },
  {
   "cell_type": "code",
   "execution_count": null,
   "metadata": {},
   "outputs": [],
   "source": [
    "yozgat = dataset[dataset[\"il\"] == 66].drop(\"il\",axis  = 1)\n",
    "kırşehir = dataset[dataset[\"il\"] == 40].drop(\"il\",axis  = 1)\n",
    "bolu = dataset[dataset[\"il\"] == 14].drop(\"il\",axis  = 1)\n",
    "çankırı = dataset[dataset[\"il\"] == 18].drop(\"il\",axis  = 1)\n",
    "kastamonu = dataset[dataset[\"il\"] == 37].drop(\"il\",axis  = 1)\n",
    "karabük = dataset[dataset[\"il\"] == 78].drop(\"il\",axis  = 1)\n",
    "çorum = dataset[dataset[\"il\"] == 19].drop(\"il\",axis  = 1)"
   ]
  },
  {
   "cell_type": "code",
   "execution_count": null,
   "metadata": {},
   "outputs": [],
   "source": [
    "sns.pairplot(dataset)"
   ]
  },
  {
   "cell_type": "code",
   "execution_count": null,
   "metadata": {},
   "outputs": [],
   "source": [
    "yozgat = yozgat.sort_values([\"yil\",\"ilce\",\"ay\"])\n",
    "kırşehir = kırşehir.sort_values([\"ilce\",\"yil\",\"ay\"])\n",
    "bolu = bolu.sort_values([\"ilce\",\"yil\",\"ay\"])\n",
    "çankırı = çankırı.sort_values([\"ilce\",\"yil\",\"ay\"])\n",
    "kastamonu = kastamonu.sort_values([\"ilce\",\"yil\",\"ay\"])\n",
    "karabük = karabük.sort_values([\"ilce\",\"yil\",\"ay\"])\n",
    "çorum = çorum.sort_values([\"ilce\",\"yil\",\"ay\"])"
   ]
  },
  {
   "cell_type": "code",
   "execution_count": null,
   "metadata": {},
   "outputs": [],
   "source": [
    "yozgat.reset_index(inplace=True)\n",
    "yozgat.drop(\"index\",axis = 1,inplace=True)\n",
    "kırşehir.reset_index(inplace=True)\n",
    "kırşehir.drop(\"index\",axis = 1,inplace=True)\n",
    "bolu.reset_index(inplace=True)\n",
    "bolu.drop(\"index\",axis = 1,inplace=True)\n",
    "çankırı.reset_index(inplace=True)\n",
    "çankırı.drop(\"index\",axis = 1,inplace=True)\n",
    "kastamonu.reset_index(inplace=True)\n",
    "kastamonu.drop(\"index\",axis = 1,inplace=True)\n",
    "karabük.reset_index(inplace=True)\n",
    "karabük.drop(\"index\",axis = 1,inplace=True)\n",
    "çorum.reset_index(inplace=True)\n",
    "çorum.drop(\"index\",axis = 1,inplace=True)"
   ]
  },
  {
   "cell_type": "code",
   "execution_count": null,
   "metadata": {},
   "outputs": [],
   "source": [
    "yozgat.drop(\"ilce\",axis = 1,inplace=True)\n",
    "kırşehir.drop(\"ilce\",axis = 1,inplace=True)\n",
    "bolu.drop(\"ilce\",axis = 1,inplace=True)\n",
    "çankırı.drop(\"ilce\",axis = 1,inplace=True)\n",
    "kastamonu.drop(\"ilce\",axis = 1,inplace=True)\n",
    "karabük.drop(\"ilce\",axis = 1,inplace=True)\n",
    "çorum.drop(\"ilce\",axis = 1,inplace=True)\n",
    "\n"
   ]
  },
  {
   "cell_type": "code",
   "execution_count": null,
   "metadata": {},
   "outputs": [],
   "source": [
    "yozgat = pd.DataFrame(yozgat.groupby([\"yil\",\"ay\"])[\"sm3\"].sum())\n",
    "kırşehir = pd.DataFrame(kırşehir.groupby([\"yil\",\"ay\"])[\"sm3\"].sum())\n",
    "bolu = pd.DataFrame(bolu.groupby([\"yil\",\"ay\"])[\"sm3\"].sum())\n",
    "çankırı = pd.DataFrame(çankırı.groupby([\"yil\",\"ay\"])[\"sm3\"].sum())\n",
    "kastamonu = pd.DataFrame(kastamonu.groupby([\"yil\",\"ay\"])[\"sm3\"].sum())\n",
    "karabük = pd.DataFrame(karabük.groupby([\"yil\",\"ay\"])[\"sm3\"].sum())\n",
    "çorum = pd.DataFrame(çorum.groupby([\"yil\",\"ay\"])[\"sm3\"].sum())"
   ]
  },
  {
   "cell_type": "code",
   "execution_count": null,
   "metadata": {},
   "outputs": [],
   "source": [
    "yozgat.reset_index(inplace=True)\n",
    "kırşehir.reset_index(inplace=True)\n",
    "bolu.reset_index(inplace=True)\n",
    "çankırı.reset_index(inplace=True)\n",
    "kastamonu.reset_index(inplace=True)\n",
    "karabük.reset_index(inplace=True)\n",
    "çorum.reset_index(inplace=True)\n"
   ]
  },
  {
   "cell_type": "code",
   "execution_count": null,
   "metadata": {},
   "outputs": [],
   "source": [
    "plt.scatter(x = çorum[\"ay\"].loc[0:56],y = çorum[\"sm3\"].loc[0:56])"
   ]
  },
  {
   "cell_type": "code",
   "execution_count": null,
   "metadata": {},
   "outputs": [],
   "source": [
    "plt.scatter(x = yozgat[\"ay\"].loc[0:56],y = yozgat[\"sm3\"].loc[0:56])"
   ]
  },
  {
   "cell_type": "code",
   "execution_count": null,
   "metadata": {},
   "outputs": [],
   "source": [
    "plt.scatter(x = kırşehir[\"ay\"].loc[0:56],y = kırşehir[\"sm3\"].loc[0:56])"
   ]
  },
  {
   "cell_type": "code",
   "execution_count": null,
   "metadata": {},
   "outputs": [],
   "source": [
    "plt.scatter(x = bolu[\"ay\"].loc[0:56],y = bolu[\"sm3\"].loc[0:56])"
   ]
  },
  {
   "cell_type": "code",
   "execution_count": null,
   "metadata": {},
   "outputs": [],
   "source": [
    "plt.scatter(x = çankırı[\"ay\"].loc[0:56],y = çankırı[\"sm3\"].loc[0:56])"
   ]
  },
  {
   "cell_type": "code",
   "execution_count": null,
   "metadata": {},
   "outputs": [],
   "source": [
    "plt.scatter(x = kastamonu[\"ay\"].loc[0:56],y = kastamonu[\"sm3\"].loc[0:56])"
   ]
  },
  {
   "cell_type": "code",
   "execution_count": null,
   "metadata": {},
   "outputs": [],
   "source": [
    "plt.scatter(x = karabük[\"ay\"].loc[0:56],y = karabük[\"sm3\"].loc[0:56])"
   ]
  },
  {
   "cell_type": "code",
   "execution_count": null,
   "metadata": {},
   "outputs": [],
   "source": [
    "yozgat[\"ds\"] = yozgat[\"yil\"].astype(str)+'-'+yozgat[\"ay\"].astype(str)\n",
    "yozgat[\"ds\"] = pd.to_datetime(yozgat[\"ds\"])"
   ]
  },
  {
   "cell_type": "code",
   "execution_count": null,
   "metadata": {},
   "outputs": [],
   "source": [
    "yozgat.drop([\"yil\",\"ay\"],axis = 1 , inplace = True)"
   ]
  },
  {
   "cell_type": "code",
   "execution_count": null,
   "metadata": {},
   "outputs": [],
   "source": [
    "yozgat[\"y\"] = yozgat[\"sm3\"]\n",
    "yozgat.drop(\"sm3\",axis = 1,inplace = True)"
   ]
  },
  {
   "cell_type": "code",
   "execution_count": null,
   "metadata": {},
   "outputs": [],
   "source": [
    "yozgat.head()"
   ]
  },
  {
   "cell_type": "code",
   "execution_count": null,
   "metadata": {},
   "outputs": [],
   "source": [
    "from sklearn.preprocessing import PolynomialFeatures\n",
    "from sklearn.linear_model import LinearRegression"
   ]
  },
  {
   "cell_type": "code",
   "execution_count": null,
   "metadata": {},
   "outputs": [],
   "source": [
    "from prophet import Prophet\n",
    "model = Prophet()\n"
   ]
  },
  {
   "cell_type": "code",
   "execution_count": null,
   "metadata": {},
   "outputs": [],
   "source": [
    "model.fit(yozgat)"
   ]
  },
  {
   "cell_type": "code",
   "execution_count": null,
   "metadata": {},
   "outputs": [],
   "source": [
    "future = list()\n",
    "for i in range(1,13):\n",
    "    date = \"2022-%02d\" % i\n",
    "    future.append([date])\n",
    "future = pd.DataFrame(future)\n",
    "\n",
    "future.columns = [\"ds\"]\n",
    "future[\"ds\"] = pd.to_datetime(future[\"ds\"])\n",
    "\n",
    "forecast = model.predict(future)\n",
    "future.columns = [\"ds\"]\n",
    "future[\"ds\"] = pd.to_datetime(future[\"ds\"],format = '%Y')\n",
    "future"
   ]
  },
  {
   "cell_type": "code",
   "execution_count": null,
   "metadata": {},
   "outputs": [],
   "source": [
    "forecast = model.predict(future)"
   ]
  },
  {
   "cell_type": "code",
   "execution_count": null,
   "metadata": {},
   "outputs": [],
   "source": [
    "forecast[[\"ds\",\"yhat\",\"yhat_lower\",\"yhat_upper\"]]"
   ]
  },
  {
   "cell_type": "code",
   "execution_count": null,
   "metadata": {},
   "outputs": [],
   "source": [
    "model.plot(forecast)\n",
    "plt.show()"
   ]
  },
  {
   "cell_type": "code",
   "execution_count": null,
   "metadata": {},
   "outputs": [],
   "source": [
    "y_true = yozgat[\"y\"].loc[48:56].values\n",
    "y_predict = forecast[\"yhat\"].loc[0:8].values"
   ]
  },
  {
   "cell_type": "code",
   "execution_count": null,
   "metadata": {},
   "outputs": [],
   "source": [
    "from sklearn.metrics import mean_absolute_error"
   ]
  },
  {
   "cell_type": "code",
   "execution_count": null,
   "metadata": {},
   "outputs": [],
   "source": [
    "print(\"%.2f\"%mean_absolute_error(y_true,y_predict))"
   ]
  },
  {
   "cell_type": "code",
   "execution_count": null,
   "metadata": {},
   "outputs": [],
   "source": [
    "plt.plot(y_true)\n",
    "plt.plot(y_predict)"
   ]
  },
  {
   "cell_type": "code",
   "execution_count": null,
   "metadata": {},
   "outputs": [],
   "source": [
    "r2_score(y_true,y_predict)"
   ]
  },
  {
   "cell_type": "code",
   "execution_count": null,
   "metadata": {},
   "outputs": [],
   "source": [
    "px.line(forecast,x = forecast[\"ds\"] , y = forecast[\"yhat\"])"
   ]
  },
  {
   "cell_type": "code",
   "execution_count": null,
   "metadata": {},
   "outputs": [],
   "source": [
    "model = Prophet()"
   ]
  },
  {
   "cell_type": "code",
   "execution_count": null,
   "metadata": {},
   "outputs": [],
   "source": [
    "kırşehir[\"ds\"] = kırşehir[\"yil\"].astype(str)+'-'+kırşehir[\"ay\"].astype(str)\n",
    "kırşehir[\"ds\"] = pd.to_datetime(kırşehir[\"ds\"])"
   ]
  },
  {
   "cell_type": "code",
   "execution_count": null,
   "metadata": {},
   "outputs": [],
   "source": [
    "kırşehir.drop([\"yil\",\"ay\"],axis = 1 , inplace = True)\n",
    "kırşehir[\"y\"] = kırşehir[\"sm3\"]\n",
    "kırşehir.drop(\"sm3\",axis = 1,inplace = True)"
   ]
  },
  {
   "cell_type": "code",
   "execution_count": null,
   "metadata": {},
   "outputs": [],
   "source": [
    "model.fit(kırşehir)"
   ]
  },
  {
   "cell_type": "code",
   "execution_count": null,
   "metadata": {},
   "outputs": [],
   "source": [
    "future = list()\n",
    "for i in range(1,13):\n",
    "    date = \"2022-%02d\" % i\n",
    "    future.append([date])\n",
    "future = pd.DataFrame(future)\n",
    "\n",
    "future.columns = [\"ds\"]\n",
    "future[\"ds\"] = pd.to_datetime(future[\"ds\"])\n",
    "\n",
    "forecast = model.predict(future)\n",
    "future.columns = [\"ds\"]\n",
    "future[\"ds\"] = pd.to_datetime(future[\"ds\"],format = '%Y')\n",
    "future"
   ]
  },
  {
   "cell_type": "code",
   "execution_count": null,
   "metadata": {},
   "outputs": [],
   "source": [
    "forecast = model.predict(future)"
   ]
  },
  {
   "cell_type": "code",
   "execution_count": null,
   "metadata": {},
   "outputs": [],
   "source": [
    "model.plot(forecast)\n",
    "plt.show()"
   ]
  },
  {
   "cell_type": "code",
   "execution_count": null,
   "metadata": {},
   "outputs": [],
   "source": [
    "px.line(kırşehir,x = kırşehir[\"ds\"],y = kırşehir[\"y\"])"
   ]
  },
  {
   "cell_type": "code",
   "execution_count": null,
   "metadata": {},
   "outputs": [],
   "source": [
    "y_true = kırşehir[\"y\"].loc[48:56].values\n",
    "y_predict = forecast[\"yhat\"].loc[0:8].values"
   ]
  },
  {
   "cell_type": "code",
   "execution_count": null,
   "metadata": {},
   "outputs": [],
   "source": [
    "plt.plot(y_true)\n",
    "plt.plot(y_predict)"
   ]
  },
  {
   "cell_type": "code",
   "execution_count": null,
   "metadata": {},
   "outputs": [],
   "source": [
    "r2_score(y_true,y_predict)"
   ]
  },
  {
   "cell_type": "code",
   "execution_count": null,
   "metadata": {},
   "outputs": [],
   "source": [
    "print(\"%.2f\"%mean_absolute_error(y_true,y_predict))"
   ]
  },
  {
   "cell_type": "code",
   "execution_count": null,
   "metadata": {},
   "outputs": [],
   "source": [
    "model = Prophet()"
   ]
  },
  {
   "cell_type": "code",
   "execution_count": null,
   "metadata": {},
   "outputs": [],
   "source": [
    "bolu[\"ds\"] = bolu[\"yil\"].astype(str)+'-'+bolu[\"ay\"].astype(str)\n",
    "bolu[\"ds\"] = pd.to_datetime(bolu[\"ds\"]) \n",
    "bolu.drop([\"yil\",\"ay\"],axis = 1 , inplace = True)\n",
    "bolu[\"y\"] = bolu[\"sm3\"]\n",
    "bolu.drop(\"sm3\",axis = 1,inplace = True)"
   ]
  },
  {
   "cell_type": "code",
   "execution_count": null,
   "metadata": {},
   "outputs": [],
   "source": [
    "model.fit(bolu)"
   ]
  },
  {
   "cell_type": "code",
   "execution_count": null,
   "metadata": {},
   "outputs": [],
   "source": [
    "future = list()\n",
    "for i in range(1,13):\n",
    "    date = \"2022-%02d\" % i\n",
    "    future.append([date])\n",
    "future = pd.DataFrame(future)\n",
    "\n",
    "future.columns = [\"ds\"]\n",
    "future[\"ds\"] = pd.to_datetime(future[\"ds\"])\n",
    "\n",
    "forecast = model.predict(future)\n",
    "future.columns = [\"ds\"]\n",
    "future[\"ds\"] = pd.to_datetime(future[\"ds\"],format = '%Y')\n",
    "future"
   ]
  },
  {
   "cell_type": "code",
   "execution_count": null,
   "metadata": {},
   "outputs": [],
   "source": [
    "forecast = model.predict(future)"
   ]
  },
  {
   "cell_type": "code",
   "execution_count": null,
   "metadata": {},
   "outputs": [],
   "source": [
    "model.plot(forecast)\n",
    "plt.show()"
   ]
  },
  {
   "cell_type": "code",
   "execution_count": null,
   "metadata": {},
   "outputs": [],
   "source": [
    "px.line(bolu,x = bolu[\"ds\"],y = bolu[\"y\"])"
   ]
  },
  {
   "cell_type": "code",
   "execution_count": null,
   "metadata": {},
   "outputs": [],
   "source": [
    "bolu.loc[48:56]"
   ]
  },
  {
   "cell_type": "code",
   "execution_count": null,
   "metadata": {},
   "outputs": [],
   "source": [
    "forecast.loc[0:8]"
   ]
  },
  {
   "cell_type": "code",
   "execution_count": null,
   "metadata": {},
   "outputs": [],
   "source": [
    "y_true = bolu[\"y\"].loc[48:56].values\n",
    "y_predict = forecast[\"yhat\"].loc[0:8].values\n",
    "print(\"%.2f\"%mean_absolute_error(y_true,y_predict))\n",
    "plt.plot(y_true)\n",
    "plt.plot(y_predict)\n",
    "plt.legend()\n",
    "#517285.12"
   ]
  },
  {
   "cell_type": "code",
   "execution_count": null,
   "metadata": {},
   "outputs": [],
   "source": [
    "r2_score(y_true,y_predict)"
   ]
  },
  {
   "cell_type": "code",
   "execution_count": null,
   "metadata": {},
   "outputs": [],
   "source": [
    "model = Prophet()"
   ]
  },
  {
   "cell_type": "code",
   "execution_count": null,
   "metadata": {},
   "outputs": [],
   "source": [
    "çankırı[\"ds\"] = çankırı[\"yil\"].astype(str)+'-'+çankırı[\"ay\"].astype(str)\n",
    "çankırı[\"ds\"] = pd.to_datetime(çankırı[\"ds\"])\n",
    "çankırı.drop([\"yil\",\"ay\"],axis = 1 , inplace = True)\n",
    "çankırı[\"y\"] = çankırı[\"sm3\"]\n",
    "çankırı.drop(\"sm3\",axis = 1,inplace = True)"
   ]
  },
  {
   "cell_type": "code",
   "execution_count": null,
   "metadata": {},
   "outputs": [],
   "source": [
    "model.fit(çankırı)"
   ]
  },
  {
   "cell_type": "code",
   "execution_count": null,
   "metadata": {},
   "outputs": [],
   "source": [
    "future = list()\n",
    "for i in range(1,13):\n",
    "    date = \"2022-%02d\" % i\n",
    "    future.append([date])\n",
    "future = pd.DataFrame(future)\n",
    "\n",
    "future.columns = [\"ds\"]\n",
    "future[\"ds\"] = pd.to_datetime(future[\"ds\"])\n",
    "\n",
    "forecast = model.predict(future)\n",
    "future.columns = [\"ds\"]\n",
    "future[\"ds\"] = pd.to_datetime(future[\"ds\"],format = '%Y')\n",
    "future"
   ]
  },
  {
   "cell_type": "code",
   "execution_count": null,
   "metadata": {},
   "outputs": [],
   "source": [
    "forecast = model.predict(future)"
   ]
  },
  {
   "cell_type": "code",
   "execution_count": null,
   "metadata": {},
   "outputs": [],
   "source": [
    "model.plot(forecast)\n",
    "plt.show()"
   ]
  },
  {
   "cell_type": "code",
   "execution_count": null,
   "metadata": {},
   "outputs": [],
   "source": [
    "forecast[\"yhat\"]"
   ]
  },
  {
   "cell_type": "code",
   "execution_count": null,
   "metadata": {},
   "outputs": [],
   "source": [
    "bolu.loc[48:56]"
   ]
  },
  {
   "cell_type": "code",
   "execution_count": null,
   "metadata": {},
   "outputs": [],
   "source": [
    "y_true = çankırı[\"y\"].loc[48:56].values\n",
    "y_predict = forecast[\"yhat\"].loc[0:8].values\n",
    "print(\"%.2f\"%mean_absolute_error(y_true,y_predict))\n",
    "plt.plot(y_true)\n",
    "plt.plot(y_predict)\n",
    "plt.legend()"
   ]
  },
  {
   "cell_type": "code",
   "execution_count": null,
   "metadata": {},
   "outputs": [],
   "source": [
    "from sklearn.metrics import r2_score"
   ]
  },
  {
   "cell_type": "code",
   "execution_count": null,
   "metadata": {},
   "outputs": [],
   "source": [
    "r2_score(y_true,y_predict)"
   ]
  },
  {
   "cell_type": "markdown",
   "metadata": {},
   "source": [
    "### MAKİNE ÖĞRENMESİ"
   ]
  },
  {
   "cell_type": "code",
   "execution_count": null,
   "metadata": {},
   "outputs": [],
   "source": [
    "from sklearn.model_selection import train_test_split"
   ]
  },
  {
   "cell_type": "code",
   "execution_count": null,
   "metadata": {},
   "outputs": [],
   "source": [
    "y = np.array(bolu[\"y\"].values).reshape(-1,1)\n",
    "x = np.array(bolu[\"ds\"].values).reshape(-1,1)"
   ]
  },
  {
   "cell_type": "code",
   "execution_count": null,
   "metadata": {},
   "outputs": [],
   "source": [
    "x_train,x_test,y_train,y_test = train_test_split(x,y,test_size=0.3)"
   ]
  },
  {
   "cell_type": "code",
   "execution_count": null,
   "metadata": {},
   "outputs": [],
   "source": [
    "x_train.shape"
   ]
  },
  {
   "cell_type": "code",
   "execution_count": null,
   "metadata": {},
   "outputs": [],
   "source": [
    "x_test.shape"
   ]
  },
  {
   "cell_type": "code",
   "execution_count": null,
   "metadata": {},
   "outputs": [],
   "source": [
    "from sklearn.preprocessing import MinMaxScaler\n",
    "scaler = MinMaxScaler()"
   ]
  },
  {
   "cell_type": "code",
   "execution_count": null,
   "metadata": {},
   "outputs": [],
   "source": [
    "x_train = scaler.fit_transform(x_train)\n",
    "x_test = scaler.transform(x_test)"
   ]
  },
  {
   "cell_type": "code",
   "execution_count": null,
   "metadata": {},
   "outputs": [],
   "source": [
    "from tensorflow.keras.models import Sequential\n",
    "from tensorflow.keras.layers import Dense\n",
    "from tensorflow.keras.callbacks import EarlyStopping"
   ]
  },
  {
   "cell_type": "code",
   "execution_count": null,
   "metadata": {},
   "outputs": [],
   "source": [
    "model = Sequential()"
   ]
  },
  {
   "cell_type": "code",
   "execution_count": null,
   "metadata": {},
   "outputs": [],
   "source": [
    "model.add(Dense(5,activation = \"relu\"))\n",
    "model.add(Dense(5,activation = \"relu\"))\n",
    "model.add(Dense(5,activation = \"relu\"))\n",
    "model.add(Dense(5,activation = \"relu\"))\n",
    "model.add(Dense(5,activation = \"relu\"))\n",
    "\n",
    "model.add(Dense(1))\n",
    "model.compile(optimizer = \"adam\",loss = \"mse\")"
   ]
  },
  {
   "cell_type": "code",
   "execution_count": null,
   "metadata": {},
   "outputs": [],
   "source": [
    "model.fit(x= x_train,y = y_train ,\n",
    "          epochs = 4000 ,\n",
    "          validation_data=(x_test,y_test))"
   ]
  },
  {
   "cell_type": "code",
   "execution_count": null,
   "metadata": {},
   "outputs": [],
   "source": [
    "kayip = pd.DataFrame(model.history.history)\n",
    "kayip.plot()"
   ]
  },
  {
   "cell_type": "code",
   "execution_count": null,
   "metadata": {},
   "outputs": [],
   "source": [
    "tahmin = model.predict(x_test)"
   ]
  },
  {
   "cell_type": "code",
   "execution_count": null,
   "metadata": {},
   "outputs": [],
   "source": [
    "mean_absolute_error(y_test,tahmin)"
   ]
  },
  {
   "cell_type": "code",
   "execution_count": null,
   "metadata": {},
   "outputs": [],
   "source": [
    "bolu[\"y\"].mean()"
   ]
  },
  {
   "cell_type": "code",
   "execution_count": null,
   "metadata": {},
   "outputs": [],
   "source": [
    "stopping = EarlyStopping(monitor=\"val_loss\",mode = \"auto\",verbose = 1 ,patience=25)"
   ]
  },
  {
   "cell_type": "code",
   "execution_count": null,
   "metadata": {},
   "outputs": [],
   "source": [
    "import tensorflow as tf"
   ]
  },
  {
   "cell_type": "code",
   "execution_count": null,
   "metadata": {},
   "outputs": [],
   "source": [
    "model.fit(x= x_train,y = y_train ,\n",
    "          epochs = 100000 ,\n",
    "          validation_data=(x_test,y_test),\n",
    "          callbacks = [stopping])"
   ]
  },
  {
   "cell_type": "code",
   "execution_count": null,
   "metadata": {},
   "outputs": [],
   "source": [
    "kayip = pd.DataFrame(model.history.history)\n",
    "kayip.plot()"
   ]
  },
  {
   "cell_type": "code",
   "execution_count": null,
   "metadata": {},
   "outputs": [],
   "source": [
    "mean_absolute_error(y_test,tahmin)"
   ]
  },
  {
   "cell_type": "code",
   "execution_count": null,
   "metadata": {},
   "outputs": [],
   "source": [
    "kayiplar = list()\n",
    "for i in range(50,10000,50):\n",
    "    model.fit(x= x_train,y = y_train,\n",
    "    epochs = i ,\n",
    "    validation_data=(x_test,y_test))\n",
    "          #callbacks = [stopping])\n",
    "    kayiplar.append([model.history.history])"
   ]
  }
 ],
 "metadata": {
  "kernelspec": {
   "display_name": "Python 3 (ipykernel)",
   "language": "python",
   "name": "python3"
  },
  "language_info": {
   "codemirror_mode": {
    "name": "ipython",
    "version": 3
   },
   "file_extension": ".py",
   "mimetype": "text/x-python",
   "name": "python",
   "nbconvert_exporter": "python",
   "pygments_lexer": "ipython3",
   "version": "3.9.12"
  },
  "vscode": {
   "interpreter": {
    "hash": "03c4d8d893f66a00c95942b473020bc4ff2b3586422a214c9e49bf270ef10dd8"
   }
  }
 },
 "nbformat": 4,
 "nbformat_minor": 2
}
